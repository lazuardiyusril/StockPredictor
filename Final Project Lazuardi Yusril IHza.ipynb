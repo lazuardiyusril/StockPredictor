{
 "cells": [
  {
   "cell_type": "code",
   "execution_count": 1,
   "metadata": {
    "ExecuteTime": {
     "end_time": "2019-11-18T12:48:44.233385Z",
     "start_time": "2019-11-18T12:48:42.568251Z"
    }
   },
   "outputs": [],
   "source": [
    "import pandas as pd\n",
    "import seaborn as sns\n",
    "import matplotlib.pyplot as plt\n",
    "import numpy as np\n",
    "from sklearn.model_selection import GridSearchCV\n",
    "from sklearn.metrics import classification_report, confusion_matrix, accuracy_score,roc_auc_score, f1_score, log_loss, matthews_corrcoef\n",
    "%matplotlib inline\n",
    "from sklearn.model_selection import train_test_split\n",
    "pd.set_option('display.max_columns', None)\n",
    "from xgboost import XGBClassifier"
   ]
  },
  {
   "cell_type": "markdown",
   "metadata": {},
   "source": [
    "## Stock Predictor\n",
    "\n",
    "### Saya menyusun kode machine learning ini bertujuan untuk membantu saya dalam menentukan kapan saya harus melakukan ambil posisi buy dan kapan saya harus melakukan take profit"
   ]
  },
  {
   "cell_type": "code",
   "execution_count": 2,
   "metadata": {
    "ExecuteTime": {
     "end_time": "2019-11-18T12:48:44.401367Z",
     "start_time": "2019-11-18T12:48:44.237330Z"
    }
   },
   "outputs": [],
   "source": [
    "from yahoo_historical import Fetcher"
   ]
  },
  {
   "cell_type": "code",
   "execution_count": 3,
   "metadata": {
    "ExecuteTime": {
     "end_time": "2019-11-18T12:48:48.845837Z",
     "start_time": "2019-11-18T12:48:44.401367Z"
    }
   },
   "outputs": [],
   "source": [
    "df = Fetcher('SMGR.JK',[2010,1,1],[2019,1,1]).getHistorical()"
   ]
  },
  {
   "cell_type": "code",
   "execution_count": 4,
   "metadata": {
    "ExecuteTime": {
     "end_time": "2019-11-18T12:48:48.869361Z",
     "start_time": "2019-11-18T12:48:48.845837Z"
    }
   },
   "outputs": [
    {
     "data": {
      "text/html": [
       "<div>\n",
       "<style scoped>\n",
       "    .dataframe tbody tr th:only-of-type {\n",
       "        vertical-align: middle;\n",
       "    }\n",
       "\n",
       "    .dataframe tbody tr th {\n",
       "        vertical-align: top;\n",
       "    }\n",
       "\n",
       "    .dataframe thead th {\n",
       "        text-align: right;\n",
       "    }\n",
       "</style>\n",
       "<table border=\"1\" class=\"dataframe\">\n",
       "  <thead>\n",
       "    <tr style=\"text-align: right;\">\n",
       "      <th></th>\n",
       "      <th>Date</th>\n",
       "      <th>Open</th>\n",
       "      <th>High</th>\n",
       "      <th>Low</th>\n",
       "      <th>Close</th>\n",
       "      <th>Adj Close</th>\n",
       "      <th>Volume</th>\n",
       "    </tr>\n",
       "  </thead>\n",
       "  <tbody>\n",
       "    <tr>\n",
       "      <th>0</th>\n",
       "      <td>2010-01-04</td>\n",
       "      <td>7600.0</td>\n",
       "      <td>7650.0</td>\n",
       "      <td>7500.0</td>\n",
       "      <td>7600.0</td>\n",
       "      <td>5834.542969</td>\n",
       "      <td>3979000.0</td>\n",
       "    </tr>\n",
       "    <tr>\n",
       "      <th>1</th>\n",
       "      <td>2010-01-05</td>\n",
       "      <td>7700.0</td>\n",
       "      <td>7750.0</td>\n",
       "      <td>7650.0</td>\n",
       "      <td>7700.0</td>\n",
       "      <td>5911.312988</td>\n",
       "      <td>5844500.0</td>\n",
       "    </tr>\n",
       "    <tr>\n",
       "      <th>2</th>\n",
       "      <td>2010-01-06</td>\n",
       "      <td>7800.0</td>\n",
       "      <td>7950.0</td>\n",
       "      <td>7700.0</td>\n",
       "      <td>7800.0</td>\n",
       "      <td>5988.083008</td>\n",
       "      <td>4945000.0</td>\n",
       "    </tr>\n",
       "    <tr>\n",
       "      <th>3</th>\n",
       "      <td>2010-01-07</td>\n",
       "      <td>7700.0</td>\n",
       "      <td>7950.0</td>\n",
       "      <td>7600.0</td>\n",
       "      <td>7700.0</td>\n",
       "      <td>5911.312988</td>\n",
       "      <td>3886000.0</td>\n",
       "    </tr>\n",
       "    <tr>\n",
       "      <th>4</th>\n",
       "      <td>2010-01-08</td>\n",
       "      <td>7650.0</td>\n",
       "      <td>7750.0</td>\n",
       "      <td>7600.0</td>\n",
       "      <td>7650.0</td>\n",
       "      <td>5872.927246</td>\n",
       "      <td>9397500.0</td>\n",
       "    </tr>\n",
       "  </tbody>\n",
       "</table>\n",
       "</div>"
      ],
      "text/plain": [
       "         Date    Open    High     Low   Close    Adj Close     Volume\n",
       "0  2010-01-04  7600.0  7650.0  7500.0  7600.0  5834.542969  3979000.0\n",
       "1  2010-01-05  7700.0  7750.0  7650.0  7700.0  5911.312988  5844500.0\n",
       "2  2010-01-06  7800.0  7950.0  7700.0  7800.0  5988.083008  4945000.0\n",
       "3  2010-01-07  7700.0  7950.0  7600.0  7700.0  5911.312988  3886000.0\n",
       "4  2010-01-08  7650.0  7750.0  7600.0  7650.0  5872.927246  9397500.0"
      ]
     },
     "execution_count": 4,
     "metadata": {},
     "output_type": "execute_result"
    }
   ],
   "source": [
    "df.head()"
   ]
  },
  {
   "cell_type": "code",
   "execution_count": 5,
   "metadata": {
    "ExecuteTime": {
     "end_time": "2019-11-18T12:48:48.885322Z",
     "start_time": "2019-11-18T12:48:48.869361Z"
    }
   },
   "outputs": [
    {
     "name": "stdout",
     "output_type": "stream",
     "text": [
      "<class 'pandas.core.frame.DataFrame'>\n",
      "RangeIndex: 2233 entries, 0 to 2232\n",
      "Data columns (total 7 columns):\n",
      "Date         2233 non-null object\n",
      "Open         2224 non-null float64\n",
      "High         2224 non-null float64\n",
      "Low          2224 non-null float64\n",
      "Close        2224 non-null float64\n",
      "Adj Close    2224 non-null float64\n",
      "Volume       2224 non-null float64\n",
      "dtypes: float64(6), object(1)\n",
      "memory usage: 122.2+ KB\n"
     ]
    }
   ],
   "source": [
    "df.info()"
   ]
  },
  {
   "cell_type": "code",
   "execution_count": 6,
   "metadata": {
    "ExecuteTime": {
     "end_time": "2019-11-18T12:48:48.917358Z",
     "start_time": "2019-11-18T12:48:48.885322Z"
    }
   },
   "outputs": [
    {
     "data": {
      "text/html": [
       "<div>\n",
       "<style scoped>\n",
       "    .dataframe tbody tr th:only-of-type {\n",
       "        vertical-align: middle;\n",
       "    }\n",
       "\n",
       "    .dataframe tbody tr th {\n",
       "        vertical-align: top;\n",
       "    }\n",
       "\n",
       "    .dataframe thead th {\n",
       "        text-align: right;\n",
       "    }\n",
       "</style>\n",
       "<table border=\"1\" class=\"dataframe\">\n",
       "  <thead>\n",
       "    <tr style=\"text-align: right;\">\n",
       "      <th></th>\n",
       "      <th>Open</th>\n",
       "      <th>High</th>\n",
       "      <th>Low</th>\n",
       "      <th>Close</th>\n",
       "      <th>Adj Close</th>\n",
       "      <th>Volume</th>\n",
       "    </tr>\n",
       "  </thead>\n",
       "  <tbody>\n",
       "    <tr>\n",
       "      <th>count</th>\n",
       "      <td>2224.000000</td>\n",
       "      <td>2224.000000</td>\n",
       "      <td>2224.000000</td>\n",
       "      <td>2224.000000</td>\n",
       "      <td>2224.000000</td>\n",
       "      <td>2.224000e+03</td>\n",
       "    </tr>\n",
       "    <tr>\n",
       "      <th>mean</th>\n",
       "      <td>11429.249101</td>\n",
       "      <td>11567.367356</td>\n",
       "      <td>11273.223921</td>\n",
       "      <td>11422.380845</td>\n",
       "      <td>9989.369743</td>\n",
       "      <td>6.981357e+06</td>\n",
       "    </tr>\n",
       "    <tr>\n",
       "      <th>std</th>\n",
       "      <td>2849.986966</td>\n",
       "      <td>2872.692198</td>\n",
       "      <td>2822.636829</td>\n",
       "      <td>2844.977986</td>\n",
       "      <td>2456.139681</td>\n",
       "      <td>5.430919e+06</td>\n",
       "    </tr>\n",
       "    <tr>\n",
       "      <th>min</th>\n",
       "      <td>6725.000000</td>\n",
       "      <td>6950.000000</td>\n",
       "      <td>6500.000000</td>\n",
       "      <td>6725.000000</td>\n",
       "      <td>5604.231934</td>\n",
       "      <td>0.000000e+00</td>\n",
       "    </tr>\n",
       "    <tr>\n",
       "      <th>25%</th>\n",
       "      <td>9225.000000</td>\n",
       "      <td>9325.000000</td>\n",
       "      <td>9075.000000</td>\n",
       "      <td>9218.750000</td>\n",
       "      <td>8146.754394</td>\n",
       "      <td>3.899150e+06</td>\n",
       "    </tr>\n",
       "    <tr>\n",
       "      <th>50%</th>\n",
       "      <td>10437.500000</td>\n",
       "      <td>10575.000000</td>\n",
       "      <td>10300.000000</td>\n",
       "      <td>10450.000000</td>\n",
       "      <td>9574.803711</td>\n",
       "      <td>5.751350e+06</td>\n",
       "    </tr>\n",
       "    <tr>\n",
       "      <th>75%</th>\n",
       "      <td>13800.000000</td>\n",
       "      <td>14000.000000</td>\n",
       "      <td>13562.500000</td>\n",
       "      <td>13800.000000</td>\n",
       "      <td>11947.580811</td>\n",
       "      <td>8.597425e+06</td>\n",
       "    </tr>\n",
       "    <tr>\n",
       "      <th>max</th>\n",
       "      <td>19000.000000</td>\n",
       "      <td>19150.000000</td>\n",
       "      <td>18800.000000</td>\n",
       "      <td>19000.000000</td>\n",
       "      <td>15924.331055</td>\n",
       "      <td>7.413070e+07</td>\n",
       "    </tr>\n",
       "  </tbody>\n",
       "</table>\n",
       "</div>"
      ],
      "text/plain": [
       "               Open          High           Low         Close     Adj Close  \\\n",
       "count   2224.000000   2224.000000   2224.000000   2224.000000   2224.000000   \n",
       "mean   11429.249101  11567.367356  11273.223921  11422.380845   9989.369743   \n",
       "std     2849.986966   2872.692198   2822.636829   2844.977986   2456.139681   \n",
       "min     6725.000000   6950.000000   6500.000000   6725.000000   5604.231934   \n",
       "25%     9225.000000   9325.000000   9075.000000   9218.750000   8146.754394   \n",
       "50%    10437.500000  10575.000000  10300.000000  10450.000000   9574.803711   \n",
       "75%    13800.000000  14000.000000  13562.500000  13800.000000  11947.580811   \n",
       "max    19000.000000  19150.000000  18800.000000  19000.000000  15924.331055   \n",
       "\n",
       "             Volume  \n",
       "count  2.224000e+03  \n",
       "mean   6.981357e+06  \n",
       "std    5.430919e+06  \n",
       "min    0.000000e+00  \n",
       "25%    3.899150e+06  \n",
       "50%    5.751350e+06  \n",
       "75%    8.597425e+06  \n",
       "max    7.413070e+07  "
      ]
     },
     "execution_count": 6,
     "metadata": {},
     "output_type": "execute_result"
    }
   ],
   "source": [
    "df.describe()"
   ]
  },
  {
   "cell_type": "markdown",
   "metadata": {},
   "source": [
    "### 1. Menghapus variable yang tidak perlu"
   ]
  },
  {
   "cell_type": "code",
   "execution_count": 7,
   "metadata": {
    "ExecuteTime": {
     "end_time": "2019-11-18T12:48:48.929320Z",
     "start_time": "2019-11-18T12:48:48.917358Z"
    }
   },
   "outputs": [],
   "source": [
    "df.drop(['Open','Close'], axis = 1, inplace = True)\n",
    "df['Date'] = pd.to_datetime(df['Date'])"
   ]
  },
  {
   "cell_type": "markdown",
   "metadata": {},
   "source": [
    "### 2. Mengganti value 0 dengan NaN dan menghapusnya agar data bersih"
   ]
  },
  {
   "cell_type": "code",
   "execution_count": 8,
   "metadata": {
    "ExecuteTime": {
     "end_time": "2019-11-18T12:48:48.985357Z",
     "start_time": "2019-11-18T12:48:48.933323Z"
    }
   },
   "outputs": [],
   "source": [
    "df.replace(0, np.nan, inplace=True)"
   ]
  },
  {
   "cell_type": "code",
   "execution_count": 9,
   "metadata": {
    "ExecuteTime": {
     "end_time": "2019-11-18T12:48:48.997320Z",
     "start_time": "2019-11-18T12:48:48.989326Z"
    }
   },
   "outputs": [],
   "source": [
    "df.dropna(inplace = True)"
   ]
  },
  {
   "cell_type": "code",
   "execution_count": 10,
   "metadata": {
    "ExecuteTime": {
     "end_time": "2019-11-18T12:48:49.013320Z",
     "start_time": "2019-11-18T12:48:48.997320Z"
    }
   },
   "outputs": [
    {
     "data": {
      "text/html": [
       "<div>\n",
       "<style scoped>\n",
       "    .dataframe tbody tr th:only-of-type {\n",
       "        vertical-align: middle;\n",
       "    }\n",
       "\n",
       "    .dataframe tbody tr th {\n",
       "        vertical-align: top;\n",
       "    }\n",
       "\n",
       "    .dataframe thead th {\n",
       "        text-align: right;\n",
       "    }\n",
       "</style>\n",
       "<table border=\"1\" class=\"dataframe\">\n",
       "  <thead>\n",
       "    <tr style=\"text-align: right;\">\n",
       "      <th></th>\n",
       "      <th>Date</th>\n",
       "      <th>High</th>\n",
       "      <th>Low</th>\n",
       "      <th>Adj Close</th>\n",
       "      <th>Volume</th>\n",
       "    </tr>\n",
       "  </thead>\n",
       "  <tbody>\n",
       "    <tr>\n",
       "      <th>0</th>\n",
       "      <td>2010-01-04</td>\n",
       "      <td>7650.0</td>\n",
       "      <td>7500.0</td>\n",
       "      <td>5834.542969</td>\n",
       "      <td>3979000.0</td>\n",
       "    </tr>\n",
       "    <tr>\n",
       "      <th>1</th>\n",
       "      <td>2010-01-05</td>\n",
       "      <td>7750.0</td>\n",
       "      <td>7650.0</td>\n",
       "      <td>5911.312988</td>\n",
       "      <td>5844500.0</td>\n",
       "    </tr>\n",
       "    <tr>\n",
       "      <th>2</th>\n",
       "      <td>2010-01-06</td>\n",
       "      <td>7950.0</td>\n",
       "      <td>7700.0</td>\n",
       "      <td>5988.083008</td>\n",
       "      <td>4945000.0</td>\n",
       "    </tr>\n",
       "    <tr>\n",
       "      <th>3</th>\n",
       "      <td>2010-01-07</td>\n",
       "      <td>7950.0</td>\n",
       "      <td>7600.0</td>\n",
       "      <td>5911.312988</td>\n",
       "      <td>3886000.0</td>\n",
       "    </tr>\n",
       "    <tr>\n",
       "      <th>4</th>\n",
       "      <td>2010-01-08</td>\n",
       "      <td>7750.0</td>\n",
       "      <td>7600.0</td>\n",
       "      <td>5872.927246</td>\n",
       "      <td>9397500.0</td>\n",
       "    </tr>\n",
       "  </tbody>\n",
       "</table>\n",
       "</div>"
      ],
      "text/plain": [
       "        Date    High     Low    Adj Close     Volume\n",
       "0 2010-01-04  7650.0  7500.0  5834.542969  3979000.0\n",
       "1 2010-01-05  7750.0  7650.0  5911.312988  5844500.0\n",
       "2 2010-01-06  7950.0  7700.0  5988.083008  4945000.0\n",
       "3 2010-01-07  7950.0  7600.0  5911.312988  3886000.0\n",
       "4 2010-01-08  7750.0  7600.0  5872.927246  9397500.0"
      ]
     },
     "execution_count": 10,
     "metadata": {},
     "output_type": "execute_result"
    }
   ],
   "source": [
    "df.head()"
   ]
  },
  {
   "cell_type": "code",
   "execution_count": 11,
   "metadata": {
    "ExecuteTime": {
     "end_time": "2019-11-18T12:48:49.025320Z",
     "start_time": "2019-11-18T12:48:49.013320Z"
    }
   },
   "outputs": [
    {
     "name": "stdout",
     "output_type": "stream",
     "text": [
      "<class 'pandas.core.frame.DataFrame'>\n",
      "Int64Index: 2172 entries, 0 to 2230\n",
      "Data columns (total 5 columns):\n",
      "Date         2172 non-null datetime64[ns]\n",
      "High         2172 non-null float64\n",
      "Low          2172 non-null float64\n",
      "Adj Close    2172 non-null float64\n",
      "Volume       2172 non-null float64\n",
      "dtypes: datetime64[ns](1), float64(4)\n",
      "memory usage: 101.8 KB\n"
     ]
    }
   ],
   "source": [
    "df.info()"
   ]
  },
  {
   "cell_type": "markdown",
   "metadata": {},
   "source": [
    "### 3. Membuat ariabel tambahan"
   ]
  },
  {
   "cell_type": "markdown",
   "metadata": {
    "ExecuteTime": {
     "end_time": "2019-11-18T12:40:06.340532Z",
     "start_time": "2019-11-18T12:40:06.332530Z"
    }
   },
   "source": [
    "####  3.1 Simple Moving Average"
   ]
  },
  {
   "cell_type": "code",
   "execution_count": 12,
   "metadata": {
    "ExecuteTime": {
     "end_time": "2019-11-18T12:48:49.377319Z",
     "start_time": "2019-11-18T12:48:49.025320Z"
    }
   },
   "outputs": [],
   "source": [
    "##Simple Moving Average\n",
    "\n",
    "ma = []\n",
    "for i in range(len(df)):\n",
    "    if i < 14:\n",
    "        ma.append(np.nan)\n",
    "    else:\n",
    "        ma.append(df['Adj Close'][(i-14):i].mean())\n",
    "df['SMA'] = ma\n",
    "        "
   ]
  },
  {
   "cell_type": "markdown",
   "metadata": {},
   "source": [
    "####  3.2 Bollinger Bands"
   ]
  },
  {
   "cell_type": "code",
   "execution_count": 13,
   "metadata": {
    "ExecuteTime": {
     "end_time": "2019-11-18T12:48:49.741320Z",
     "start_time": "2019-11-18T12:48:49.377319Z"
    }
   },
   "outputs": [],
   "source": [
    "## Bollinger Bands ( Lower )\n",
    "\n",
    "BBLower = []\n",
    "for i in range(len(df)):\n",
    "    if i < 14 :\n",
    "        BBLower.append(np.nan)\n",
    "    else:\n",
    "        BBLower.append((df['SMA'].iloc[i] - (2 * df['Adj Close'][(i-14):i].std())))\n",
    "df['BBLower'] = BBLower"
   ]
  },
  {
   "cell_type": "markdown",
   "metadata": {},
   "source": [
    "### 3.3 Williams R"
   ]
  },
  {
   "cell_type": "code",
   "execution_count": 14,
   "metadata": {
    "ExecuteTime": {
     "end_time": "2019-11-18T12:48:50.473740Z",
     "start_time": "2019-11-18T12:48:49.741320Z"
    }
   },
   "outputs": [],
   "source": [
    "##Williams R\n",
    "\n",
    "williamsr= []\n",
    "for i in range(len(df)):\n",
    "    if i < 14 :\n",
    "        williamsr.append(np.nan)\n",
    "    else:\n",
    "        high = df['High'].iloc[(i-14):(i)].max()\n",
    "        low = df['Low'].iloc[(i-14):(i)].min()\n",
    "        williamsr.append(((high-df['Adj Close'].iloc[i])/(high-low))*(-100))\n",
    "df['Williams R'] = williamsr"
   ]
  },
  {
   "cell_type": "markdown",
   "metadata": {},
   "source": [
    "### Result (Dependent Variable)"
   ]
  },
  {
   "cell_type": "code",
   "execution_count": 15,
   "metadata": {
    "ExecuteTime": {
     "end_time": "2019-11-18T12:48:50.522174Z",
     "start_time": "2019-11-18T12:48:50.473740Z"
    }
   },
   "outputs": [],
   "source": [
    "result = []\n",
    "for i in range(len(df)):\n",
    "    if i < 14:\n",
    "        result.append(np.nan)\n",
    "    elif i > (len(df)-15):\n",
    "        result.append(np.nan)\n",
    "    else:\n",
    "        if df['Adj Close'].iloc[i] < df['Adj Close'].iloc[i+14]:\n",
    "            result.append('Profit')\n",
    "        else:\n",
    "            result.append('Loss')\n",
    "df['Result'] = result"
   ]
  },
  {
   "cell_type": "code",
   "execution_count": 16,
   "metadata": {
    "ExecuteTime": {
     "end_time": "2019-11-18T12:48:50.537723Z",
     "start_time": "2019-11-18T12:48:50.522174Z"
    }
   },
   "outputs": [
    {
     "data": {
      "text/html": [
       "<div>\n",
       "<style scoped>\n",
       "    .dataframe tbody tr th:only-of-type {\n",
       "        vertical-align: middle;\n",
       "    }\n",
       "\n",
       "    .dataframe tbody tr th {\n",
       "        vertical-align: top;\n",
       "    }\n",
       "\n",
       "    .dataframe thead th {\n",
       "        text-align: right;\n",
       "    }\n",
       "</style>\n",
       "<table border=\"1\" class=\"dataframe\">\n",
       "  <thead>\n",
       "    <tr style=\"text-align: right;\">\n",
       "      <th></th>\n",
       "      <th>Date</th>\n",
       "      <th>High</th>\n",
       "      <th>Low</th>\n",
       "      <th>Adj Close</th>\n",
       "      <th>Volume</th>\n",
       "      <th>SMA</th>\n",
       "      <th>BBLower</th>\n",
       "      <th>Williams R</th>\n",
       "      <th>Result</th>\n",
       "    </tr>\n",
       "  </thead>\n",
       "  <tbody>\n",
       "    <tr>\n",
       "      <th>0</th>\n",
       "      <td>2010-01-04</td>\n",
       "      <td>7650.0</td>\n",
       "      <td>7500.0</td>\n",
       "      <td>5834.542969</td>\n",
       "      <td>3979000.0</td>\n",
       "      <td>NaN</td>\n",
       "      <td>NaN</td>\n",
       "      <td>NaN</td>\n",
       "      <td>NaN</td>\n",
       "    </tr>\n",
       "    <tr>\n",
       "      <th>1</th>\n",
       "      <td>2010-01-05</td>\n",
       "      <td>7750.0</td>\n",
       "      <td>7650.0</td>\n",
       "      <td>5911.312988</td>\n",
       "      <td>5844500.0</td>\n",
       "      <td>NaN</td>\n",
       "      <td>NaN</td>\n",
       "      <td>NaN</td>\n",
       "      <td>NaN</td>\n",
       "    </tr>\n",
       "    <tr>\n",
       "      <th>2</th>\n",
       "      <td>2010-01-06</td>\n",
       "      <td>7950.0</td>\n",
       "      <td>7700.0</td>\n",
       "      <td>5988.083008</td>\n",
       "      <td>4945000.0</td>\n",
       "      <td>NaN</td>\n",
       "      <td>NaN</td>\n",
       "      <td>NaN</td>\n",
       "      <td>NaN</td>\n",
       "    </tr>\n",
       "    <tr>\n",
       "      <th>3</th>\n",
       "      <td>2010-01-07</td>\n",
       "      <td>7950.0</td>\n",
       "      <td>7600.0</td>\n",
       "      <td>5911.312988</td>\n",
       "      <td>3886000.0</td>\n",
       "      <td>NaN</td>\n",
       "      <td>NaN</td>\n",
       "      <td>NaN</td>\n",
       "      <td>NaN</td>\n",
       "    </tr>\n",
       "    <tr>\n",
       "      <th>4</th>\n",
       "      <td>2010-01-08</td>\n",
       "      <td>7750.0</td>\n",
       "      <td>7600.0</td>\n",
       "      <td>5872.927246</td>\n",
       "      <td>9397500.0</td>\n",
       "      <td>NaN</td>\n",
       "      <td>NaN</td>\n",
       "      <td>NaN</td>\n",
       "      <td>NaN</td>\n",
       "    </tr>\n",
       "  </tbody>\n",
       "</table>\n",
       "</div>"
      ],
      "text/plain": [
       "        Date    High     Low    Adj Close     Volume  SMA  BBLower  \\\n",
       "0 2010-01-04  7650.0  7500.0  5834.542969  3979000.0  NaN      NaN   \n",
       "1 2010-01-05  7750.0  7650.0  5911.312988  5844500.0  NaN      NaN   \n",
       "2 2010-01-06  7950.0  7700.0  5988.083008  4945000.0  NaN      NaN   \n",
       "3 2010-01-07  7950.0  7600.0  5911.312988  3886000.0  NaN      NaN   \n",
       "4 2010-01-08  7750.0  7600.0  5872.927246  9397500.0  NaN      NaN   \n",
       "\n",
       "   Williams R Result  \n",
       "0         NaN    NaN  \n",
       "1         NaN    NaN  \n",
       "2         NaN    NaN  \n",
       "3         NaN    NaN  \n",
       "4         NaN    NaN  "
      ]
     },
     "execution_count": 16,
     "metadata": {},
     "output_type": "execute_result"
    }
   ],
   "source": [
    "df.head()"
   ]
  },
  {
   "cell_type": "markdown",
   "metadata": {},
   "source": [
    "### Menghapus data NaN"
   ]
  },
  {
   "cell_type": "code",
   "execution_count": 17,
   "metadata": {
    "ExecuteTime": {
     "end_time": "2019-11-18T12:48:50.549779Z",
     "start_time": "2019-11-18T12:48:50.537723Z"
    }
   },
   "outputs": [],
   "source": [
    "df.dropna(axis = 0, inplace = True)"
   ]
  },
  {
   "cell_type": "code",
   "execution_count": 18,
   "metadata": {
    "ExecuteTime": {
     "end_time": "2019-11-18T12:48:50.565723Z",
     "start_time": "2019-11-18T12:48:50.549779Z"
    }
   },
   "outputs": [
    {
     "data": {
      "text/html": [
       "<div>\n",
       "<style scoped>\n",
       "    .dataframe tbody tr th:only-of-type {\n",
       "        vertical-align: middle;\n",
       "    }\n",
       "\n",
       "    .dataframe tbody tr th {\n",
       "        vertical-align: top;\n",
       "    }\n",
       "\n",
       "    .dataframe thead th {\n",
       "        text-align: right;\n",
       "    }\n",
       "</style>\n",
       "<table border=\"1\" class=\"dataframe\">\n",
       "  <thead>\n",
       "    <tr style=\"text-align: right;\">\n",
       "      <th></th>\n",
       "      <th>Date</th>\n",
       "      <th>High</th>\n",
       "      <th>Low</th>\n",
       "      <th>Adj Close</th>\n",
       "      <th>Volume</th>\n",
       "      <th>SMA</th>\n",
       "      <th>BBLower</th>\n",
       "      <th>Williams R</th>\n",
       "      <th>Result</th>\n",
       "    </tr>\n",
       "  </thead>\n",
       "  <tbody>\n",
       "    <tr>\n",
       "      <th>14</th>\n",
       "      <td>2010-01-22</td>\n",
       "      <td>8200.0</td>\n",
       "      <td>7800.0</td>\n",
       "      <td>6218.395020</td>\n",
       "      <td>6151000.0</td>\n",
       "      <td>5960.665248</td>\n",
       "      <td>5802.963108</td>\n",
       "      <td>-283.086426</td>\n",
       "      <td>Loss</td>\n",
       "    </tr>\n",
       "    <tr>\n",
       "      <th>15</th>\n",
       "      <td>2010-01-25</td>\n",
       "      <td>8100.0</td>\n",
       "      <td>7900.0</td>\n",
       "      <td>6103.238281</td>\n",
       "      <td>2309500.0</td>\n",
       "      <td>5988.083252</td>\n",
       "      <td>5795.273473</td>\n",
       "      <td>-349.460286</td>\n",
       "      <td>Loss</td>\n",
       "    </tr>\n",
       "    <tr>\n",
       "      <th>16</th>\n",
       "      <td>2010-01-26</td>\n",
       "      <td>8050.0</td>\n",
       "      <td>7900.0</td>\n",
       "      <td>6064.853027</td>\n",
       "      <td>3323000.0</td>\n",
       "      <td>6001.792201</td>\n",
       "      <td>5805.239880</td>\n",
       "      <td>-355.857829</td>\n",
       "      <td>Loss</td>\n",
       "    </tr>\n",
       "    <tr>\n",
       "      <th>17</th>\n",
       "      <td>2010-01-27</td>\n",
       "      <td>7950.0</td>\n",
       "      <td>7700.0</td>\n",
       "      <td>5988.083008</td>\n",
       "      <td>3832000.0</td>\n",
       "      <td>6007.275774</td>\n",
       "      <td>5808.104877</td>\n",
       "      <td>-368.652832</td>\n",
       "      <td>Profit</td>\n",
       "    </tr>\n",
       "    <tr>\n",
       "      <th>18</th>\n",
       "      <td>2010-01-28</td>\n",
       "      <td>8100.0</td>\n",
       "      <td>7800.0</td>\n",
       "      <td>6218.395020</td>\n",
       "      <td>3956000.0</td>\n",
       "      <td>6012.759347</td>\n",
       "      <td>5820.875622</td>\n",
       "      <td>-330.267497</td>\n",
       "      <td>Loss</td>\n",
       "    </tr>\n",
       "  </tbody>\n",
       "</table>\n",
       "</div>"
      ],
      "text/plain": [
       "         Date    High     Low    Adj Close     Volume          SMA  \\\n",
       "14 2010-01-22  8200.0  7800.0  6218.395020  6151000.0  5960.665248   \n",
       "15 2010-01-25  8100.0  7900.0  6103.238281  2309500.0  5988.083252   \n",
       "16 2010-01-26  8050.0  7900.0  6064.853027  3323000.0  6001.792201   \n",
       "17 2010-01-27  7950.0  7700.0  5988.083008  3832000.0  6007.275774   \n",
       "18 2010-01-28  8100.0  7800.0  6218.395020  3956000.0  6012.759347   \n",
       "\n",
       "        BBLower  Williams R  Result  \n",
       "14  5802.963108 -283.086426    Loss  \n",
       "15  5795.273473 -349.460286    Loss  \n",
       "16  5805.239880 -355.857829    Loss  \n",
       "17  5808.104877 -368.652832  Profit  \n",
       "18  5820.875622 -330.267497    Loss  "
      ]
     },
     "execution_count": 18,
     "metadata": {},
     "output_type": "execute_result"
    }
   ],
   "source": [
    "df.head()"
   ]
  },
  {
   "cell_type": "markdown",
   "metadata": {
    "ExecuteTime": {
     "end_time": "2019-11-15T09:55:09.712892Z",
     "start_time": "2019-11-15T09:55:09.679941Z"
    }
   },
   "source": [
    "# EDA"
   ]
  },
  {
   "cell_type": "code",
   "execution_count": 19,
   "metadata": {
    "ExecuteTime": {
     "end_time": "2019-11-18T12:48:50.573724Z",
     "start_time": "2019-11-18T12:48:50.565723Z"
    }
   },
   "outputs": [],
   "source": [
    "df.set_index('Date', inplace=True)"
   ]
  },
  {
   "cell_type": "code",
   "execution_count": 20,
   "metadata": {
    "ExecuteTime": {
     "end_time": "2019-11-18T12:48:50.805764Z",
     "start_time": "2019-11-18T12:48:50.573724Z"
    }
   },
   "outputs": [
    {
     "name": "stderr",
     "output_type": "stream",
     "text": [
      "C:\\Users\\Lenovo\\Anaconda3\\lib\\site-packages\\pandas\\plotting\\_converter.py:129: FutureWarning: Using an implicitly registered datetime converter for a matplotlib plotting method. The converter was registered by pandas on import. Future versions of pandas will require you to explicitly register matplotlib converters.\n",
      "\n",
      "To register the converters:\n",
      "\t>>> from pandas.plotting import register_matplotlib_converters\n",
      "\t>>> register_matplotlib_converters()\n",
      "  warnings.warn(msg, FutureWarning)\n"
     ]
    },
    {
     "data": {
      "text/plain": [
       "[<matplotlib.lines.Line2D at 0x2d453fb02b0>]"
      ]
     },
     "execution_count": 20,
     "metadata": {},
     "output_type": "execute_result"
    },
    {
     "data": {
      "image/png": "[encoded data removed]",
      "text/plain": [
       "<Figure size 432x288 with 1 Axes>"
      ]
     },
     "metadata": {
      "needs_background": "light"
     },
     "output_type": "display_data"
    }
   ],
   "source": [
    "plt.plot(df['Adj Close'])\n",
    "plt.plot(df['SMA'])"
   ]
  },
  {
   "cell_type": "code",
   "execution_count": 21,
   "metadata": {
    "ExecuteTime": {
     "end_time": "2019-11-18T12:48:50.961723Z",
     "start_time": "2019-11-18T12:48:50.805764Z"
    },
    "scrolled": true
   },
   "outputs": [
    {
     "data": {
      "text/plain": [
       "[<matplotlib.lines.Line2D at 0x2d454776518>]"
      ]
     },
     "execution_count": 21,
     "metadata": {},
     "output_type": "execute_result"
    },
    {
     "data": {
      "image/png": "[encoded data removed]",
      "text/plain": [
       "<Figure size 432x288 with 1 Axes>"
      ]
     },
     "metadata": {
      "needs_background": "light"
     },
     "output_type": "display_data"
    }
   ],
   "source": [
    "plt.plot(df['Adj Close'][50:80])\n",
    "plt.plot(df['SMA'][50:80])"
   ]
  },
  {
   "cell_type": "markdown",
   "metadata": {},
   "source": [
    "### Insight 1: Berdasarkan grafik diatas terlhat bahwa Price akan cenderung memantul terhadap SMA, jika price menembus SMA, maka arahnya akan terus melaju"
   ]
  },
  {
   "cell_type": "code",
   "execution_count": 22,
   "metadata": {
    "ExecuteTime": {
     "end_time": "2019-11-18T12:48:51.129725Z",
     "start_time": "2019-11-18T12:48:50.961723Z"
    }
   },
   "outputs": [
    {
     "data": {
      "text/plain": [
       "[<matplotlib.lines.Line2D at 0x2d453918588>]"
      ]
     },
     "execution_count": 22,
     "metadata": {},
     "output_type": "execute_result"
    },
    {
     "data": {
      "image/png": "[encoded data removed]",
      "text/plain": [
       "<Figure size 432x288 with 1 Axes>"
      ]
     },
     "metadata": {
      "needs_background": "light"
     },
     "output_type": "display_data"
    }
   ],
   "source": [
    "plt.plot(df['Adj Close'])\n",
    "plt.plot(df['BBLower'])"
   ]
  },
  {
   "cell_type": "code",
   "execution_count": 23,
   "metadata": {
    "ExecuteTime": {
     "end_time": "2019-11-18T12:48:51.313720Z",
     "start_time": "2019-11-18T12:48:51.129725Z"
    }
   },
   "outputs": [
    {
     "data": {
      "text/plain": [
       "[<matplotlib.lines.Line2D at 0x2d4548406d8>]"
      ]
     },
     "execution_count": 23,
     "metadata": {},
     "output_type": "execute_result"
    },
    {
     "data": {
      "image/png": "[encoded data removed]",
      "text/plain": [
       "<Figure size 432x288 with 1 Axes>"
      ]
     },
     "metadata": {
      "needs_background": "light"
     },
     "output_type": "display_data"
    }
   ],
   "source": [
    "plt.plot(df['Adj Close'][50:500])\n",
    "plt.plot(df['BBLower'][50:500])"
   ]
  },
  {
   "cell_type": "markdown",
   "metadata": {},
   "source": [
    "### Insight 2: Price akan cenderung diatas Bollinger Band bawah, jika Price menyentuh Bollinger Band Bawah maka Price akan cenderung naik"
   ]
  },
  {
   "cell_type": "code",
   "execution_count": 24,
   "metadata": {
    "ExecuteTime": {
     "end_time": "2019-11-18T12:48:52.054710Z",
     "start_time": "2019-11-18T12:48:51.313720Z"
    }
   },
   "outputs": [
    {
     "data": {
      "image/png": "[encoded data removed]",
      "text/plain": [
       "<Figure size 432x288 with 1 Axes>"
      ]
     },
     "metadata": {
      "needs_background": "light"
     },
     "output_type": "display_data"
    },
    {
     "data": {
      "image/png": "[encoded data removed]",
      "text/plain": [
       "<Figure size 432x288 with 1 Axes>"
      ]
     },
     "metadata": {
      "needs_background": "light"
     },
     "output_type": "display_data"
    }
   ],
   "source": [
    "cp1 = []\n",
    "cp0 = []\n",
    "cp2 = []\n",
    "cp3 = []\n",
    "cp4 = []\n",
    "cp5 = []\n",
    "for i in range(len(df)):\n",
    "    if df['Result'].iloc[i] == 'Profit' :\n",
    "        cp1.append(df['Williams R'].iloc[i])\n",
    "        cp4.append(df['Volume'].iloc[i])\n",
    "    elif df['Result'].iloc[i] == 'Loss' :\n",
    "        cp0.append(df['Williams R'].iloc[i])\n",
    "        cp5.append(df['Volume'].iloc[i])\n",
    "\n",
    "sns.distplot( cp1 , label=\"Profit\").set_title('Williams R')\n",
    "sns.distplot( cp0 , label=\"Loss\")\n",
    "plt.legend()\n",
    "plt.show()\n",
    "sns.distplot( cp4 , label=\"Profit\").set_title('Volume')\n",
    "sns.distplot( cp5 , label=\"Loss\")\n",
    "plt.legend()\n",
    "plt.show()"
   ]
  },
  {
   "cell_type": "markdown",
   "metadata": {},
   "source": [
    "### Insight 3:  ada kemungkinan jika volume besar akan terjadi profit pada periode waktu tertentu"
   ]
  },
  {
   "cell_type": "code",
   "execution_count": 25,
   "metadata": {
    "ExecuteTime": {
     "end_time": "2019-11-18T12:48:52.070706Z",
     "start_time": "2019-11-18T12:48:52.054710Z"
    }
   },
   "outputs": [
    {
     "data": {
      "text/html": [
       "<div>\n",
       "<style scoped>\n",
       "    .dataframe tbody tr th:only-of-type {\n",
       "        vertical-align: middle;\n",
       "    }\n",
       "\n",
       "    .dataframe tbody tr th {\n",
       "        vertical-align: top;\n",
       "    }\n",
       "\n",
       "    .dataframe thead th {\n",
       "        text-align: right;\n",
       "    }\n",
       "</style>\n",
       "<table border=\"1\" class=\"dataframe\">\n",
       "  <thead>\n",
       "    <tr style=\"text-align: right;\">\n",
       "      <th></th>\n",
       "      <th>High</th>\n",
       "      <th>Low</th>\n",
       "      <th>Adj Close</th>\n",
       "      <th>Volume</th>\n",
       "      <th>SMA</th>\n",
       "      <th>BBLower</th>\n",
       "      <th>Williams R</th>\n",
       "      <th>Result</th>\n",
       "    </tr>\n",
       "    <tr>\n",
       "      <th>Date</th>\n",
       "      <th></th>\n",
       "      <th></th>\n",
       "      <th></th>\n",
       "      <th></th>\n",
       "      <th></th>\n",
       "      <th></th>\n",
       "      <th></th>\n",
       "      <th></th>\n",
       "    </tr>\n",
       "  </thead>\n",
       "  <tbody>\n",
       "    <tr>\n",
       "      <th>2010-01-22</th>\n",
       "      <td>8200.0</td>\n",
       "      <td>7800.0</td>\n",
       "      <td>6218.395020</td>\n",
       "      <td>6151000.0</td>\n",
       "      <td>5960.665248</td>\n",
       "      <td>5802.963108</td>\n",
       "      <td>-283.086426</td>\n",
       "      <td>Loss</td>\n",
       "    </tr>\n",
       "    <tr>\n",
       "      <th>2010-01-25</th>\n",
       "      <td>8100.0</td>\n",
       "      <td>7900.0</td>\n",
       "      <td>6103.238281</td>\n",
       "      <td>2309500.0</td>\n",
       "      <td>5988.083252</td>\n",
       "      <td>5795.273473</td>\n",
       "      <td>-349.460286</td>\n",
       "      <td>Loss</td>\n",
       "    </tr>\n",
       "    <tr>\n",
       "      <th>2010-01-26</th>\n",
       "      <td>8050.0</td>\n",
       "      <td>7900.0</td>\n",
       "      <td>6064.853027</td>\n",
       "      <td>3323000.0</td>\n",
       "      <td>6001.792201</td>\n",
       "      <td>5805.239880</td>\n",
       "      <td>-355.857829</td>\n",
       "      <td>Loss</td>\n",
       "    </tr>\n",
       "    <tr>\n",
       "      <th>2010-01-27</th>\n",
       "      <td>7950.0</td>\n",
       "      <td>7700.0</td>\n",
       "      <td>5988.083008</td>\n",
       "      <td>3832000.0</td>\n",
       "      <td>6007.275774</td>\n",
       "      <td>5808.104877</td>\n",
       "      <td>-368.652832</td>\n",
       "      <td>Profit</td>\n",
       "    </tr>\n",
       "    <tr>\n",
       "      <th>2010-01-28</th>\n",
       "      <td>8100.0</td>\n",
       "      <td>7800.0</td>\n",
       "      <td>6218.395020</td>\n",
       "      <td>3956000.0</td>\n",
       "      <td>6012.759347</td>\n",
       "      <td>5820.875622</td>\n",
       "      <td>-330.267497</td>\n",
       "      <td>Loss</td>\n",
       "    </tr>\n",
       "  </tbody>\n",
       "</table>\n",
       "</div>"
      ],
      "text/plain": [
       "              High     Low    Adj Close     Volume          SMA      BBLower  \\\n",
       "Date                                                                           \n",
       "2010-01-22  8200.0  7800.0  6218.395020  6151000.0  5960.665248  5802.963108   \n",
       "2010-01-25  8100.0  7900.0  6103.238281  2309500.0  5988.083252  5795.273473   \n",
       "2010-01-26  8050.0  7900.0  6064.853027  3323000.0  6001.792201  5805.239880   \n",
       "2010-01-27  7950.0  7700.0  5988.083008  3832000.0  6007.275774  5808.104877   \n",
       "2010-01-28  8100.0  7800.0  6218.395020  3956000.0  6012.759347  5820.875622   \n",
       "\n",
       "            Williams R  Result  \n",
       "Date                            \n",
       "2010-01-22 -283.086426    Loss  \n",
       "2010-01-25 -349.460286    Loss  \n",
       "2010-01-26 -355.857829    Loss  \n",
       "2010-01-27 -368.652832  Profit  \n",
       "2010-01-28 -330.267497    Loss  "
      ]
     },
     "execution_count": 25,
     "metadata": {},
     "output_type": "execute_result"
    }
   ],
   "source": [
    "df.head()"
   ]
  },
  {
   "cell_type": "code",
   "execution_count": 26,
   "metadata": {
    "ExecuteTime": {
     "end_time": "2019-11-18T12:48:52.640777Z",
     "start_time": "2019-11-18T12:48:52.632738Z"
    }
   },
   "outputs": [],
   "source": [
    "df.reset_index(inplace=True)"
   ]
  },
  {
   "cell_type": "code",
   "execution_count": 27,
   "metadata": {
    "ExecuteTime": {
     "end_time": "2019-11-18T12:48:53.398382Z",
     "start_time": "2019-11-18T12:48:53.390380Z"
    }
   },
   "outputs": [],
   "source": [
    "data = df.drop(['Date','Result','Adj Close', 'High','Low'],axis = 1)\n",
    "result = df['Result']"
   ]
  },
  {
   "cell_type": "markdown",
   "metadata": {},
   "source": [
    "### XGBoost"
   ]
  },
  {
   "cell_type": "code",
   "execution_count": 28,
   "metadata": {
    "ExecuteTime": {
     "end_time": "2019-11-18T12:49:11.563510Z",
     "start_time": "2019-11-18T12:49:11.555474Z"
    }
   },
   "outputs": [],
   "source": [
    "from xgboost import XGBClassifier"
   ]
  },
  {
   "cell_type": "code",
   "execution_count": 29,
   "metadata": {
    "ExecuteTime": {
     "end_time": "2019-11-18T12:49:14.223186Z",
     "start_time": "2019-11-18T12:49:14.219189Z"
    }
   },
   "outputs": [],
   "source": [
    "xgboost = XGBClassifier(learning_rate = 0.01, n_estimators = 1000, max_depth = 4)"
   ]
  },
  {
   "cell_type": "code",
   "execution_count": 30,
   "metadata": {
    "ExecuteTime": {
     "end_time": "2019-11-18T12:49:14.742046Z",
     "start_time": "2019-11-18T12:49:14.730009Z"
    }
   },
   "outputs": [],
   "source": [
    "from sklearn.model_selection import train_test_split\n",
    "X_train, X_test, y_train, y_test = train_test_split(data, result, test_size = 0.2)"
   ]
  },
  {
   "cell_type": "code",
   "execution_count": 31,
   "metadata": {
    "ExecuteTime": {
     "end_time": "2019-11-18T12:49:16.436995Z",
     "start_time": "2019-11-18T12:49:15.333001Z"
    }
   },
   "outputs": [
    {
     "data": {
      "text/plain": [
       "XGBClassifier(base_score=0.5, booster='gbtree', colsample_bylevel=1,\n",
       "              colsample_bynode=1, colsample_bytree=1, gamma=0,\n",
       "              learning_rate=0.01, max_delta_step=0, max_depth=4,\n",
       "              min_child_weight=1, missing=None, n_estimators=1000, n_jobs=1,\n",
       "              nthread=None, objective='binary:logistic', random_state=0,\n",
       "              reg_alpha=0, reg_lambda=1, scale_pos_weight=1, seed=None,\n",
       "              silent=None, subsample=1, verbosity=1)"
      ]
     },
     "execution_count": 31,
     "metadata": {},
     "output_type": "execute_result"
    }
   ],
   "source": [
    "xgboost.fit(X_train, y_train)"
   ]
  },
  {
   "cell_type": "code",
   "execution_count": 32,
   "metadata": {
    "ExecuteTime": {
     "end_time": "2019-11-18T12:49:16.473226Z",
     "start_time": "2019-11-18T12:49:16.436995Z"
    }
   },
   "outputs": [
    {
     "name": "stdout",
     "output_type": "stream",
     "text": [
      "              precision    recall  f1-score   support\n",
      "\n",
      "        Loss       0.71      0.61      0.66       218\n",
      "      Profit       0.65      0.74      0.69       211\n",
      "\n",
      "    accuracy                           0.68       429\n",
      "   macro avg       0.68      0.68      0.67       429\n",
      "weighted avg       0.68      0.68      0.67       429\n",
      "\n"
     ]
    }
   ],
   "source": [
    "print(classification_report(y_test, xgboost.predict(X_test)))"
   ]
  },
  {
   "cell_type": "code",
   "execution_count": 33,
   "metadata": {
    "ExecuteTime": {
     "end_time": "2019-11-18T12:49:17.275642Z",
     "start_time": "2019-11-18T12:49:17.227642Z"
    }
   },
   "outputs": [],
   "source": [
    "data = classification_report(y_test, xgboost.predict(X_test))"
   ]
  },
  {
   "cell_type": "code",
   "execution_count": 34,
   "metadata": {
    "ExecuteTime": {
     "end_time": "2019-11-18T12:49:20.621757Z",
     "start_time": "2019-11-18T12:49:20.585822Z"
    }
   },
   "outputs": [
    {
     "data": {
      "text/html": [
       "<div>\n",
       "<style scoped>\n",
       "    .dataframe tbody tr th:only-of-type {\n",
       "        vertical-align: middle;\n",
       "    }\n",
       "\n",
       "    .dataframe tbody tr th {\n",
       "        vertical-align: top;\n",
       "    }\n",
       "\n",
       "    .dataframe thead th {\n",
       "        text-align: right;\n",
       "    }\n",
       "</style>\n",
       "<table border=\"1\" class=\"dataframe\">\n",
       "  <thead>\n",
       "    <tr style=\"text-align: right;\">\n",
       "      <th></th>\n",
       "      <th>P Loss</th>\n",
       "      <th>P Profit</th>\n",
       "    </tr>\n",
       "  </thead>\n",
       "  <tbody>\n",
       "    <tr>\n",
       "      <th>A Loss</th>\n",
       "      <td>133</td>\n",
       "      <td>85</td>\n",
       "    </tr>\n",
       "    <tr>\n",
       "      <th>A Profit</th>\n",
       "      <td>54</td>\n",
       "      <td>157</td>\n",
       "    </tr>\n",
       "  </tbody>\n",
       "</table>\n",
       "</div>"
      ],
      "text/plain": [
       "          P Loss  P Profit\n",
       "A Loss       133        85\n",
       "A Profit      54       157"
      ]
     },
     "execution_count": 34,
     "metadata": {},
     "output_type": "execute_result"
    }
   ],
   "source": [
    "pd.DataFrame(confusion_matrix(y_test,xgboost.predict(X_test)), columns = ['P Loss', 'P Profit'], index = ['A Loss', 'A Profit'])"
   ]
  },
  {
   "cell_type": "code",
   "execution_count": 35,
   "metadata": {
    "ExecuteTime": {
     "end_time": "2019-11-18T12:49:22.313488Z",
     "start_time": "2019-11-18T12:49:22.273493Z"
    }
   },
   "outputs": [
    {
     "data": {
      "text/plain": [
       "array([[0.13493776, 0.86506224],\n",
       "       [0.16940492, 0.8305951 ],\n",
       "       [0.54129   , 0.45871   ],\n",
       "       [0.47541565, 0.52458435],\n",
       "       [0.41374874, 0.58625126],\n",
       "       [0.4658888 , 0.5341112 ],\n",
       "       [0.53450114, 0.46549886],\n",
       "       [0.83260864, 0.16739134],\n",
       "       [0.25559384, 0.74440616],\n",
       "       [0.6617212 , 0.33827874],\n",
       "       [0.32769197, 0.672308  ],\n",
       "       [0.38451236, 0.61548764],\n",
       "       [0.56832355, 0.43167645],\n",
       "       [0.7853613 , 0.2146387 ],\n",
       "       [0.24929416, 0.75070584],\n",
       "       [0.8550912 , 0.14490877],\n",
       "       [0.20997506, 0.79002494],\n",
       "       [0.61615014, 0.38384983],\n",
       "       [0.38819873, 0.61180127],\n",
       "       [0.7197039 , 0.2802961 ],\n",
       "       [0.5077501 , 0.4922499 ],\n",
       "       [0.70758796, 0.29241207],\n",
       "       [0.38842416, 0.61157584],\n",
       "       [0.6700388 , 0.32996118],\n",
       "       [0.23718762, 0.7628124 ],\n",
       "       [0.5986355 , 0.4013645 ],\n",
       "       [0.80251676, 0.19748324],\n",
       "       [0.5384657 , 0.46153432],\n",
       "       [0.14447862, 0.8555214 ],\n",
       "       [0.0594644 , 0.9405356 ],\n",
       "       [0.23462284, 0.76537716],\n",
       "       [0.34215397, 0.65784603],\n",
       "       [0.43542588, 0.5645741 ],\n",
       "       [0.27374142, 0.7262586 ],\n",
       "       [0.3516456 , 0.6483544 ],\n",
       "       [0.7486377 , 0.2513623 ],\n",
       "       [0.04285121, 0.9571488 ],\n",
       "       [0.66615915, 0.33384082],\n",
       "       [0.6547414 , 0.3452586 ],\n",
       "       [0.87932366, 0.12067636],\n",
       "       [0.39101762, 0.6089824 ],\n",
       "       [0.44738382, 0.5526162 ],\n",
       "       [0.6785958 , 0.32140425],\n",
       "       [0.38532984, 0.61467016],\n",
       "       [0.6422112 , 0.35778877],\n",
       "       [0.4851504 , 0.5148496 ],\n",
       "       [0.18114424, 0.81885576],\n",
       "       [0.31259292, 0.6874071 ],\n",
       "       [0.13583606, 0.86416394],\n",
       "       [0.72622836, 0.2737716 ],\n",
       "       [0.35158408, 0.6484159 ],\n",
       "       [0.58726394, 0.41273606],\n",
       "       [0.8854194 , 0.11458056],\n",
       "       [0.3920648 , 0.6079352 ],\n",
       "       [0.07200766, 0.92799234],\n",
       "       [0.5704626 , 0.42953742],\n",
       "       [0.6595598 , 0.3404402 ],\n",
       "       [0.6758641 , 0.32413587],\n",
       "       [0.39970464, 0.60029536],\n",
       "       [0.6110691 , 0.38893092],\n",
       "       [0.68368626, 0.31631377],\n",
       "       [0.59607846, 0.40392154],\n",
       "       [0.6548065 , 0.3451935 ],\n",
       "       [0.48213774, 0.51786226],\n",
       "       [0.83779824, 0.16220176],\n",
       "       [0.1963095 , 0.8036905 ],\n",
       "       [0.53880906, 0.46119097],\n",
       "       [0.3969568 , 0.6030432 ],\n",
       "       [0.4446153 , 0.5553847 ],\n",
       "       [0.19448578, 0.8055142 ],\n",
       "       [0.39447606, 0.60552394],\n",
       "       [0.3716427 , 0.6283573 ],\n",
       "       [0.37754142, 0.6224586 ],\n",
       "       [0.6361876 , 0.3638124 ],\n",
       "       [0.54156244, 0.45843756],\n",
       "       [0.7880697 , 0.21193027],\n",
       "       [0.2102977 , 0.7897023 ],\n",
       "       [0.625252  , 0.37474796],\n",
       "       [0.5893275 , 0.4106725 ],\n",
       "       [0.39145154, 0.60854846],\n",
       "       [0.62465847, 0.3753415 ],\n",
       "       [0.07205355, 0.92794645],\n",
       "       [0.09645998, 0.90354   ],\n",
       "       [0.11762059, 0.8823794 ],\n",
       "       [0.46939003, 0.53060997],\n",
       "       [0.26825827, 0.7317417 ],\n",
       "       [0.60265946, 0.39734054],\n",
       "       [0.17391306, 0.82608694],\n",
       "       [0.81128854, 0.18871148],\n",
       "       [0.8665272 , 0.13347279],\n",
       "       [0.1218884 , 0.8781116 ],\n",
       "       [0.52097267, 0.47902733],\n",
       "       [0.15471774, 0.84528226],\n",
       "       [0.48641098, 0.513589  ],\n",
       "       [0.265292  , 0.734708  ],\n",
       "       [0.48246837, 0.51753163],\n",
       "       [0.6855501 , 0.3144499 ],\n",
       "       [0.16135609, 0.8386439 ],\n",
       "       [0.35498756, 0.64501244],\n",
       "       [0.5514786 , 0.4485214 ],\n",
       "       [0.5170131 , 0.48298693],\n",
       "       [0.9385377 , 0.06146229],\n",
       "       [0.5475288 , 0.4524712 ],\n",
       "       [0.7452293 , 0.2547707 ],\n",
       "       [0.59439677, 0.40560323],\n",
       "       [0.20454168, 0.7954583 ],\n",
       "       [0.30026937, 0.69973063],\n",
       "       [0.6899836 , 0.31001636],\n",
       "       [0.2890644 , 0.7109356 ],\n",
       "       [0.30942768, 0.6905723 ],\n",
       "       [0.60736024, 0.39263973],\n",
       "       [0.58010584, 0.41989416],\n",
       "       [0.19509077, 0.8049092 ],\n",
       "       [0.2361759 , 0.7638241 ],\n",
       "       [0.80456424, 0.19543573],\n",
       "       [0.67415017, 0.32584983],\n",
       "       [0.3376056 , 0.6623944 ],\n",
       "       [0.31955606, 0.68044394],\n",
       "       [0.48786527, 0.51213473],\n",
       "       [0.497972  , 0.502028  ],\n",
       "       [0.8794667 , 0.12053329],\n",
       "       [0.2775821 , 0.7224179 ],\n",
       "       [0.20796698, 0.792033  ],\n",
       "       [0.6577641 , 0.34223592],\n",
       "       [0.45190156, 0.54809844],\n",
       "       [0.08779222, 0.9122078 ],\n",
       "       [0.33798134, 0.66201866],\n",
       "       [0.4579221 , 0.5420779 ],\n",
       "       [0.6141474 , 0.38585258],\n",
       "       [0.5761491 , 0.42385086],\n",
       "       [0.18384892, 0.8161511 ],\n",
       "       [0.86042273, 0.13957727],\n",
       "       [0.56485283, 0.43514714],\n",
       "       [0.56665695, 0.43334305],\n",
       "       [0.5539551 , 0.44604492],\n",
       "       [0.57039475, 0.42960525],\n",
       "       [0.40287757, 0.59712243],\n",
       "       [0.7367151 , 0.2632849 ],\n",
       "       [0.366441  , 0.633559  ],\n",
       "       [0.49223375, 0.50776625],\n",
       "       [0.17230034, 0.82769966],\n",
       "       [0.42978382, 0.5702162 ],\n",
       "       [0.76149887, 0.23850115],\n",
       "       [0.5124834 , 0.48751658],\n",
       "       [0.09512836, 0.90487164],\n",
       "       [0.36748654, 0.63251346],\n",
       "       [0.5692197 , 0.43078026],\n",
       "       [0.6241426 , 0.3758574 ],\n",
       "       [0.44353008, 0.5564699 ],\n",
       "       [0.5863281 , 0.4136719 ],\n",
       "       [0.6985798 , 0.30142024],\n",
       "       [0.1153751 , 0.8846249 ],\n",
       "       [0.16635716, 0.83364284],\n",
       "       [0.4497093 , 0.5502907 ],\n",
       "       [0.12431628, 0.8756837 ],\n",
       "       [0.47646672, 0.5235333 ],\n",
       "       [0.50245607, 0.4975439 ],\n",
       "       [0.47543287, 0.5245671 ],\n",
       "       [0.47106057, 0.5289394 ],\n",
       "       [0.27274644, 0.72725356],\n",
       "       [0.6810496 , 0.3189504 ],\n",
       "       [0.109182  , 0.890818  ],\n",
       "       [0.38274854, 0.61725146],\n",
       "       [0.80872035, 0.19127962],\n",
       "       [0.16245967, 0.8375403 ],\n",
       "       [0.8235204 , 0.17647958],\n",
       "       [0.79603803, 0.203962  ],\n",
       "       [0.7034515 , 0.29654846],\n",
       "       [0.24995357, 0.75004643],\n",
       "       [0.40344512, 0.5965549 ],\n",
       "       [0.783504  , 0.21649599],\n",
       "       [0.39606082, 0.6039392 ],\n",
       "       [0.9381323 , 0.0618677 ],\n",
       "       [0.24812359, 0.7518764 ],\n",
       "       [0.5095987 , 0.49040133],\n",
       "       [0.62465847, 0.3753415 ],\n",
       "       [0.4187774 , 0.5812226 ],\n",
       "       [0.37398362, 0.6260164 ],\n",
       "       [0.6883241 , 0.3116759 ],\n",
       "       [0.47050476, 0.52949524],\n",
       "       [0.9323639 , 0.06763608],\n",
       "       [0.3529644 , 0.6470356 ],\n",
       "       [0.06519604, 0.93480396],\n",
       "       [0.5583669 , 0.4416331 ],\n",
       "       [0.2100262 , 0.7899738 ],\n",
       "       [0.59110165, 0.40889832],\n",
       "       [0.57195956, 0.42804044],\n",
       "       [0.7853415 , 0.21465853],\n",
       "       [0.84033597, 0.15966403],\n",
       "       [0.6999179 , 0.3000821 ],\n",
       "       [0.31637388, 0.6836261 ],\n",
       "       [0.3955227 , 0.6044773 ],\n",
       "       [0.14009243, 0.85990757],\n",
       "       [0.19334638, 0.8066536 ],\n",
       "       [0.87168413, 0.12831587],\n",
       "       [0.41721237, 0.58278763],\n",
       "       [0.9000415 , 0.0999585 ],\n",
       "       [0.19040382, 0.8095962 ],\n",
       "       [0.5456319 , 0.4543681 ],\n",
       "       [0.19727528, 0.8027247 ],\n",
       "       [0.72539246, 0.27460754],\n",
       "       [0.68794036, 0.3120596 ],\n",
       "       [0.353617  , 0.646383  ],\n",
       "       [0.5087056 , 0.49129438],\n",
       "       [0.8144449 , 0.18555509],\n",
       "       [0.44582742, 0.5541726 ],\n",
       "       [0.5332283 , 0.4667717 ],\n",
       "       [0.31706786, 0.68293214],\n",
       "       [0.44004977, 0.55995023],\n",
       "       [0.48564214, 0.51435786],\n",
       "       [0.409559  , 0.590441  ],\n",
       "       [0.54071176, 0.45928827],\n",
       "       [0.831203  , 0.168797  ],\n",
       "       [0.557166  , 0.442834  ],\n",
       "       [0.2526908 , 0.7473092 ],\n",
       "       [0.35295403, 0.64704597],\n",
       "       [0.42660683, 0.57339317],\n",
       "       [0.33757985, 0.66242015],\n",
       "       [0.24697912, 0.7530209 ],\n",
       "       [0.31994528, 0.6800547 ],\n",
       "       [0.75890404, 0.24109596],\n",
       "       [0.5085157 , 0.49148425],\n",
       "       [0.25796127, 0.7420387 ],\n",
       "       [0.33053893, 0.6694611 ],\n",
       "       [0.2886395 , 0.7113605 ],\n",
       "       [0.352399  , 0.647601  ],\n",
       "       [0.6766461 , 0.32335392],\n",
       "       [0.65504897, 0.34495103],\n",
       "       [0.19656307, 0.80343693],\n",
       "       [0.7114543 , 0.28854573],\n",
       "       [0.05226386, 0.94773614],\n",
       "       [0.21070278, 0.7892972 ],\n",
       "       [0.7120335 , 0.28796652],\n",
       "       [0.27468354, 0.72531646],\n",
       "       [0.5597092 , 0.44029084],\n",
       "       [0.4755689 , 0.5244311 ],\n",
       "       [0.34164202, 0.658358  ],\n",
       "       [0.14632171, 0.8536783 ],\n",
       "       [0.1545586 , 0.8454414 ],\n",
       "       [0.23137146, 0.76862854],\n",
       "       [0.35219944, 0.64780056],\n",
       "       [0.12359929, 0.8764007 ],\n",
       "       [0.493307  , 0.506693  ],\n",
       "       [0.33527887, 0.66472113],\n",
       "       [0.33179414, 0.66820586],\n",
       "       [0.33744484, 0.66255516],\n",
       "       [0.5178166 , 0.4821834 ],\n",
       "       [0.8665272 , 0.13347279],\n",
       "       [0.55429804, 0.44570196],\n",
       "       [0.8021962 , 0.19780378],\n",
       "       [0.6847087 , 0.31529126],\n",
       "       [0.74257326, 0.2574267 ],\n",
       "       [0.2655152 , 0.7344848 ],\n",
       "       [0.7640874 , 0.23591264],\n",
       "       [0.19218594, 0.80781406],\n",
       "       [0.48203582, 0.5179642 ],\n",
       "       [0.35128725, 0.64871275],\n",
       "       [0.05663955, 0.94336045],\n",
       "       [0.5643054 , 0.4356946 ],\n",
       "       [0.28073257, 0.7192674 ],\n",
       "       [0.1259073 , 0.8740927 ],\n",
       "       [0.6104497 , 0.3895503 ],\n",
       "       [0.32764423, 0.6723558 ],\n",
       "       [0.79629695, 0.20370306],\n",
       "       [0.36061686, 0.63938314],\n",
       "       [0.54552627, 0.45447373],\n",
       "       [0.14552158, 0.8544784 ],\n",
       "       [0.6855817 , 0.31441835],\n",
       "       [0.81060004, 0.18939996],\n",
       "       [0.40442646, 0.59557354],\n",
       "       [0.68394315, 0.31605685],\n",
       "       [0.35075802, 0.649242  ],\n",
       "       [0.79401183, 0.20598814],\n",
       "       [0.82914877, 0.17085122],\n",
       "       [0.48654473, 0.5134553 ],\n",
       "       [0.19334662, 0.8066534 ],\n",
       "       [0.32429183, 0.6757082 ],\n",
       "       [0.8007926 , 0.1992074 ],\n",
       "       [0.09883386, 0.90116614],\n",
       "       [0.53943026, 0.46056977],\n",
       "       [0.4586143 , 0.5413857 ],\n",
       "       [0.41298997, 0.58701   ],\n",
       "       [0.6635673 , 0.33643267],\n",
       "       [0.22676492, 0.7732351 ],\n",
       "       [0.3327579 , 0.6672421 ],\n",
       "       [0.15716475, 0.84283525],\n",
       "       [0.48988026, 0.51011974],\n",
       "       [0.7149154 , 0.28508464],\n",
       "       [0.1103465 , 0.8896535 ],\n",
       "       [0.54140985, 0.45859015],\n",
       "       [0.60938895, 0.39061105],\n",
       "       [0.6863208 , 0.3136792 ],\n",
       "       [0.69807607, 0.30192393],\n",
       "       [0.420716  , 0.579284  ],\n",
       "       [0.76839083, 0.23160917],\n",
       "       [0.5046741 , 0.49532592],\n",
       "       [0.43348312, 0.5665169 ],\n",
       "       [0.09355974, 0.90644026],\n",
       "       [0.2724234 , 0.7275766 ],\n",
       "       [0.42733943, 0.57266057],\n",
       "       [0.70846695, 0.29153305],\n",
       "       [0.2778983 , 0.7221017 ],\n",
       "       [0.55436313, 0.44563687],\n",
       "       [0.4006499 , 0.5993501 ],\n",
       "       [0.16563255, 0.83436745],\n",
       "       [0.70508456, 0.29491544],\n",
       "       [0.360559  , 0.639441  ],\n",
       "       [0.3489716 , 0.6510284 ],\n",
       "       [0.41215032, 0.5878497 ],\n",
       "       [0.5070197 , 0.4929803 ],\n",
       "       [0.5620458 , 0.43795416],\n",
       "       [0.5497912 , 0.45020878],\n",
       "       [0.3812676 , 0.6187324 ],\n",
       "       [0.19395995, 0.80604005],\n",
       "       [0.48786527, 0.51213473],\n",
       "       [0.1333428 , 0.8666572 ],\n",
       "       [0.37202573, 0.6279743 ],\n",
       "       [0.39568847, 0.6043115 ],\n",
       "       [0.42770004, 0.57229996],\n",
       "       [0.42274994, 0.57725006],\n",
       "       [0.21302849, 0.7869715 ],\n",
       "       [0.38077325, 0.61922675],\n",
       "       [0.3329361 , 0.6670639 ],\n",
       "       [0.37682217, 0.6231778 ],\n",
       "       [0.32199883, 0.67800117],\n",
       "       [0.6066079 , 0.39339212],\n",
       "       [0.732846  , 0.26715398],\n",
       "       [0.5835217 , 0.4164783 ],\n",
       "       [0.23324108, 0.7667589 ],\n",
       "       [0.6957171 , 0.30428293],\n",
       "       [0.64415914, 0.35584086],\n",
       "       [0.34758806, 0.65241194],\n",
       "       [0.18281019, 0.8171898 ],\n",
       "       [0.74316216, 0.25683784],\n",
       "       [0.6195748 , 0.3804252 ],\n",
       "       [0.32551515, 0.67448485],\n",
       "       [0.5866667 , 0.41333333],\n",
       "       [0.23910087, 0.7608991 ],\n",
       "       [0.79666656, 0.20333342],\n",
       "       [0.73395693, 0.2660431 ],\n",
       "       [0.9381323 , 0.0618677 ],\n",
       "       [0.62554824, 0.3744518 ],\n",
       "       [0.60211813, 0.39788184],\n",
       "       [0.39960682, 0.6003932 ],\n",
       "       [0.60583216, 0.39416784],\n",
       "       [0.2527578 , 0.7472422 ],\n",
       "       [0.7521177 , 0.2478823 ],\n",
       "       [0.28493565, 0.71506435],\n",
       "       [0.600405  , 0.399595  ],\n",
       "       [0.7020283 , 0.2979717 ],\n",
       "       [0.41762787, 0.5823721 ],\n",
       "       [0.49719977, 0.5028002 ],\n",
       "       [0.4597389 , 0.5402611 ],\n",
       "       [0.41402364, 0.58597636],\n",
       "       [0.6385186 , 0.3614814 ],\n",
       "       [0.40343994, 0.59656006],\n",
       "       [0.8378502 , 0.16214976],\n",
       "       [0.69810665, 0.30189332],\n",
       "       [0.5777276 , 0.42227238],\n",
       "       [0.18329519, 0.8167048 ],\n",
       "       [0.21632242, 0.7836776 ],\n",
       "       [0.11297518, 0.8870248 ],\n",
       "       [0.45594722, 0.5440528 ],\n",
       "       [0.46583283, 0.5341672 ],\n",
       "       [0.7561003 , 0.24389969],\n",
       "       [0.68099195, 0.31900805],\n",
       "       [0.5105855 , 0.4894145 ],\n",
       "       [0.2738005 , 0.7261995 ],\n",
       "       [0.2990811 , 0.7009189 ],\n",
       "       [0.21477741, 0.7852226 ],\n",
       "       [0.04337293, 0.9566271 ],\n",
       "       [0.6096616 , 0.3903384 ],\n",
       "       [0.71967983, 0.2803202 ],\n",
       "       [0.23552853, 0.7644715 ],\n",
       "       [0.64013207, 0.35986796],\n",
       "       [0.8195245 , 0.18047549],\n",
       "       [0.59313554, 0.40686446],\n",
       "       [0.79742557, 0.20257442],\n",
       "       [0.26666415, 0.73333585],\n",
       "       [0.29666567, 0.70333433],\n",
       "       [0.3728608 , 0.6271392 ],\n",
       "       [0.5581187 , 0.44188133],\n",
       "       [0.43703747, 0.56296253],\n",
       "       [0.64127946, 0.35872054],\n",
       "       [0.5124816 , 0.4875184 ],\n",
       "       [0.77111363, 0.22888635],\n",
       "       [0.2559467 , 0.7440533 ],\n",
       "       [0.29607612, 0.7039239 ],\n",
       "       [0.14465249, 0.8553475 ],\n",
       "       [0.39391637, 0.60608363],\n",
       "       [0.28744715, 0.71255285],\n",
       "       [0.6774968 , 0.32250318],\n",
       "       [0.3810398 , 0.6189602 ],\n",
       "       [0.19448578, 0.8055142 ],\n",
       "       [0.41055423, 0.58944577],\n",
       "       [0.45913923, 0.5408608 ],\n",
       "       [0.29270202, 0.707298  ],\n",
       "       [0.26020378, 0.7397962 ],\n",
       "       [0.1317569 , 0.8682431 ],\n",
       "       [0.5808028 , 0.41919723],\n",
       "       [0.7735951 , 0.22640494],\n",
       "       [0.32141435, 0.67858565],\n",
       "       [0.44282585, 0.55717415],\n",
       "       [0.59056145, 0.40943855],\n",
       "       [0.38014132, 0.6198587 ],\n",
       "       [0.26352614, 0.73647386],\n",
       "       [0.5156    , 0.48439997],\n",
       "       [0.61557686, 0.3844231 ],\n",
       "       [0.21953386, 0.78046614],\n",
       "       [0.16381842, 0.8361816 ],\n",
       "       [0.36956805, 0.63043195],\n",
       "       [0.5685191 , 0.43148088],\n",
       "       [0.8783502 , 0.12164979],\n",
       "       [0.40880883, 0.5911912 ],\n",
       "       [0.36088765, 0.63911235],\n",
       "       [0.847331  , 0.152669  ],\n",
       "       [0.24107867, 0.7589213 ],\n",
       "       [0.16350615, 0.83649385],\n",
       "       [0.6695037 , 0.33049628],\n",
       "       [0.4775926 , 0.5224074 ],\n",
       "       [0.64171064, 0.35828936],\n",
       "       [0.8665272 , 0.13347279],\n",
       "       [0.37778592, 0.6222141 ],\n",
       "       [0.4596823 , 0.5403177 ],\n",
       "       [0.42543268, 0.5745673 ],\n",
       "       [0.13029087, 0.86970913],\n",
       "       [0.48758072, 0.5124193 ],\n",
       "       [0.7511681 , 0.24883193],\n",
       "       [0.53319734, 0.46680266]], dtype=float32)"
      ]
     },
     "execution_count": 35,
     "metadata": {},
     "output_type": "execute_result"
    }
   ],
   "source": [
    "xgboost.predict_proba(X_test)"
   ]
  },
  {
   "cell_type": "code",
   "execution_count": 36,
   "metadata": {
    "ExecuteTime": {
     "end_time": "2019-11-18T12:49:23.284565Z",
     "start_time": "2019-11-18T12:49:23.016609Z"
    }
   },
   "outputs": [
    {
     "data": {
      "text/plain": [
       "<matplotlib.axes._subplots.AxesSubplot at 0x2d454bcbc50>"
      ]
     },
     "execution_count": 36,
     "metadata": {},
     "output_type": "execute_result"
    },
    {
     "data": {
      "image/png": "[encoded data removed]",
      "text/plain": [
       "<Figure size 432x288 with 1 Axes>"
      ]
     },
     "metadata": {
      "needs_background": "light"
     },
     "output_type": "display_data"
    }
   ],
   "source": [
    "coef1 = pd.Series(xgboost.feature_importances_, X_train.columns).sort_values(ascending = False)\n",
    "coef1.plot(kind = 'bar', title = 'Feature Importance')"
   ]
  },
  {
   "cell_type": "code",
   "execution_count": 37,
   "metadata": {
    "ExecuteTime": {
     "end_time": "2019-11-18T12:49:27.629482Z",
     "start_time": "2019-11-18T12:49:27.545525Z"
    }
   },
   "outputs": [
    {
     "data": {
      "text/plain": [
       "0.675990675990676"
      ]
     },
     "execution_count": 37,
     "metadata": {},
     "output_type": "execute_result"
    }
   ],
   "source": [
    "accuracy_score(y_test,xgboost.predict(X_test))"
   ]
  },
  {
   "cell_type": "code",
   "execution_count": 38,
   "metadata": {
    "ExecuteTime": {
     "end_time": "2019-11-18T12:49:34.841839Z",
     "start_time": "2019-11-18T12:49:30.469855Z"
    }
   },
   "outputs": [
    {
     "name": "stderr",
     "output_type": "stream",
     "text": [
      "C:\\Users\\Lenovo\\Anaconda3\\lib\\site-packages\\sklearn\\model_selection\\_split.py:1978: FutureWarning: The default value of cv will change from 3 to 5 in version 0.22. Specify it explicitly to silence this warning.\n",
      "  warnings.warn(CV_WARNING, FutureWarning)\n"
     ]
    },
    {
     "name": "stdout",
     "output_type": "stream",
     "text": [
      "0.7014577259475219\n",
      "{'learning_rate': 0.1, 'n_estimators': 140}\n"
     ]
    }
   ],
   "source": [
    "from sklearn.model_selection import GridSearchCV\n",
    "\n",
    "param_learning = (0.12, 0.1, 0.08, 0.06)\n",
    "param_estimator = (80,100,120,140)\n",
    "param_grid = {'learning_rate': param_learning, 'n_estimators':param_estimator}\n",
    "\n",
    "gs = GridSearchCV(xgboost,param_grid,scoring='accuracy')\n",
    "\n",
    "gs = gs.fit(X_train, y_train)\n",
    "\n",
    "print(gs.best_score_)\n",
    "print(gs.best_params_)"
   ]
  },
  {
   "cell_type": "code",
   "execution_count": 39,
   "metadata": {
    "ExecuteTime": {
     "end_time": "2019-11-18T12:49:34.997838Z",
     "start_time": "2019-11-18T12:49:34.841839Z"
    }
   },
   "outputs": [
    {
     "name": "stdout",
     "output_type": "stream",
     "text": [
      "              precision    recall  f1-score   support\n",
      "\n",
      "        Loss       0.72      0.63      0.67       218\n",
      "      Profit       0.66      0.75      0.71       211\n",
      "\n",
      "    accuracy                           0.69       429\n",
      "   macro avg       0.69      0.69      0.69       429\n",
      "weighted avg       0.69      0.69      0.69       429\n",
      "\n"
     ]
    }
   ],
   "source": [
    "xgboost = XGBClassifier(learning_rate = 0.08, n_estimators = 120, max_depth = 4)\n",
    "xgboost.fit(X_train, y_train)\n",
    "print(classification_report(y_test, xgboost.predict(X_test)))"
   ]
  },
  {
   "cell_type": "code",
   "execution_count": 40,
   "metadata": {
    "ExecuteTime": {
     "end_time": "2019-11-18T12:49:46.282251Z",
     "start_time": "2019-11-18T12:49:46.090060Z"
    }
   },
   "outputs": [
    {
     "data": {
      "text/plain": [
       "<matplotlib.axes._subplots.AxesSubplot at 0x2d454b4e400>"
      ]
     },
     "execution_count": 40,
     "metadata": {},
     "output_type": "execute_result"
    },
    {
     "data": {
      "image/png": "[encoded data removed]",
      "text/plain": [
       "<Figure size 432x288 with 1 Axes>"
      ]
     },
     "metadata": {
      "needs_background": "light"
     },
     "output_type": "display_data"
    }
   ],
   "source": [
    "coef1 = pd.Series(xgboost.feature_importances_, X_train.columns).sort_values(ascending = False)\n",
    "coef1.plot(kind = 'bar', title = 'Feature Importance')"
   ]
  },
  {
   "cell_type": "markdown",
   "metadata": {},
   "source": [
    "### Logistic Regression"
   ]
  },
  {
   "cell_type": "code",
   "execution_count": 41,
   "metadata": {
    "ExecuteTime": {
     "end_time": "2019-11-18T12:50:43.181613Z",
     "start_time": "2019-11-18T12:50:43.101623Z"
    }
   },
   "outputs": [],
   "source": [
    "from sklearn.linear_model import LogisticRegression"
   ]
  },
  {
   "cell_type": "code",
   "execution_count": 42,
   "metadata": {
    "ExecuteTime": {
     "end_time": "2019-11-18T12:50:55.781319Z",
     "start_time": "2019-11-18T12:50:55.757377Z"
    }
   },
   "outputs": [
    {
     "name": "stderr",
     "output_type": "stream",
     "text": [
      "C:\\Users\\Lenovo\\Anaconda3\\lib\\site-packages\\sklearn\\linear_model\\logistic.py:432: FutureWarning: Default solver will be changed to 'lbfgs' in 0.22. Specify a solver to silence this warning.\n",
      "  FutureWarning)\n"
     ]
    },
    {
     "data": {
      "text/plain": [
       "LogisticRegression(C=1.0, class_weight=None, dual=False, fit_intercept=True,\n",
       "                   intercept_scaling=1, l1_ratio=None, max_iter=100,\n",
       "                   multi_class='warn', n_jobs=None, penalty='l2',\n",
       "                   random_state=None, solver='warn', tol=0.0001, verbose=0,\n",
       "                   warm_start=False)"
      ]
     },
     "execution_count": 42,
     "metadata": {},
     "output_type": "execute_result"
    }
   ],
   "source": [
    "logmodel = LogisticRegression()\n",
    "logmodel.fit(X_train,y_train)"
   ]
  },
  {
   "cell_type": "code",
   "execution_count": 43,
   "metadata": {
    "ExecuteTime": {
     "end_time": "2019-11-18T12:51:06.076015Z",
     "start_time": "2019-11-18T12:51:06.067978Z"
    }
   },
   "outputs": [],
   "source": [
    "predictions = logmodel.predict(X_test)"
   ]
  },
  {
   "cell_type": "code",
   "execution_count": 44,
   "metadata": {
    "ExecuteTime": {
     "end_time": "2019-11-18T12:51:22.192739Z",
     "start_time": "2019-11-18T12:51:22.172739Z"
    }
   },
   "outputs": [
    {
     "data": {
      "text/html": [
       "<div>\n",
       "<style scoped>\n",
       "    .dataframe tbody tr th:only-of-type {\n",
       "        vertical-align: middle;\n",
       "    }\n",
       "\n",
       "    .dataframe tbody tr th {\n",
       "        vertical-align: top;\n",
       "    }\n",
       "\n",
       "    .dataframe thead th {\n",
       "        text-align: right;\n",
       "    }\n",
       "</style>\n",
       "<table border=\"1\" class=\"dataframe\">\n",
       "  <thead>\n",
       "    <tr style=\"text-align: right;\">\n",
       "      <th></th>\n",
       "      <th>P No</th>\n",
       "      <th>P Yes</th>\n",
       "    </tr>\n",
       "  </thead>\n",
       "  <tbody>\n",
       "    <tr>\n",
       "      <th>A No</th>\n",
       "      <td>82</td>\n",
       "      <td>136</td>\n",
       "    </tr>\n",
       "    <tr>\n",
       "      <th>A Yes</th>\n",
       "      <td>64</td>\n",
       "      <td>147</td>\n",
       "    </tr>\n",
       "  </tbody>\n",
       "</table>\n",
       "</div>"
      ],
      "text/plain": [
       "       P No  P Yes\n",
       "A No     82    136\n",
       "A Yes    64    147"
      ]
     },
     "execution_count": 44,
     "metadata": {},
     "output_type": "execute_result"
    }
   ],
   "source": [
    "pd.DataFrame(confusion_matrix(y_test,predictions), columns = ['P No', 'P Yes'], index = ['A No', 'A Yes'])"
   ]
  },
  {
   "cell_type": "code",
   "execution_count": 45,
   "metadata": {
    "ExecuteTime": {
     "end_time": "2019-11-18T12:51:31.060577Z",
     "start_time": "2019-11-18T12:51:31.032555Z"
    }
   },
   "outputs": [
    {
     "name": "stdout",
     "output_type": "stream",
     "text": [
      "              precision    recall  f1-score   support\n",
      "\n",
      "        Loss       0.56      0.38      0.45       218\n",
      "      Profit       0.52      0.70      0.60       211\n",
      "\n",
      "    accuracy                           0.53       429\n",
      "   macro avg       0.54      0.54      0.52       429\n",
      "weighted avg       0.54      0.53      0.52       429\n",
      "\n"
     ]
    }
   ],
   "source": [
    "print(classification_report(y_test,predictions))"
   ]
  },
  {
   "cell_type": "markdown",
   "metadata": {},
   "source": [
    "### KNN"
   ]
  },
  {
   "cell_type": "code",
   "execution_count": 46,
   "metadata": {
    "ExecuteTime": {
     "end_time": "2019-11-18T12:52:52.774720Z",
     "start_time": "2019-11-18T12:52:52.702733Z"
    }
   },
   "outputs": [],
   "source": [
    "from sklearn.neighbors import KNeighborsClassifier"
   ]
  },
  {
   "cell_type": "code",
   "execution_count": 47,
   "metadata": {
    "ExecuteTime": {
     "end_time": "2019-11-18T12:53:18.211799Z",
     "start_time": "2019-11-18T12:53:18.203761Z"
    }
   },
   "outputs": [],
   "source": [
    "knn = KNeighborsClassifier(n_neighbors=2)"
   ]
  },
  {
   "cell_type": "code",
   "execution_count": 48,
   "metadata": {
    "ExecuteTime": {
     "end_time": "2019-11-18T12:53:36.790089Z",
     "start_time": "2019-11-18T12:53:36.774091Z"
    }
   },
   "outputs": [
    {
     "data": {
      "text/plain": [
       "KNeighborsClassifier(algorithm='auto', leaf_size=30, metric='minkowski',\n",
       "                     metric_params=None, n_jobs=None, n_neighbors=2, p=2,\n",
       "                     weights='uniform')"
      ]
     },
     "execution_count": 48,
     "metadata": {},
     "output_type": "execute_result"
    }
   ],
   "source": [
    "knn.fit(X_train,y_train)"
   ]
  },
  {
   "cell_type": "code",
   "execution_count": 49,
   "metadata": {
    "ExecuteTime": {
     "end_time": "2019-11-18T12:53:48.319617Z",
     "start_time": "2019-11-18T12:53:48.295620Z"
    }
   },
   "outputs": [],
   "source": [
    "pred = knn.predict(X_test)"
   ]
  },
  {
   "cell_type": "code",
   "execution_count": 50,
   "metadata": {
    "ExecuteTime": {
     "end_time": "2019-11-18T12:54:01.915821Z",
     "start_time": "2019-11-18T12:54:01.891824Z"
    }
   },
   "outputs": [
    {
     "name": "stdout",
     "output_type": "stream",
     "text": [
      "              precision    recall  f1-score   support\n",
      "\n",
      "        Loss       0.50      0.72      0.59       218\n",
      "      Profit       0.47      0.25      0.33       211\n",
      "\n",
      "    accuracy                           0.49       429\n",
      "   macro avg       0.48      0.49      0.46       429\n",
      "weighted avg       0.48      0.49      0.46       429\n",
      "\n"
     ]
    }
   ],
   "source": [
    "print(classification_report(y_test,pred))"
   ]
  },
  {
   "cell_type": "markdown",
   "metadata": {},
   "source": [
    "### Jika melihat dari akurasi terlihat bahwa XGBoost mempunyai akurasi yang terbaik, sehingga saya akan menggunakan XGBoost untuk kedepannya"
   ]
  },
  {
   "cell_type": "markdown",
   "metadata": {},
   "source": [
    "### \"Hypertuning Variable\""
   ]
  },
  {
   "cell_type": "code",
   "execution_count": 52,
   "metadata": {
    "ExecuteTime": {
     "end_time": "2019-11-18T12:58:18.055146Z",
     "start_time": "2019-11-18T12:58:18.023152Z"
    }
   },
   "outputs": [],
   "source": [
    "def accuracyyy(stock):\n",
    "    accuracies = []\n",
    "    for n in range(1,31):\n",
    "        df = Fetcher(stock,[2010,1,1],[2019,1,1]).getHistorical()\n",
    "        df.drop(['Open','Close'], axis = 1, inplace = True)\n",
    "        df['Date'] = pd.to_datetime(df['Date'])\n",
    "        df.replace(0, np.nan, inplace=True)\n",
    "        df.dropna(inplace = True)\n",
    "        ma = []\n",
    "        for i in range(len(df)):\n",
    "            if i < 14:\n",
    "                ma.append(np.nan)\n",
    "            else:\n",
    "                ma.append(df['Adj Close'][(i-14):i].mean())\n",
    "        df['SMA'] = ma\n",
    "        BBLower = []\n",
    "        for i in range(len(df)):\n",
    "            if i < 14 :\n",
    "                BBLower.append(np.nan)\n",
    "            else:\n",
    "                BBLower.append((df['SMA'].iloc[i] - (2 * df['Adj Close'][(i-14):i].std())))\n",
    "        df['BBLower'] = BBLower\n",
    "        williamsr= []\n",
    "        for i in range(len(df)):\n",
    "            if i < 14 :\n",
    "                williamsr.append(np.nan)\n",
    "            else:\n",
    "                high = df['High'].iloc[(i-14):(i)].max()\n",
    "                low = df['Low'].iloc[(i-14):(i)].min()\n",
    "                williamsr.append(((high-df['Adj Close'].iloc[i])/(high-low))*(-100))\n",
    "        df['Williams R'] = williamsr\n",
    "        result = []\n",
    "        for i in range(len(df)):\n",
    "            if i < n:\n",
    "                result.append(np.nan)\n",
    "            elif i > (len(df)-(n+1)):\n",
    "                result.append(np.nan)\n",
    "            else:\n",
    "                if df['Adj Close'].iloc[i] < df['Adj Close'].iloc[i+n]:\n",
    "                    result.append('Profit')\n",
    "                else:\n",
    "                    result.append('Loss')\n",
    "        df['Result'] = result\n",
    "        df.dropna(axis = 0, inplace = True)\n",
    "        data = df.drop(['Date','Result','Adj Close', 'High','Low'],axis = 1)\n",
    "        result = df['Result']\n",
    "        X_train, X_test, y_train, y_test = train_test_split(data, result, test_size = 0.2)\n",
    "        X_train, X_test, y_train, y_test = train_test_split(data, result, test_size = 0.2)\n",
    "        xgboost = XGBClassifier(learning_rate = 0.01, n_estimators = 1000, max_depth = 4)\n",
    "        xgboost.fit(X_train, y_train)\n",
    "        param_learning = (0.12, 0.1, 0.08, 0.06)\n",
    "        param_estimator = (80,100,120,140)\n",
    "        max_depth = (1,2,3,4)\n",
    "        param_grid = {'learning_rate': param_learning, 'n_estimators':param_estimator, 'max_depth':max_depth}\n",
    "        gs = GridSearchCV(xgboost,param_grid,scoring='accuracy')\n",
    "        gs = gs.fit(X_train, y_train)\n",
    "        learning_rates = 0\n",
    "        n_estimatorss = 0\n",
    "        max_depths = 0\n",
    "        learning_rates += gs.best_params_['learning_rate']\n",
    "        n_estimatorss += gs.best_params_['n_estimators']\n",
    "        max_depths += gs.best_params_['max_depth']\n",
    "        xgboost = XGBClassifier(learning_rate = learning_rates, n_estimators = n_estimatorss, max_depth = max_depths)\n",
    "        xgboost.fit(X_train, y_train)\n",
    "        predictions = xgboost.predict(X_test)\n",
    "        accuracies.append(accuracy_score(y_test,predictions))\n",
    "    data = pd.DataFrame(accuracies)\n",
    "    return data"
   ]
  },
  {
   "cell_type": "code",
   "execution_count": 53,
   "metadata": {
    "ExecuteTime": {
     "end_time": "2019-11-18T13:06:25.381207Z",
     "start_time": "2019-11-18T12:58:20.316240Z"
    },
    "scrolled": false
   },
   "outputs": [
    {
     "name": "stderr",
     "output_type": "stream",
     "text": [
      "C:\\Users\\Lenovo\\Anaconda3\\lib\\site-packages\\sklearn\\model_selection\\_split.py:1978: FutureWarning: The default value of cv will change from 3 to 5 in version 0.22. Specify it explicitly to silence this warning.\n",
      "  warnings.warn(CV_WARNING, FutureWarning)\n",
      "C:\\Users\\Lenovo\\Anaconda3\\lib\\site-packages\\sklearn\\model_selection\\_split.py:1978: FutureWarning: The default value of cv will change from 3 to 5 in version 0.22. Specify it explicitly to silence this warning.\n",
      "  warnings.warn(CV_WARNING, FutureWarning)\n",
      "C:\\Users\\Lenovo\\Anaconda3\\lib\\site-packages\\sklearn\\model_selection\\_split.py:1978: FutureWarning: The default value of cv will change from 3 to 5 in version 0.22. Specify it explicitly to silence this warning.\n",
      "  warnings.warn(CV_WARNING, FutureWarning)\n",
      "C:\\Users\\Lenovo\\Anaconda3\\lib\\site-packages\\sklearn\\model_selection\\_split.py:1978: FutureWarning: The default value of cv will change from 3 to 5 in version 0.22. Specify it explicitly to silence this warning.\n",
      "  warnings.warn(CV_WARNING, FutureWarning)\n",
      "C:\\Users\\Lenovo\\Anaconda3\\lib\\site-packages\\sklearn\\model_selection\\_split.py:1978: FutureWarning: The default value of cv will change from 3 to 5 in version 0.22. Specify it explicitly to silence this warning.\n",
      "  warnings.warn(CV_WARNING, FutureWarning)\n",
      "C:\\Users\\Lenovo\\Anaconda3\\lib\\site-packages\\sklearn\\model_selection\\_split.py:1978: FutureWarning: The default value of cv will change from 3 to 5 in version 0.22. Specify it explicitly to silence this warning.\n",
      "  warnings.warn(CV_WARNING, FutureWarning)\n",
      "C:\\Users\\Lenovo\\Anaconda3\\lib\\site-packages\\sklearn\\model_selection\\_split.py:1978: FutureWarning: The default value of cv will change from 3 to 5 in version 0.22. Specify it explicitly to silence this warning.\n",
      "  warnings.warn(CV_WARNING, FutureWarning)\n",
      "C:\\Users\\Lenovo\\Anaconda3\\lib\\site-packages\\sklearn\\model_selection\\_split.py:1978: FutureWarning: The default value of cv will change from 3 to 5 in version 0.22. Specify it explicitly to silence this warning.\n",
      "  warnings.warn(CV_WARNING, FutureWarning)\n",
      "C:\\Users\\Lenovo\\Anaconda3\\lib\\site-packages\\sklearn\\model_selection\\_split.py:1978: FutureWarning: The default value of cv will change from 3 to 5 in version 0.22. Specify it explicitly to silence this warning.\n",
      "  warnings.warn(CV_WARNING, FutureWarning)\n",
      "C:\\Users\\Lenovo\\Anaconda3\\lib\\site-packages\\sklearn\\model_selection\\_split.py:1978: FutureWarning: The default value of cv will change from 3 to 5 in version 0.22. Specify it explicitly to silence this warning.\n",
      "  warnings.warn(CV_WARNING, FutureWarning)\n",
      "C:\\Users\\Lenovo\\Anaconda3\\lib\\site-packages\\sklearn\\model_selection\\_split.py:1978: FutureWarning: The default value of cv will change from 3 to 5 in version 0.22. Specify it explicitly to silence this warning.\n",
      "  warnings.warn(CV_WARNING, FutureWarning)\n",
      "C:\\Users\\Lenovo\\Anaconda3\\lib\\site-packages\\sklearn\\model_selection\\_split.py:1978: FutureWarning: The default value of cv will change from 3 to 5 in version 0.22. Specify it explicitly to silence this warning.\n",
      "  warnings.warn(CV_WARNING, FutureWarning)\n",
      "C:\\Users\\Lenovo\\Anaconda3\\lib\\site-packages\\sklearn\\model_selection\\_split.py:1978: FutureWarning: The default value of cv will change from 3 to 5 in version 0.22. Specify it explicitly to silence this warning.\n",
      "  warnings.warn(CV_WARNING, FutureWarning)\n",
      "C:\\Users\\Lenovo\\Anaconda3\\lib\\site-packages\\sklearn\\model_selection\\_split.py:1978: FutureWarning: The default value of cv will change from 3 to 5 in version 0.22. Specify it explicitly to silence this warning.\n",
      "  warnings.warn(CV_WARNING, FutureWarning)\n",
      "C:\\Users\\Lenovo\\Anaconda3\\lib\\site-packages\\sklearn\\model_selection\\_split.py:1978: FutureWarning: The default value of cv will change from 3 to 5 in version 0.22. Specify it explicitly to silence this warning.\n",
      "  warnings.warn(CV_WARNING, FutureWarning)\n",
      "C:\\Users\\Lenovo\\Anaconda3\\lib\\site-packages\\sklearn\\model_selection\\_split.py:1978: FutureWarning: The default value of cv will change from 3 to 5 in version 0.22. Specify it explicitly to silence this warning.\n",
      "  warnings.warn(CV_WARNING, FutureWarning)\n",
      "C:\\Users\\Lenovo\\Anaconda3\\lib\\site-packages\\sklearn\\model_selection\\_split.py:1978: FutureWarning: The default value of cv will change from 3 to 5 in version 0.22. Specify it explicitly to silence this warning.\n",
      "  warnings.warn(CV_WARNING, FutureWarning)\n",
      "C:\\Users\\Lenovo\\Anaconda3\\lib\\site-packages\\sklearn\\model_selection\\_split.py:1978: FutureWarning: The default value of cv will change from 3 to 5 in version 0.22. Specify it explicitly to silence this warning.\n",
      "  warnings.warn(CV_WARNING, FutureWarning)\n",
      "C:\\Users\\Lenovo\\Anaconda3\\lib\\site-packages\\sklearn\\model_selection\\_split.py:1978: FutureWarning: The default value of cv will change from 3 to 5 in version 0.22. Specify it explicitly to silence this warning.\n",
      "  warnings.warn(CV_WARNING, FutureWarning)\n",
      "C:\\Users\\Lenovo\\Anaconda3\\lib\\site-packages\\sklearn\\model_selection\\_split.py:1978: FutureWarning: The default value of cv will change from 3 to 5 in version 0.22. Specify it explicitly to silence this warning.\n",
      "  warnings.warn(CV_WARNING, FutureWarning)\n",
      "C:\\Users\\Lenovo\\Anaconda3\\lib\\site-packages\\sklearn\\model_selection\\_split.py:1978: FutureWarning: The default value of cv will change from 3 to 5 in version 0.22. Specify it explicitly to silence this warning.\n",
      "  warnings.warn(CV_WARNING, FutureWarning)\n",
      "C:\\Users\\Lenovo\\Anaconda3\\lib\\site-packages\\sklearn\\model_selection\\_split.py:1978: FutureWarning: The default value of cv will change from 3 to 5 in version 0.22. Specify it explicitly to silence this warning.\n",
      "  warnings.warn(CV_WARNING, FutureWarning)\n",
      "C:\\Users\\Lenovo\\Anaconda3\\lib\\site-packages\\sklearn\\model_selection\\_split.py:1978: FutureWarning: The default value of cv will change from 3 to 5 in version 0.22. Specify it explicitly to silence this warning.\n",
      "  warnings.warn(CV_WARNING, FutureWarning)\n",
      "C:\\Users\\Lenovo\\Anaconda3\\lib\\site-packages\\sklearn\\model_selection\\_split.py:1978: FutureWarning: The default value of cv will change from 3 to 5 in version 0.22. Specify it explicitly to silence this warning.\n",
      "  warnings.warn(CV_WARNING, FutureWarning)\n",
      "C:\\Users\\Lenovo\\Anaconda3\\lib\\site-packages\\sklearn\\model_selection\\_split.py:1978: FutureWarning: The default value of cv will change from 3 to 5 in version 0.22. Specify it explicitly to silence this warning.\n",
      "  warnings.warn(CV_WARNING, FutureWarning)\n",
      "C:\\Users\\Lenovo\\Anaconda3\\lib\\site-packages\\sklearn\\model_selection\\_split.py:1978: FutureWarning: The default value of cv will change from 3 to 5 in version 0.22. Specify it explicitly to silence this warning.\n",
      "  warnings.warn(CV_WARNING, FutureWarning)\n",
      "C:\\Users\\Lenovo\\Anaconda3\\lib\\site-packages\\sklearn\\model_selection\\_split.py:1978: FutureWarning: The default value of cv will change from 3 to 5 in version 0.22. Specify it explicitly to silence this warning.\n",
      "  warnings.warn(CV_WARNING, FutureWarning)\n",
      "C:\\Users\\Lenovo\\Anaconda3\\lib\\site-packages\\sklearn\\model_selection\\_split.py:1978: FutureWarning: The default value of cv will change from 3 to 5 in version 0.22. Specify it explicitly to silence this warning.\n",
      "  warnings.warn(CV_WARNING, FutureWarning)\n",
      "C:\\Users\\Lenovo\\Anaconda3\\lib\\site-packages\\sklearn\\model_selection\\_split.py:1978: FutureWarning: The default value of cv will change from 3 to 5 in version 0.22. Specify it explicitly to silence this warning.\n",
      "  warnings.warn(CV_WARNING, FutureWarning)\n",
      "C:\\Users\\Lenovo\\Anaconda3\\lib\\site-packages\\sklearn\\model_selection\\_split.py:1978: FutureWarning: The default value of cv will change from 3 to 5 in version 0.22. Specify it explicitly to silence this warning.\n",
      "  warnings.warn(CV_WARNING, FutureWarning)\n"
     ]
    },
    {
     "data": {
      "text/html": [
       "<div>\n",
       "<style scoped>\n",
       "    .dataframe tbody tr th:only-of-type {\n",
       "        vertical-align: middle;\n",
       "    }\n",
       "\n",
       "    .dataframe tbody tr th {\n",
       "        vertical-align: top;\n",
       "    }\n",
       "\n",
       "    .dataframe thead th {\n",
       "        text-align: right;\n",
       "    }\n",
       "</style>\n",
       "<table border=\"1\" class=\"dataframe\">\n",
       "  <thead>\n",
       "    <tr style=\"text-align: right;\">\n",
       "      <th></th>\n",
       "      <th>0</th>\n",
       "    </tr>\n",
       "  </thead>\n",
       "  <tbody>\n",
       "    <tr>\n",
       "      <th>0</th>\n",
       "      <td>0.479167</td>\n",
       "    </tr>\n",
       "    <tr>\n",
       "      <th>1</th>\n",
       "      <td>0.546296</td>\n",
       "    </tr>\n",
       "    <tr>\n",
       "      <th>2</th>\n",
       "      <td>0.540603</td>\n",
       "    </tr>\n",
       "    <tr>\n",
       "      <th>3</th>\n",
       "      <td>0.568445</td>\n",
       "    </tr>\n",
       "    <tr>\n",
       "      <th>4</th>\n",
       "      <td>0.596288</td>\n",
       "    </tr>\n",
       "    <tr>\n",
       "      <th>5</th>\n",
       "      <td>0.663573</td>\n",
       "    </tr>\n",
       "    <tr>\n",
       "      <th>6</th>\n",
       "      <td>0.658933</td>\n",
       "    </tr>\n",
       "    <tr>\n",
       "      <th>7</th>\n",
       "      <td>0.644186</td>\n",
       "    </tr>\n",
       "    <tr>\n",
       "      <th>8</th>\n",
       "      <td>0.648837</td>\n",
       "    </tr>\n",
       "    <tr>\n",
       "      <th>9</th>\n",
       "      <td>0.667442</td>\n",
       "    </tr>\n",
       "    <tr>\n",
       "      <th>10</th>\n",
       "      <td>0.690698</td>\n",
       "    </tr>\n",
       "    <tr>\n",
       "      <th>11</th>\n",
       "      <td>0.679070</td>\n",
       "    </tr>\n",
       "    <tr>\n",
       "      <th>12</th>\n",
       "      <td>0.666667</td>\n",
       "    </tr>\n",
       "    <tr>\n",
       "      <th>13</th>\n",
       "      <td>0.703963</td>\n",
       "    </tr>\n",
       "    <tr>\n",
       "      <th>14</th>\n",
       "      <td>0.696970</td>\n",
       "    </tr>\n",
       "    <tr>\n",
       "      <th>15</th>\n",
       "      <td>0.689252</td>\n",
       "    </tr>\n",
       "    <tr>\n",
       "      <th>16</th>\n",
       "      <td>0.724299</td>\n",
       "    </tr>\n",
       "    <tr>\n",
       "      <th>17</th>\n",
       "      <td>0.735981</td>\n",
       "    </tr>\n",
       "    <tr>\n",
       "      <th>18</th>\n",
       "      <td>0.711944</td>\n",
       "    </tr>\n",
       "    <tr>\n",
       "      <th>19</th>\n",
       "      <td>0.721311</td>\n",
       "    </tr>\n",
       "    <tr>\n",
       "      <th>20</th>\n",
       "      <td>0.697183</td>\n",
       "    </tr>\n",
       "    <tr>\n",
       "      <th>21</th>\n",
       "      <td>0.718310</td>\n",
       "    </tr>\n",
       "    <tr>\n",
       "      <th>22</th>\n",
       "      <td>0.734742</td>\n",
       "    </tr>\n",
       "    <tr>\n",
       "      <th>23</th>\n",
       "      <td>0.757647</td>\n",
       "    </tr>\n",
       "    <tr>\n",
       "      <th>24</th>\n",
       "      <td>0.741176</td>\n",
       "    </tr>\n",
       "    <tr>\n",
       "      <th>25</th>\n",
       "      <td>0.695755</td>\n",
       "    </tr>\n",
       "    <tr>\n",
       "      <th>26</th>\n",
       "      <td>0.695755</td>\n",
       "    </tr>\n",
       "    <tr>\n",
       "      <th>27</th>\n",
       "      <td>0.759434</td>\n",
       "    </tr>\n",
       "    <tr>\n",
       "      <th>28</th>\n",
       "      <td>0.732861</td>\n",
       "    </tr>\n",
       "    <tr>\n",
       "      <th>29</th>\n",
       "      <td>0.737589</td>\n",
       "    </tr>\n",
       "  </tbody>\n",
       "</table>\n",
       "</div>"
      ],
      "text/plain": [
       "           0\n",
       "0   0.479167\n",
       "1   0.546296\n",
       "2   0.540603\n",
       "3   0.568445\n",
       "4   0.596288\n",
       "5   0.663573\n",
       "6   0.658933\n",
       "7   0.644186\n",
       "8   0.648837\n",
       "9   0.667442\n",
       "10  0.690698\n",
       "11  0.679070\n",
       "12  0.666667\n",
       "13  0.703963\n",
       "14  0.696970\n",
       "15  0.689252\n",
       "16  0.724299\n",
       "17  0.735981\n",
       "18  0.711944\n",
       "19  0.721311\n",
       "20  0.697183\n",
       "21  0.718310\n",
       "22  0.734742\n",
       "23  0.757647\n",
       "24  0.741176\n",
       "25  0.695755\n",
       "26  0.695755\n",
       "27  0.759434\n",
       "28  0.732861\n",
       "29  0.737589"
      ]
     },
     "execution_count": 53,
     "metadata": {},
     "output_type": "execute_result"
    }
   ],
   "source": [
    "angka = pd.DataFrame(accuracyyy('SMGR.JK'))\n",
    "angka"
   ]
  },
  {
   "cell_type": "code",
   "execution_count": 63,
   "metadata": {
    "ExecuteTime": {
     "end_time": "2019-11-18T13:16:30.546682Z",
     "start_time": "2019-11-18T13:16:30.526733Z"
    }
   },
   "outputs": [
    {
     "data": {
      "text/html": [
       "<div>\n",
       "<style scoped>\n",
       "    .dataframe tbody tr th:only-of-type {\n",
       "        vertical-align: middle;\n",
       "    }\n",
       "\n",
       "    .dataframe tbody tr th {\n",
       "        vertical-align: top;\n",
       "    }\n",
       "\n",
       "    .dataframe thead th {\n",
       "        text-align: right;\n",
       "    }\n",
       "</style>\n",
       "<table border=\"1\" class=\"dataframe\">\n",
       "  <thead>\n",
       "    <tr style=\"text-align: right;\">\n",
       "      <th></th>\n",
       "      <th>0</th>\n",
       "    </tr>\n",
       "  </thead>\n",
       "  <tbody>\n",
       "    <tr>\n",
       "      <th>27</th>\n",
       "      <td>0.759434</td>\n",
       "    </tr>\n",
       "    <tr>\n",
       "      <th>23</th>\n",
       "      <td>0.757647</td>\n",
       "    </tr>\n",
       "    <tr>\n",
       "      <th>24</th>\n",
       "      <td>0.741176</td>\n",
       "    </tr>\n",
       "    <tr>\n",
       "      <th>29</th>\n",
       "      <td>0.737589</td>\n",
       "    </tr>\n",
       "    <tr>\n",
       "      <th>17</th>\n",
       "      <td>0.735981</td>\n",
       "    </tr>\n",
       "    <tr>\n",
       "      <th>22</th>\n",
       "      <td>0.734742</td>\n",
       "    </tr>\n",
       "    <tr>\n",
       "      <th>28</th>\n",
       "      <td>0.732861</td>\n",
       "    </tr>\n",
       "    <tr>\n",
       "      <th>16</th>\n",
       "      <td>0.724299</td>\n",
       "    </tr>\n",
       "    <tr>\n",
       "      <th>19</th>\n",
       "      <td>0.721311</td>\n",
       "    </tr>\n",
       "    <tr>\n",
       "      <th>21</th>\n",
       "      <td>0.718310</td>\n",
       "    </tr>\n",
       "    <tr>\n",
       "      <th>18</th>\n",
       "      <td>0.711944</td>\n",
       "    </tr>\n",
       "    <tr>\n",
       "      <th>13</th>\n",
       "      <td>0.703963</td>\n",
       "    </tr>\n",
       "    <tr>\n",
       "      <th>20</th>\n",
       "      <td>0.697183</td>\n",
       "    </tr>\n",
       "    <tr>\n",
       "      <th>14</th>\n",
       "      <td>0.696970</td>\n",
       "    </tr>\n",
       "    <tr>\n",
       "      <th>25</th>\n",
       "      <td>0.695755</td>\n",
       "    </tr>\n",
       "    <tr>\n",
       "      <th>26</th>\n",
       "      <td>0.695755</td>\n",
       "    </tr>\n",
       "    <tr>\n",
       "      <th>10</th>\n",
       "      <td>0.690698</td>\n",
       "    </tr>\n",
       "    <tr>\n",
       "      <th>15</th>\n",
       "      <td>0.689252</td>\n",
       "    </tr>\n",
       "    <tr>\n",
       "      <th>11</th>\n",
       "      <td>0.679070</td>\n",
       "    </tr>\n",
       "    <tr>\n",
       "      <th>9</th>\n",
       "      <td>0.667442</td>\n",
       "    </tr>\n",
       "    <tr>\n",
       "      <th>12</th>\n",
       "      <td>0.666667</td>\n",
       "    </tr>\n",
       "    <tr>\n",
       "      <th>5</th>\n",
       "      <td>0.663573</td>\n",
       "    </tr>\n",
       "    <tr>\n",
       "      <th>6</th>\n",
       "      <td>0.658933</td>\n",
       "    </tr>\n",
       "    <tr>\n",
       "      <th>8</th>\n",
       "      <td>0.648837</td>\n",
       "    </tr>\n",
       "    <tr>\n",
       "      <th>7</th>\n",
       "      <td>0.644186</td>\n",
       "    </tr>\n",
       "    <tr>\n",
       "      <th>4</th>\n",
       "      <td>0.596288</td>\n",
       "    </tr>\n",
       "    <tr>\n",
       "      <th>3</th>\n",
       "      <td>0.568445</td>\n",
       "    </tr>\n",
       "    <tr>\n",
       "      <th>1</th>\n",
       "      <td>0.546296</td>\n",
       "    </tr>\n",
       "    <tr>\n",
       "      <th>2</th>\n",
       "      <td>0.540603</td>\n",
       "    </tr>\n",
       "    <tr>\n",
       "      <th>0</th>\n",
       "      <td>0.479167</td>\n",
       "    </tr>\n",
       "  </tbody>\n",
       "</table>\n",
       "</div>"
      ],
      "text/plain": [
       "           0\n",
       "27  0.759434\n",
       "23  0.757647\n",
       "24  0.741176\n",
       "29  0.737589\n",
       "17  0.735981\n",
       "22  0.734742\n",
       "28  0.732861\n",
       "16  0.724299\n",
       "19  0.721311\n",
       "21  0.718310\n",
       "18  0.711944\n",
       "13  0.703963\n",
       "20  0.697183\n",
       "14  0.696970\n",
       "25  0.695755\n",
       "26  0.695755\n",
       "10  0.690698\n",
       "15  0.689252\n",
       "11  0.679070\n",
       "9   0.667442\n",
       "12  0.666667\n",
       "5   0.663573\n",
       "6   0.658933\n",
       "8   0.648837\n",
       "7   0.644186\n",
       "4   0.596288\n",
       "3   0.568445\n",
       "1   0.546296\n",
       "2   0.540603\n",
       "0   0.479167"
      ]
     },
     "execution_count": 63,
     "metadata": {},
     "output_type": "execute_result"
    }
   ],
   "source": [
    "pd.DataFrame(angka[0].sort_values(ascending = False))"
   ]
  },
  {
   "cell_type": "code",
   "execution_count": 64,
   "metadata": {
    "ExecuteTime": {
     "end_time": "2019-11-18T13:19:12.346293Z",
     "start_time": "2019-11-18T13:19:12.326295Z"
    }
   },
   "outputs": [
    {
     "data": {
      "text/plain": [
       "28"
      ]
     },
     "execution_count": 64,
     "metadata": {},
     "output_type": "execute_result"
    }
   ],
   "source": [
    "bestresult = (angka[0].sort_values(ascending = False).reset_index()['index'][0] + 1)\n",
    "bestresult"
   ]
  },
  {
   "cell_type": "code",
   "execution_count": null,
   "metadata": {},
   "outputs": [],
   "source": []
  },
  {
   "cell_type": "code",
   "execution_count": 67,
   "metadata": {
    "ExecuteTime": {
     "end_time": "2019-11-18T13:20:37.371423Z",
     "start_time": "2019-11-18T13:20:20.935925Z"
    }
   },
   "outputs": [
    {
     "name": "stderr",
     "output_type": "stream",
     "text": [
      "C:\\Users\\Lenovo\\Anaconda3\\lib\\site-packages\\sklearn\\model_selection\\_split.py:1978: FutureWarning: The default value of cv will change from 3 to 5 in version 0.22. Specify it explicitly to silence this warning.\n",
      "  warnings.warn(CV_WARNING, FutureWarning)\n"
     ]
    },
    {
     "name": "stdout",
     "output_type": "stream",
     "text": [
      "              precision    recall  f1-score   support\n",
      "\n",
      "        Loss       0.73      0.68      0.71       190\n",
      "      Profit       0.76      0.79      0.77       234\n",
      "\n",
      "    accuracy                           0.75       424\n",
      "   macro avg       0.74      0.74      0.74       424\n",
      "weighted avg       0.74      0.75      0.74       424\n",
      "\n"
     ]
    }
   ],
   "source": [
    "\n",
    "        df = Fetcher('SMGR.JK',[2010,1,1],[2019,1,1]).getHistorical()\n",
    "        df.drop(['Open','Close'], axis = 1, inplace = True)\n",
    "        df['Date'] = pd.to_datetime(df['Date'])\n",
    "        df.replace(0, np.nan, inplace=True)\n",
    "        df.dropna(inplace = True)\n",
    "        ma = []\n",
    "        for i in range(len(df)):\n",
    "            if i < 14:\n",
    "                ma.append(np.nan)\n",
    "            else:\n",
    "                ma.append(df['Adj Close'][(i-14):i].mean())\n",
    "        df['SMA'] = ma\n",
    "        BBLower = []\n",
    "        for i in range(len(df)):\n",
    "            if i < 14 :\n",
    "                BBLower.append(np.nan)\n",
    "            else:\n",
    "                BBLower.append((df['SMA'].iloc[i] - (2 * df['Adj Close'][(i-14):i].std())))\n",
    "        df['BBLower'] = BBLower\n",
    "        williamsr= []\n",
    "        for i in range(len(df)):\n",
    "            if i < 14 :\n",
    "                williamsr.append(np.nan)\n",
    "            else:\n",
    "                high = df['High'].iloc[(i-14):(i)].max()\n",
    "                low = df['Low'].iloc[(i-14):(i)].min()\n",
    "                williamsr.append(((high-df['Adj Close'].iloc[i])/(high-low))*(-100))\n",
    "        df['Williams R'] = williamsr\n",
    "        result = []\n",
    "        for i in range(len(df)):\n",
    "            if i < bestresult:\n",
    "                result.append(np.nan)\n",
    "            elif i > (len(df)-(bestresult+1)):\n",
    "                result.append(np.nan)\n",
    "            else:\n",
    "                if df['Adj Close'].iloc[i] < df['Adj Close'].iloc[i+bestresult]:\n",
    "                    result.append('Profit')\n",
    "                else:\n",
    "                    result.append('Loss')\n",
    "        df['Result'] = result\n",
    "        df.dropna(axis = 0, inplace = True)\n",
    "        data = df.drop(['Date','Result','Adj Close', 'High','Low'],axis = 1)\n",
    "        result = df['Result']\n",
    "        X_train, X_test, y_train, y_test = train_test_split(data, result, test_size = 0.2)\n",
    "        X_train, X_test, y_train, y_test = train_test_split(data, result, test_size = 0.2)\n",
    "        xgboost = XGBClassifier(learning_rate = 0.01, n_estimators = 1000, max_depth = 4)\n",
    "        xgboost.fit(X_train, y_train)\n",
    "        param_learning = (0.12, 0.1, 0.08, 0.06)\n",
    "        param_estimator = (80,100,120,140)\n",
    "        max_depth = (1,2,3,4)\n",
    "        param_grid = {'learning_rate': param_learning, 'n_estimators':param_estimator, 'max_depth':max_depth}\n",
    "        gs = GridSearchCV(xgboost,param_grid,scoring='accuracy')\n",
    "        gs = gs.fit(X_train, y_train)\n",
    "        learning_rates = 0\n",
    "        n_estimatorss = 0\n",
    "        max_depths = 0\n",
    "        learning_rates += gs.best_params_['learning_rate']\n",
    "        n_estimatorss += gs.best_params_['n_estimators']\n",
    "        max_depths += gs.best_params_['max_depth']\n",
    "        xgboost = XGBClassifier(learning_rate = learning_rates, n_estimators = n_estimatorss, max_depth = max_depths)\n",
    "        xgboost.fit(X_train, y_train)\n",
    "        predictions = xgboost.predict(X_test)\n",
    "        print(classification_report(y_test,predictions))\n",
    "        "
   ]
  },
  {
   "cell_type": "markdown",
   "metadata": {},
   "source": [
    "### Otomatisasi 1 (Trial, Tanpa \"Hypertuning Variable\")"
   ]
  },
  {
   "cell_type": "code",
   "execution_count": 40,
   "metadata": {
    "ExecuteTime": {
     "end_time": "2019-11-17T14:28:42.528029Z",
     "start_time": "2019-11-17T14:28:42.500030Z"
    }
   },
   "outputs": [],
   "source": [
    "def decision(stock):\n",
    "    df = Fetcher(stock,[2010,1,1],[2019,1,1]).getHistorical()\n",
    "    df.drop(['Open','Close'], axis = 1, inplace = True)\n",
    "    df['Date'] = pd.to_datetime(df['Date'])\n",
    "    df.replace(0, np.nan, inplace=True)\n",
    "    df.dropna(inplace = True)\n",
    "    ma = []\n",
    "    for i in range(len(df)):\n",
    "        if i < 14:\n",
    "            ma.append(np.nan)\n",
    "        else:\n",
    "            ma.append(df['Adj Close'][(i-14):i].mean())\n",
    "    df['SMA'] = ma\n",
    "    BBLower = []\n",
    "    for i in range(len(df)):\n",
    "        if i < 14 :\n",
    "            BBLower.append(np.nan)\n",
    "        else:\n",
    "            BBLower.append((df['SMA'].iloc[i] - (2 * df['Adj Close'][(i-14):i].std())))\n",
    "    df['BBLower'] = BBLower\n",
    "    williamsr= []\n",
    "    for i in range(len(df)):\n",
    "        if i < 14 :\n",
    "            williamsr.append(np.nan)\n",
    "        else:\n",
    "            high = df['High'].iloc[(i-14):(i)].max()\n",
    "            low = df['Low'].iloc[(i-14):(i)].min()\n",
    "            williamsr.append(((high-df['Adj Close'].iloc[i])/(high-low))*(-100))\n",
    "    df['Williams R'] = williamsr\n",
    "    result = []\n",
    "    for i in range(len(df)):\n",
    "        if i < 14:\n",
    "            result.append(np.nan)\n",
    "        elif i > (len(df)-15):\n",
    "            result.append(np.nan)\n",
    "        else:\n",
    "            if df['Adj Close'].iloc[i] < df['Adj Close'].iloc[i+14]:\n",
    "                result.append('Profit')\n",
    "            else:\n",
    "                result.append('Loss')\n",
    "    df['Result'] = result\n",
    "    df.dropna(axis = 0, inplace = True)\n",
    "    data = df.drop(['Date','Result','Adj Close', 'High','Low'],axis = 1)\n",
    "    result = df['Result']\n",
    "    X_train, X_test, y_train, y_test = train_test_split(data, result, test_size = 0.2)\n",
    "    xgboost = XGBClassifier(learning_rate = 0.01, n_estimators = 1000, max_depth = 4)\n",
    "    xgboost.fit(X_train, y_train)\n",
    "    param_learning = (0.12, 0.1, 0.08, 0.06)\n",
    "    param_estimator = (80,100,120,140)\n",
    "    max_depth = (1,2,3,4)\n",
    "    param_grid = {'learning_rate': param_learning, 'n_estimators':param_estimator, 'max_depth':max_depth}\n",
    "    gs = GridSearchCV(xgboost,param_grid,scoring='accuracy')\n",
    "    gs = gs.fit(X_train, y_train)\n",
    "    learning_rates = 0\n",
    "    n_estimatorss = 0\n",
    "    max_depths = 0\n",
    "    learning_rates += gs.best_params_['learning_rate']\n",
    "    n_estimatorss += gs.best_params_['n_estimators']\n",
    "    max_depths += gs.best_params_['max_depth']\n",
    "    xgboost = XGBClassifier(learning_rate = learning_rates, n_estimators = n_estimatorss, max_depth = max_depths)\n",
    "    xgboost.fit(X_train, y_train)\n",
    "    dfpredict = Fetcher(stock,[2019,10,28],[2019,11,15]).getHistorical()\n",
    "    dfpredict = dfpredict[['Volume','Adj Close']]\n",
    "    dfpredict['SMA'] = dfpredict['Adj Close'][13].mean()\n",
    "    dfpredict['BBLower'] = df['SMA'].iloc[13] - (2 * df['Adj Close'][0:13].std())\n",
    "    dfpredict['Williams R'] = ((high-df['Adj Close'].iloc[13])/(high-low))*(-100)\n",
    "    dfpredict.drop('Adj Close', axis =1, inplace = True)\n",
    "    decisions.append(xgboost.predict(pd.DataFrame(dfpredict.iloc[13]).transpose())[0])"
   ]
  },
  {
   "cell_type": "code",
   "execution_count": 41,
   "metadata": {
    "ExecuteTime": {
     "end_time": "2019-11-17T14:28:43.138219Z",
     "start_time": "2019-11-17T14:28:43.102225Z"
    }
   },
   "outputs": [],
   "source": [
    "def probability(stock):\n",
    "    df = Fetcher(stock,[2010,1,1],[2019,1,1]).getHistorical()\n",
    "    df.drop(['Open','Close'], axis = 1, inplace = True)\n",
    "    df['Date'] = pd.to_datetime(df['Date'])\n",
    "    df.replace(0, np.nan, inplace=True)\n",
    "    df.dropna(inplace = True)\n",
    "    ma = []\n",
    "    for i in range(len(df)):\n",
    "        if i < 14:\n",
    "            ma.append(np.nan)\n",
    "        else:\n",
    "            ma.append(df['Adj Close'][(i-14):i].mean())\n",
    "    df['SMA'] = ma\n",
    "    BBLower = []\n",
    "    for i in range(len(df)):\n",
    "        if i < 14 :\n",
    "            BBLower.append(np.nan)\n",
    "        else:\n",
    "            BBLower.append((df['SMA'].iloc[i] - (2 * df['Adj Close'][(i-14):i].std())))\n",
    "    df['BBLower'] = BBLower\n",
    "    williamsr= []\n",
    "    for i in range(len(df)):\n",
    "        if i < 14 :\n",
    "            williamsr.append(np.nan)\n",
    "        else:\n",
    "            high = df['High'].iloc[(i-14):(i)].max()\n",
    "            low = df['Low'].iloc[(i-14):(i)].min()\n",
    "            williamsr.append(((high-df['Adj Close'].iloc[i])/(high-low))*(-100))\n",
    "    df['Williams R'] = williamsr\n",
    "    result = []\n",
    "    for i in range(len(df)):\n",
    "        if i < 14:\n",
    "            result.append(np.nan)\n",
    "        elif i > (len(df)-15):\n",
    "            result.append(np.nan)\n",
    "        else:\n",
    "            if df['Adj Close'].iloc[i] < df['Adj Close'].iloc[i+14]:\n",
    "                result.append('Profit')\n",
    "            else:\n",
    "                result.append('Loss')\n",
    "    df['Result'] = result\n",
    "    df.dropna(axis = 0, inplace = True)\n",
    "    data = df.drop(['Date','Result','Adj Close', 'High','Low'],axis = 1)\n",
    "    result = df['Result']\n",
    "    X_train, X_test, y_train, y_test = train_test_split(data, result, test_size = 0.2)\n",
    "    xgboost = XGBClassifier(learning_rate = 0.01, n_estimators = 1000, max_depth = 4)\n",
    "    xgboost.fit(X_train, y_train)\n",
    "    param_learning = (0.12, 0.1, 0.08, 0.06)\n",
    "    param_estimator = (80,100,120,140)\n",
    "    max_depth = (1,2,3,4)\n",
    "    param_grid = {'learning_rate': param_learning, 'n_estimators':param_estimator, 'max_depth':max_depth}\n",
    "    gs = GridSearchCV(xgboost,param_grid,scoring='accuracy')\n",
    "    gs = gs.fit(X_train, y_train)\n",
    "    learning_rates = 0q\n",
    "    n_estimatorss = 0\n",
    "    max_depths = 0\n",
    "    learning_rates += gs.best_params_['learning_rate']\n",
    "    n_estimatorss += gs.best_params_['n_estimators']\n",
    "    max_depths += gs.best_params_['max_depth']\n",
    "    xgboost = XGBClassifier(learning_rate = learning_rates, n_estimators = n_estimatorss, max_depth = max_depths)\n",
    "    xgboost.fit(X_train, y_train)\n",
    "    dfpredict = Fetcher(stock,[2019,10,28],[2019,11,15]).getHistorical()\n",
    "    dfpredict = dfpredict[['Volume','Adj Close']]\n",
    "    dfpredict['SMA'] = dfpredict['Adj Close'][13].mean()\n",
    "    dfpredict['BBLower'] = df['SMA'].iloc[13] - (2 * df['Adj Close'][0:13].std())\n",
    "    dfpredict['Williams R'] = ((high-df['Adj Close'].iloc[13])/(high-low))*(-100)\n",
    "    dfpredict.drop('Adj Close', axis =1, inplace = True)\n",
    "    if xgboost.predict(pd.DataFrame(dfpredict.iloc[13]).transpose())[0] == 'Loss':\n",
    "         return pd.DataFrame(xgboost.predict_proba(pd.DataFrame(dfpredict.iloc[13]).transpose()))[0][0]\n",
    "    elif xgboost.predict(pd.DataFrame(dfpredict.iloc[13]).transpose())[0] == 'Profit':\n",
    "         return pd.DataFrame(xgboost.predict_proba(pd.DataFrame(dfpredict.iloc[13]).transpose()))[1][0]"
   ]
  },
  {
   "cell_type": "code",
   "execution_count": 42,
   "metadata": {
    "ExecuteTime": {
     "end_time": "2019-11-17T14:28:43.731833Z",
     "start_time": "2019-11-17T14:28:43.699872Z"
    }
   },
   "outputs": [],
   "source": [
    "def accuracyy(stock):\n",
    "    df = Fetcher(stock,[2010,1,1],[2019,1,1]).getHistorical()\n",
    "    df.drop(['Open','Close'], axis = 1, inplace = True)\n",
    "    df['Date'] = pd.to_datetime(df['Date'])\n",
    "    df.replace(0, np.nan, inplace=True)\n",
    "    df.dropna(inplace = True)\n",
    "    ma = []\n",
    "    for i in range(len(df)):\n",
    "        if i < 14:\n",
    "            ma.append(np.nan)\n",
    "        else:\n",
    "            ma.append(df['Adj Close'][(i-14):i].mean())\n",
    "    df['SMA'] = ma\n",
    "    BBLower = []\n",
    "    for i in range(len(df)):\n",
    "        if i < 14 :\n",
    "            BBLower.append(np.nan)\n",
    "        else:\n",
    "            BBLower.append((df['SMA'].iloc[i] - (2 * df['Adj Close'][(i-14):i].std())))\n",
    "    df['BBLower'] = BBLower\n",
    "    williamsr= []\n",
    "    for i in range(len(df)):\n",
    "        if i < 14 :\n",
    "            williamsr.append(np.nan)\n",
    "        else:\n",
    "            high = df['High'].iloc[(i-14):(i)].max()\n",
    "            low = df['Low'].iloc[(i-14):(i)].min()\n",
    "            williamsr.append(((high-df['Adj Close'].iloc[i])/(high-low))*(-100))\n",
    "    df['Williams R'] = williamsr\n",
    "    result = []\n",
    "    for i in range(len(df)):\n",
    "        if i < 14:\n",
    "            result.append(np.nan)\n",
    "        elif i > (len(df)-15):\n",
    "            result.append(np.nan)\n",
    "        else:\n",
    "            if df['Adj Close'].iloc[i] < df['Adj Close'].iloc[i+14]:\n",
    "                result.append('Profit')\n",
    "            else:\n",
    "                result.append('Loss')\n",
    "    df['Result'] = result\n",
    "    df.dropna(axis = 0, inplace = True)\n",
    "    data = df.drop(['Date','Result','Adj Close', 'High','Low'],axis = 1)\n",
    "    result = df['Result']\n",
    "    X_train, X_test, y_train, y_test = train_test_split(data, result, test_size = 0.2)\n",
    "    X_train, X_test, y_train, y_test = train_test_split(data, result, test_size = 0.2)\n",
    "    xgboost = XGBClassifier(learning_rate = 0.01, n_estimators = 1000, max_depth = 4)\n",
    "    xgboost.fit(X_train, y_train)\n",
    "    param_learning = (0.12, 0.1, 0.08, 0.06)\n",
    "    param_estimator = (80,100,120,140)\n",
    "    max_depth = (1,2,3,4)\n",
    "    param_grid = {'learning_rate': param_learning, 'n_estimators':param_estimator, 'max_depth':max_depth}\n",
    "    gs = GridSearchCV(xgboost,param_grid,scoring='accuracy')\n",
    "    gs = gs.fit(X_train, y_train)\n",
    "    learning_rates = 0\n",
    "    n_estimatorss = 0\n",
    "    max_depths = 0\n",
    "    learning_rates += gs.best_params_['learning_rate']\n",
    "    n_estimatorss += gs.best_params_['n_estimators']\n",
    "    max_depths += gs.best_params_['max_depth']\n",
    "    xgboost = XGBClassifier(learning_rate = learning_rates, n_estimators = n_estimatorss, max_depth = max_depths)\n",
    "    xgboost.fit(X_train, y_train)\n",
    "    predictions = xgboost.predict(X_test)\n",
    "    return accuracy_score(y_test,predictions)"
   ]
  },
  {
   "cell_type": "code",
   "execution_count": 167,
   "metadata": {
    "ExecuteTime": {
     "end_time": "2019-11-17T19:04:19.271904Z",
     "start_time": "2019-11-17T18:01:32.507111Z"
    },
    "scrolled": false
   },
   "outputs": [
    {
     "name": "stderr",
     "output_type": "stream",
     "text": [
      "C:\\Users\\Lenovo\\Anaconda3\\lib\\site-packages\\sklearn\\model_selection\\_split.py:1978: FutureWarning: The default value of cv will change from 3 to 5 in version 0.22. Specify it explicitly to silence this warning.\n",
      "  warnings.warn(CV_WARNING, FutureWarning)\n",
      "C:\\Users\\Lenovo\\Anaconda3\\lib\\site-packages\\sklearn\\model_selection\\_split.py:1978: FutureWarning: The default value of cv will change from 3 to 5 in version 0.22. Specify it explicitly to silence this warning.\n",
      "  warnings.warn(CV_WARNING, FutureWarning)\n",
      "C:\\Users\\Lenovo\\Anaconda3\\lib\\site-packages\\sklearn\\model_selection\\_split.py:1978: FutureWarning: The default value of cv will change from 3 to 5 in version 0.22. Specify it explicitly to silence this warning.\n",
      "  warnings.warn(CV_WARNING, FutureWarning)\n",
      "C:\\Users\\Lenovo\\Anaconda3\\lib\\site-packages\\sklearn\\model_selection\\_split.py:1978: FutureWarning: The default value of cv will change from 3 to 5 in version 0.22. Specify it explicitly to silence this warning.\n",
      "  warnings.warn(CV_WARNING, FutureWarning)\n",
      "C:\\Users\\Lenovo\\Anaconda3\\lib\\site-packages\\sklearn\\model_selection\\_split.py:1978: FutureWarning: The default value of cv will change from 3 to 5 in version 0.22. Specify it explicitly to silence this warning.\n",
      "  warnings.warn(CV_WARNING, FutureWarning)\n",
      "C:\\Users\\Lenovo\\Anaconda3\\lib\\site-packages\\sklearn\\model_selection\\_split.py:1978: FutureWarning: The default value of cv will change from 3 to 5 in version 0.22. Specify it explicitly to silence this warning.\n",
      "  warnings.warn(CV_WARNING, FutureWarning)\n",
      "C:\\Users\\Lenovo\\Anaconda3\\lib\\site-packages\\sklearn\\model_selection\\_split.py:1978: FutureWarning: The default value of cv will change from 3 to 5 in version 0.22. Specify it explicitly to silence this warning.\n",
      "  warnings.warn(CV_WARNING, FutureWarning)\n",
      "C:\\Users\\Lenovo\\Anaconda3\\lib\\site-packages\\sklearn\\model_selection\\_split.py:1978: FutureWarning: The default value of cv will change from 3 to 5 in version 0.22. Specify it explicitly to silence this warning.\n",
      "  warnings.warn(CV_WARNING, FutureWarning)\n",
      "C:\\Users\\Lenovo\\Anaconda3\\lib\\site-packages\\sklearn\\model_selection\\_split.py:1978: FutureWarning: The default value of cv will change from 3 to 5 in version 0.22. Specify it explicitly to silence this warning.\n",
      "  warnings.warn(CV_WARNING, FutureWarning)\n",
      "C:\\Users\\Lenovo\\Anaconda3\\lib\\site-packages\\sklearn\\model_selection\\_split.py:1978: FutureWarning: The default value of cv will change from 3 to 5 in version 0.22. Specify it explicitly to silence this warning.\n",
      "  warnings.warn(CV_WARNING, FutureWarning)\n",
      "C:\\Users\\Lenovo\\Anaconda3\\lib\\site-packages\\sklearn\\model_selection\\_split.py:1978: FutureWarning: The default value of cv will change from 3 to 5 in version 0.22. Specify it explicitly to silence this warning.\n",
      "  warnings.warn(CV_WARNING, FutureWarning)\n",
      "C:\\Users\\Lenovo\\Anaconda3\\lib\\site-packages\\sklearn\\model_selection\\_split.py:1978: FutureWarning: The default value of cv will change from 3 to 5 in version 0.22. Specify it explicitly to silence this warning.\n",
      "  warnings.warn(CV_WARNING, FutureWarning)\n",
      "C:\\Users\\Lenovo\\Anaconda3\\lib\\site-packages\\sklearn\\model_selection\\_split.py:1978: FutureWarning: The default value of cv will change from 3 to 5 in version 0.22. Specify it explicitly to silence this warning.\n",
      "  warnings.warn(CV_WARNING, FutureWarning)\n",
      "C:\\Users\\Lenovo\\Anaconda3\\lib\\site-packages\\sklearn\\model_selection\\_split.py:1978: FutureWarning: The default value of cv will change from 3 to 5 in version 0.22. Specify it explicitly to silence this warning.\n",
      "  warnings.warn(CV_WARNING, FutureWarning)\n",
      "C:\\Users\\Lenovo\\Anaconda3\\lib\\site-packages\\sklearn\\model_selection\\_split.py:1978: FutureWarning: The default value of cv will change from 3 to 5 in version 0.22. Specify it explicitly to silence this warning.\n",
      "  warnings.warn(CV_WARNING, FutureWarning)\n",
      "C:\\Users\\Lenovo\\Anaconda3\\lib\\site-packages\\sklearn\\model_selection\\_split.py:1978: FutureWarning: The default value of cv will change from 3 to 5 in version 0.22. Specify it explicitly to silence this warning.\n",
      "  warnings.warn(CV_WARNING, FutureWarning)\n",
      "C:\\Users\\Lenovo\\Anaconda3\\lib\\site-packages\\sklearn\\model_selection\\_split.py:1978: FutureWarning: The default value of cv will change from 3 to 5 in version 0.22. Specify it explicitly to silence this warning.\n",
      "  warnings.warn(CV_WARNING, FutureWarning)\n",
      "C:\\Users\\Lenovo\\Anaconda3\\lib\\site-packages\\sklearn\\model_selection\\_split.py:1978: FutureWarning: The default value of cv will change from 3 to 5 in version 0.22. Specify it explicitly to silence this warning.\n",
      "  warnings.warn(CV_WARNING, FutureWarning)\n",
      "C:\\Users\\Lenovo\\Anaconda3\\lib\\site-packages\\sklearn\\model_selection\\_split.py:1978: FutureWarning: The default value of cv will change from 3 to 5 in version 0.22. Specify it explicitly to silence this warning.\n",
      "  warnings.warn(CV_WARNING, FutureWarning)\n",
      "C:\\Users\\Lenovo\\Anaconda3\\lib\\site-packages\\sklearn\\model_selection\\_split.py:1978: FutureWarning: The default value of cv will change from 3 to 5 in version 0.22. Specify it explicitly to silence this warning.\n",
      "  warnings.warn(CV_WARNING, FutureWarning)\n",
      "C:\\Users\\Lenovo\\Anaconda3\\lib\\site-packages\\sklearn\\model_selection\\_split.py:1978: FutureWarning: The default value of cv will change from 3 to 5 in version 0.22. Specify it explicitly to silence this warning.\n",
      "  warnings.warn(CV_WARNING, FutureWarning)\n",
      "C:\\Users\\Lenovo\\Anaconda3\\lib\\site-packages\\sklearn\\model_selection\\_split.py:1978: FutureWarning: The default value of cv will change from 3 to 5 in version 0.22. Specify it explicitly to silence this warning.\n",
      "  warnings.warn(CV_WARNING, FutureWarning)\n",
      "C:\\Users\\Lenovo\\Anaconda3\\lib\\site-packages\\sklearn\\model_selection\\_split.py:1978: FutureWarning: The default value of cv will change from 3 to 5 in version 0.22. Specify it explicitly to silence this warning.\n",
      "  warnings.warn(CV_WARNING, FutureWarning)\n",
      "C:\\Users\\Lenovo\\Anaconda3\\lib\\site-packages\\sklearn\\model_selection\\_split.py:1978: FutureWarning: The default value of cv will change from 3 to 5 in version 0.22. Specify it explicitly to silence this warning.\n",
      "  warnings.warn(CV_WARNING, FutureWarning)\n",
      "C:\\Users\\Lenovo\\Anaconda3\\lib\\site-packages\\sklearn\\model_selection\\_split.py:1978: FutureWarning: The default value of cv will change from 3 to 5 in version 0.22. Specify it explicitly to silence this warning.\n",
      "  warnings.warn(CV_WARNING, FutureWarning)\n",
      "C:\\Users\\Lenovo\\Anaconda3\\lib\\site-packages\\sklearn\\model_selection\\_split.py:1978: FutureWarning: The default value of cv will change from 3 to 5 in version 0.22. Specify it explicitly to silence this warning.\n",
      "  warnings.warn(CV_WARNING, FutureWarning)\n",
      "C:\\Users\\Lenovo\\Anaconda3\\lib\\site-packages\\sklearn\\model_selection\\_split.py:1978: FutureWarning: The default value of cv will change from 3 to 5 in version 0.22. Specify it explicitly to silence this warning.\n",
      "  warnings.warn(CV_WARNING, FutureWarning)\n",
      "C:\\Users\\Lenovo\\Anaconda3\\lib\\site-packages\\sklearn\\model_selection\\_split.py:1978: FutureWarning: The default value of cv will change from 3 to 5 in version 0.22. Specify it explicitly to silence this warning.\n",
      "  warnings.warn(CV_WARNING, FutureWarning)\n",
      "C:\\Users\\Lenovo\\Anaconda3\\lib\\site-packages\\sklearn\\model_selection\\_split.py:1978: FutureWarning: The default value of cv will change from 3 to 5 in version 0.22. Specify it explicitly to silence this warning.\n",
      "  warnings.warn(CV_WARNING, FutureWarning)\n",
      "C:\\Users\\Lenovo\\Anaconda3\\lib\\site-packages\\sklearn\\model_selection\\_split.py:1978: FutureWarning: The default value of cv will change from 3 to 5 in version 0.22. Specify it explicitly to silence this warning.\n",
      "  warnings.warn(CV_WARNING, FutureWarning)\n",
      "C:\\Users\\Lenovo\\Anaconda3\\lib\\site-packages\\sklearn\\model_selection\\_split.py:1978: FutureWarning: The default value of cv will change from 3 to 5 in version 0.22. Specify it explicitly to silence this warning.\n",
      "  warnings.warn(CV_WARNING, FutureWarning)\n",
      "C:\\Users\\Lenovo\\Anaconda3\\lib\\site-packages\\sklearn\\model_selection\\_split.py:1978: FutureWarning: The default value of cv will change from 3 to 5 in version 0.22. Specify it explicitly to silence this warning.\n",
      "  warnings.warn(CV_WARNING, FutureWarning)\n",
      "C:\\Users\\Lenovo\\Anaconda3\\lib\\site-packages\\sklearn\\model_selection\\_split.py:1978: FutureWarning: The default value of cv will change from 3 to 5 in version 0.22. Specify it explicitly to silence this warning.\n",
      "  warnings.warn(CV_WARNING, FutureWarning)\n"
     ]
    },
    {
     "name": "stderr",
     "output_type": "stream",
     "text": [
      "C:\\Users\\Lenovo\\Anaconda3\\lib\\site-packages\\sklearn\\model_selection\\_split.py:1978: FutureWarning: The default value of cv will change from 3 to 5 in version 0.22. Specify it explicitly to silence this warning.\n",
      "  warnings.warn(CV_WARNING, FutureWarning)\n",
      "C:\\Users\\Lenovo\\Anaconda3\\lib\\site-packages\\sklearn\\model_selection\\_split.py:1978: FutureWarning: The default value of cv will change from 3 to 5 in version 0.22. Specify it explicitly to silence this warning.\n",
      "  warnings.warn(CV_WARNING, FutureWarning)\n",
      "C:\\Users\\Lenovo\\Anaconda3\\lib\\site-packages\\sklearn\\model_selection\\_split.py:1978: FutureWarning: The default value of cv will change from 3 to 5 in version 0.22. Specify it explicitly to silence this warning.\n",
      "  warnings.warn(CV_WARNING, FutureWarning)\n",
      "C:\\Users\\Lenovo\\Anaconda3\\lib\\site-packages\\sklearn\\model_selection\\_split.py:1978: FutureWarning: The default value of cv will change from 3 to 5 in version 0.22. Specify it explicitly to silence this warning.\n",
      "  warnings.warn(CV_WARNING, FutureWarning)\n",
      "C:\\Users\\Lenovo\\Anaconda3\\lib\\site-packages\\sklearn\\model_selection\\_split.py:1978: FutureWarning: The default value of cv will change from 3 to 5 in version 0.22. Specify it explicitly to silence this warning.\n",
      "  warnings.warn(CV_WARNING, FutureWarning)\n",
      "C:\\Users\\Lenovo\\Anaconda3\\lib\\site-packages\\sklearn\\model_selection\\_split.py:1978: FutureWarning: The default value of cv will change from 3 to 5 in version 0.22. Specify it explicitly to silence this warning.\n",
      "  warnings.warn(CV_WARNING, FutureWarning)\n",
      "C:\\Users\\Lenovo\\Anaconda3\\lib\\site-packages\\sklearn\\model_selection\\_split.py:1978: FutureWarning: The default value of cv will change from 3 to 5 in version 0.22. Specify it explicitly to silence this warning.\n",
      "  warnings.warn(CV_WARNING, FutureWarning)\n",
      "C:\\Users\\Lenovo\\Anaconda3\\lib\\site-packages\\sklearn\\model_selection\\_split.py:1978: FutureWarning: The default value of cv will change from 3 to 5 in version 0.22. Specify it explicitly to silence this warning.\n",
      "  warnings.warn(CV_WARNING, FutureWarning)\n",
      "C:\\Users\\Lenovo\\Anaconda3\\lib\\site-packages\\sklearn\\model_selection\\_split.py:1978: FutureWarning: The default value of cv will change from 3 to 5 in version 0.22. Specify it explicitly to silence this warning.\n",
      "  warnings.warn(CV_WARNING, FutureWarning)\n",
      "C:\\Users\\Lenovo\\Anaconda3\\lib\\site-packages\\sklearn\\model_selection\\_split.py:1978: FutureWarning: The default value of cv will change from 3 to 5 in version 0.22. Specify it explicitly to silence this warning.\n",
      "  warnings.warn(CV_WARNING, FutureWarning)\n",
      "C:\\Users\\Lenovo\\Anaconda3\\lib\\site-packages\\sklearn\\model_selection\\_split.py:1978: FutureWarning: The default value of cv will change from 3 to 5 in version 0.22. Specify it explicitly to silence this warning.\n",
      "  warnings.warn(CV_WARNING, FutureWarning)\n",
      "C:\\Users\\Lenovo\\Anaconda3\\lib\\site-packages\\sklearn\\model_selection\\_split.py:1978: FutureWarning: The default value of cv will change from 3 to 5 in version 0.22. Specify it explicitly to silence this warning.\n",
      "  warnings.warn(CV_WARNING, FutureWarning)\n",
      "C:\\Users\\Lenovo\\Anaconda3\\lib\\site-packages\\sklearn\\model_selection\\_split.py:1978: FutureWarning: The default value of cv will change from 3 to 5 in version 0.22. Specify it explicitly to silence this warning.\n",
      "  warnings.warn(CV_WARNING, FutureWarning)\n",
      "C:\\Users\\Lenovo\\Anaconda3\\lib\\site-packages\\sklearn\\model_selection\\_split.py:1978: FutureWarning: The default value of cv will change from 3 to 5 in version 0.22. Specify it explicitly to silence this warning.\n",
      "  warnings.warn(CV_WARNING, FutureWarning)\n",
      "C:\\Users\\Lenovo\\Anaconda3\\lib\\site-packages\\sklearn\\model_selection\\_split.py:1978: FutureWarning: The default value of cv will change from 3 to 5 in version 0.22. Specify it explicitly to silence this warning.\n",
      "  warnings.warn(CV_WARNING, FutureWarning)\n",
      "C:\\Users\\Lenovo\\Anaconda3\\lib\\site-packages\\ipykernel_launcher.py:28: RuntimeWarning: divide by zero encountered in double_scalars\n",
      "C:\\Users\\Lenovo\\Anaconda3\\lib\\site-packages\\sklearn\\model_selection\\_split.py:1978: FutureWarning: The default value of cv will change from 3 to 5 in version 0.22. Specify it explicitly to silence this warning.\n",
      "  warnings.warn(CV_WARNING, FutureWarning)\n",
      "C:\\Users\\Lenovo\\Anaconda3\\lib\\site-packages\\ipykernel_launcher.py:28: RuntimeWarning: divide by zero encountered in double_scalars\n",
      "C:\\Users\\Lenovo\\Anaconda3\\lib\\site-packages\\sklearn\\model_selection\\_split.py:1978: FutureWarning: The default value of cv will change from 3 to 5 in version 0.22. Specify it explicitly to silence this warning.\n",
      "  warnings.warn(CV_WARNING, FutureWarning)\n",
      "C:\\Users\\Lenovo\\Anaconda3\\lib\\site-packages\\ipykernel_launcher.py:28: RuntimeWarning: divide by zero encountered in double_scalars\n",
      "C:\\Users\\Lenovo\\Anaconda3\\lib\\site-packages\\sklearn\\model_selection\\_split.py:1978: FutureWarning: The default value of cv will change from 3 to 5 in version 0.22. Specify it explicitly to silence this warning.\n",
      "  warnings.warn(CV_WARNING, FutureWarning)\n",
      "C:\\Users\\Lenovo\\Anaconda3\\lib\\site-packages\\sklearn\\model_selection\\_split.py:1978: FutureWarning: The default value of cv will change from 3 to 5 in version 0.22. Specify it explicitly to silence this warning.\n",
      "  warnings.warn(CV_WARNING, FutureWarning)\n",
      "C:\\Users\\Lenovo\\Anaconda3\\lib\\site-packages\\sklearn\\model_selection\\_split.py:1978: FutureWarning: The default value of cv will change from 3 to 5 in version 0.22. Specify it explicitly to silence this warning.\n",
      "  warnings.warn(CV_WARNING, FutureWarning)\n",
      "C:\\Users\\Lenovo\\Anaconda3\\lib\\site-packages\\sklearn\\model_selection\\_split.py:1978: FutureWarning: The default value of cv will change from 3 to 5 in version 0.22. Specify it explicitly to silence this warning.\n",
      "  warnings.warn(CV_WARNING, FutureWarning)\n",
      "C:\\Users\\Lenovo\\Anaconda3\\lib\\site-packages\\sklearn\\model_selection\\_split.py:1978: FutureWarning: The default value of cv will change from 3 to 5 in version 0.22. Specify it explicitly to silence this warning.\n",
      "  warnings.warn(CV_WARNING, FutureWarning)\n",
      "C:\\Users\\Lenovo\\Anaconda3\\lib\\site-packages\\sklearn\\model_selection\\_split.py:1978: FutureWarning: The default value of cv will change from 3 to 5 in version 0.22. Specify it explicitly to silence this warning.\n",
      "  warnings.warn(CV_WARNING, FutureWarning)\n",
      "C:\\Users\\Lenovo\\Anaconda3\\lib\\site-packages\\sklearn\\model_selection\\_split.py:1978: FutureWarning: The default value of cv will change from 3 to 5 in version 0.22. Specify it explicitly to silence this warning.\n",
      "  warnings.warn(CV_WARNING, FutureWarning)\n",
      "C:\\Users\\Lenovo\\Anaconda3\\lib\\site-packages\\sklearn\\model_selection\\_split.py:1978: FutureWarning: The default value of cv will change from 3 to 5 in version 0.22. Specify it explicitly to silence this warning.\n",
      "  warnings.warn(CV_WARNING, FutureWarning)\n",
      "C:\\Users\\Lenovo\\Anaconda3\\lib\\site-packages\\sklearn\\model_selection\\_split.py:1978: FutureWarning: The default value of cv will change from 3 to 5 in version 0.22. Specify it explicitly to silence this warning.\n",
      "  warnings.warn(CV_WARNING, FutureWarning)\n",
      "C:\\Users\\Lenovo\\Anaconda3\\lib\\site-packages\\sklearn\\model_selection\\_split.py:1978: FutureWarning: The default value of cv will change from 3 to 5 in version 0.22. Specify it explicitly to silence this warning.\n",
      "  warnings.warn(CV_WARNING, FutureWarning)\n",
      "C:\\Users\\Lenovo\\Anaconda3\\lib\\site-packages\\sklearn\\model_selection\\_split.py:1978: FutureWarning: The default value of cv will change from 3 to 5 in version 0.22. Specify it explicitly to silence this warning.\n",
      "  warnings.warn(CV_WARNING, FutureWarning)\n",
      "C:\\Users\\Lenovo\\Anaconda3\\lib\\site-packages\\sklearn\\model_selection\\_split.py:1978: FutureWarning: The default value of cv will change from 3 to 5 in version 0.22. Specify it explicitly to silence this warning.\n",
      "  warnings.warn(CV_WARNING, FutureWarning)\n",
      "C:\\Users\\Lenovo\\Anaconda3\\lib\\site-packages\\sklearn\\model_selection\\_split.py:1978: FutureWarning: The default value of cv will change from 3 to 5 in version 0.22. Specify it explicitly to silence this warning.\n",
      "  warnings.warn(CV_WARNING, FutureWarning)\n",
      "C:\\Users\\Lenovo\\Anaconda3\\lib\\site-packages\\sklearn\\model_selection\\_split.py:1978: FutureWarning: The default value of cv will change from 3 to 5 in version 0.22. Specify it explicitly to silence this warning.\n",
      "  warnings.warn(CV_WARNING, FutureWarning)\n"
     ]
    },
    {
     "name": "stderr",
     "output_type": "stream",
     "text": [
      "C:\\Users\\Lenovo\\Anaconda3\\lib\\site-packages\\sklearn\\model_selection\\_split.py:1978: FutureWarning: The default value of cv will change from 3 to 5 in version 0.22. Specify it explicitly to silence this warning.\n",
      "  warnings.warn(CV_WARNING, FutureWarning)\n",
      "C:\\Users\\Lenovo\\Anaconda3\\lib\\site-packages\\sklearn\\model_selection\\_split.py:1978: FutureWarning: The default value of cv will change from 3 to 5 in version 0.22. Specify it explicitly to silence this warning.\n",
      "  warnings.warn(CV_WARNING, FutureWarning)\n",
      "C:\\Users\\Lenovo\\Anaconda3\\lib\\site-packages\\sklearn\\model_selection\\_split.py:1978: FutureWarning: The default value of cv will change from 3 to 5 in version 0.22. Specify it explicitly to silence this warning.\n",
      "  warnings.warn(CV_WARNING, FutureWarning)\n",
      "C:\\Users\\Lenovo\\Anaconda3\\lib\\site-packages\\sklearn\\model_selection\\_split.py:1978: FutureWarning: The default value of cv will change from 3 to 5 in version 0.22. Specify it explicitly to silence this warning.\n",
      "  warnings.warn(CV_WARNING, FutureWarning)\n",
      "C:\\Users\\Lenovo\\Anaconda3\\lib\\site-packages\\sklearn\\model_selection\\_split.py:1978: FutureWarning: The default value of cv will change from 3 to 5 in version 0.22. Specify it explicitly to silence this warning.\n",
      "  warnings.warn(CV_WARNING, FutureWarning)\n",
      "C:\\Users\\Lenovo\\Anaconda3\\lib\\site-packages\\ipykernel_launcher.py:28: RuntimeWarning: divide by zero encountered in double_scalars\n",
      "C:\\Users\\Lenovo\\Anaconda3\\lib\\site-packages\\sklearn\\model_selection\\_split.py:1978: FutureWarning: The default value of cv will change from 3 to 5 in version 0.22. Specify it explicitly to silence this warning.\n",
      "  warnings.warn(CV_WARNING, FutureWarning)\n",
      "C:\\Users\\Lenovo\\Anaconda3\\lib\\site-packages\\ipykernel_launcher.py:28: RuntimeWarning: divide by zero encountered in double_scalars\n",
      "C:\\Users\\Lenovo\\Anaconda3\\lib\\site-packages\\sklearn\\model_selection\\_split.py:1978: FutureWarning: The default value of cv will change from 3 to 5 in version 0.22. Specify it explicitly to silence this warning.\n",
      "  warnings.warn(CV_WARNING, FutureWarning)\n",
      "C:\\Users\\Lenovo\\Anaconda3\\lib\\site-packages\\ipykernel_launcher.py:28: RuntimeWarning: divide by zero encountered in double_scalars\n",
      "C:\\Users\\Lenovo\\Anaconda3\\lib\\site-packages\\sklearn\\model_selection\\_split.py:1978: FutureWarning: The default value of cv will change from 3 to 5 in version 0.22. Specify it explicitly to silence this warning.\n",
      "  warnings.warn(CV_WARNING, FutureWarning)\n",
      "C:\\Users\\Lenovo\\Anaconda3\\lib\\site-packages\\sklearn\\model_selection\\_split.py:1978: FutureWarning: The default value of cv will change from 3 to 5 in version 0.22. Specify it explicitly to silence this warning.\n",
      "  warnings.warn(CV_WARNING, FutureWarning)\n",
      "C:\\Users\\Lenovo\\Anaconda3\\lib\\site-packages\\sklearn\\model_selection\\_split.py:1978: FutureWarning: The default value of cv will change from 3 to 5 in version 0.22. Specify it explicitly to silence this warning.\n",
      "  warnings.warn(CV_WARNING, FutureWarning)\n",
      "C:\\Users\\Lenovo\\Anaconda3\\lib\\site-packages\\sklearn\\model_selection\\_split.py:1978: FutureWarning: The default value of cv will change from 3 to 5 in version 0.22. Specify it explicitly to silence this warning.\n",
      "  warnings.warn(CV_WARNING, FutureWarning)\n",
      "C:\\Users\\Lenovo\\Anaconda3\\lib\\site-packages\\sklearn\\model_selection\\_split.py:1978: FutureWarning: The default value of cv will change from 3 to 5 in version 0.22. Specify it explicitly to silence this warning.\n",
      "  warnings.warn(CV_WARNING, FutureWarning)\n",
      "C:\\Users\\Lenovo\\Anaconda3\\lib\\site-packages\\sklearn\\model_selection\\_split.py:1978: FutureWarning: The default value of cv will change from 3 to 5 in version 0.22. Specify it explicitly to silence this warning.\n",
      "  warnings.warn(CV_WARNING, FutureWarning)\n",
      "C:\\Users\\Lenovo\\Anaconda3\\lib\\site-packages\\sklearn\\model_selection\\_split.py:1978: FutureWarning: The default value of cv will change from 3 to 5 in version 0.22. Specify it explicitly to silence this warning.\n",
      "  warnings.warn(CV_WARNING, FutureWarning)\n",
      "C:\\Users\\Lenovo\\Anaconda3\\lib\\site-packages\\sklearn\\model_selection\\_split.py:1978: FutureWarning: The default value of cv will change from 3 to 5 in version 0.22. Specify it explicitly to silence this warning.\n",
      "  warnings.warn(CV_WARNING, FutureWarning)\n",
      "C:\\Users\\Lenovo\\Anaconda3\\lib\\site-packages\\sklearn\\model_selection\\_split.py:1978: FutureWarning: The default value of cv will change from 3 to 5 in version 0.22. Specify it explicitly to silence this warning.\n",
      "  warnings.warn(CV_WARNING, FutureWarning)\n",
      "C:\\Users\\Lenovo\\Anaconda3\\lib\\site-packages\\sklearn\\model_selection\\_split.py:1978: FutureWarning: The default value of cv will change from 3 to 5 in version 0.22. Specify it explicitly to silence this warning.\n",
      "  warnings.warn(CV_WARNING, FutureWarning)\n",
      "C:\\Users\\Lenovo\\Anaconda3\\lib\\site-packages\\sklearn\\model_selection\\_split.py:1978: FutureWarning: The default value of cv will change from 3 to 5 in version 0.22. Specify it explicitly to silence this warning.\n",
      "  warnings.warn(CV_WARNING, FutureWarning)\n",
      "C:\\Users\\Lenovo\\Anaconda3\\lib\\site-packages\\sklearn\\model_selection\\_split.py:1978: FutureWarning: The default value of cv will change from 3 to 5 in version 0.22. Specify it explicitly to silence this warning.\n",
      "  warnings.warn(CV_WARNING, FutureWarning)\n",
      "C:\\Users\\Lenovo\\Anaconda3\\lib\\site-packages\\sklearn\\model_selection\\_split.py:1978: FutureWarning: The default value of cv will change from 3 to 5 in version 0.22. Specify it explicitly to silence this warning.\n",
      "  warnings.warn(CV_WARNING, FutureWarning)\n",
      "C:\\Users\\Lenovo\\Anaconda3\\lib\\site-packages\\sklearn\\model_selection\\_split.py:1978: FutureWarning: The default value of cv will change from 3 to 5 in version 0.22. Specify it explicitly to silence this warning.\n",
      "  warnings.warn(CV_WARNING, FutureWarning)\n",
      "C:\\Users\\Lenovo\\Anaconda3\\lib\\site-packages\\sklearn\\model_selection\\_split.py:1978: FutureWarning: The default value of cv will change from 3 to 5 in version 0.22. Specify it explicitly to silence this warning.\n",
      "  warnings.warn(CV_WARNING, FutureWarning)\n",
      "C:\\Users\\Lenovo\\Anaconda3\\lib\\site-packages\\sklearn\\model_selection\\_split.py:1978: FutureWarning: The default value of cv will change from 3 to 5 in version 0.22. Specify it explicitly to silence this warning.\n",
      "  warnings.warn(CV_WARNING, FutureWarning)\n",
      "C:\\Users\\Lenovo\\Anaconda3\\lib\\site-packages\\sklearn\\model_selection\\_split.py:1978: FutureWarning: The default value of cv will change from 3 to 5 in version 0.22. Specify it explicitly to silence this warning.\n",
      "  warnings.warn(CV_WARNING, FutureWarning)\n",
      "C:\\Users\\Lenovo\\Anaconda3\\lib\\site-packages\\sklearn\\model_selection\\_split.py:1978: FutureWarning: The default value of cv will change from 3 to 5 in version 0.22. Specify it explicitly to silence this warning.\n",
      "  warnings.warn(CV_WARNING, FutureWarning)\n",
      "C:\\Users\\Lenovo\\Anaconda3\\lib\\site-packages\\sklearn\\model_selection\\_split.py:1978: FutureWarning: The default value of cv will change from 3 to 5 in version 0.22. Specify it explicitly to silence this warning.\n",
      "  warnings.warn(CV_WARNING, FutureWarning)\n",
      "C:\\Users\\Lenovo\\Anaconda3\\lib\\site-packages\\sklearn\\model_selection\\_split.py:1978: FutureWarning: The default value of cv will change from 3 to 5 in version 0.22. Specify it explicitly to silence this warning.\n",
      "  warnings.warn(CV_WARNING, FutureWarning)\n",
      "C:\\Users\\Lenovo\\Anaconda3\\lib\\site-packages\\sklearn\\model_selection\\_split.py:1978: FutureWarning: The default value of cv will change from 3 to 5 in version 0.22. Specify it explicitly to silence this warning.\n",
      "  warnings.warn(CV_WARNING, FutureWarning)\n",
      "C:\\Users\\Lenovo\\Anaconda3\\lib\\site-packages\\sklearn\\model_selection\\_split.py:1978: FutureWarning: The default value of cv will change from 3 to 5 in version 0.22. Specify it explicitly to silence this warning.\n",
      "  warnings.warn(CV_WARNING, FutureWarning)\n",
      "C:\\Users\\Lenovo\\Anaconda3\\lib\\site-packages\\sklearn\\model_selection\\_split.py:1978: FutureWarning: The default value of cv will change from 3 to 5 in version 0.22. Specify it explicitly to silence this warning.\n",
      "  warnings.warn(CV_WARNING, FutureWarning)\n",
      "C:\\Users\\Lenovo\\Anaconda3\\lib\\site-packages\\sklearn\\model_selection\\_split.py:1978: FutureWarning: The default value of cv will change from 3 to 5 in version 0.22. Specify it explicitly to silence this warning.\n",
      "  warnings.warn(CV_WARNING, FutureWarning)\n"
     ]
    },
    {
     "name": "stderr",
     "output_type": "stream",
     "text": [
      "C:\\Users\\Lenovo\\Anaconda3\\lib\\site-packages\\sklearn\\model_selection\\_split.py:1978: FutureWarning: The default value of cv will change from 3 to 5 in version 0.22. Specify it explicitly to silence this warning.\n",
      "  warnings.warn(CV_WARNING, FutureWarning)\n",
      "C:\\Users\\Lenovo\\Anaconda3\\lib\\site-packages\\sklearn\\model_selection\\_split.py:1978: FutureWarning: The default value of cv will change from 3 to 5 in version 0.22. Specify it explicitly to silence this warning.\n",
      "  warnings.warn(CV_WARNING, FutureWarning)\n",
      "C:\\Users\\Lenovo\\Anaconda3\\lib\\site-packages\\sklearn\\model_selection\\_split.py:1978: FutureWarning: The default value of cv will change from 3 to 5 in version 0.22. Specify it explicitly to silence this warning.\n",
      "  warnings.warn(CV_WARNING, FutureWarning)\n",
      "C:\\Users\\Lenovo\\Anaconda3\\lib\\site-packages\\sklearn\\model_selection\\_split.py:1978: FutureWarning: The default value of cv will change from 3 to 5 in version 0.22. Specify it explicitly to silence this warning.\n",
      "  warnings.warn(CV_WARNING, FutureWarning)\n",
      "C:\\Users\\Lenovo\\Anaconda3\\lib\\site-packages\\sklearn\\model_selection\\_split.py:1978: FutureWarning: The default value of cv will change from 3 to 5 in version 0.22. Specify it explicitly to silence this warning.\n",
      "  warnings.warn(CV_WARNING, FutureWarning)\n",
      "C:\\Users\\Lenovo\\Anaconda3\\lib\\site-packages\\sklearn\\model_selection\\_split.py:1978: FutureWarning: The default value of cv will change from 3 to 5 in version 0.22. Specify it explicitly to silence this warning.\n",
      "  warnings.warn(CV_WARNING, FutureWarning)\n",
      "C:\\Users\\Lenovo\\Anaconda3\\lib\\site-packages\\sklearn\\model_selection\\_split.py:1978: FutureWarning: The default value of cv will change from 3 to 5 in version 0.22. Specify it explicitly to silence this warning.\n",
      "  warnings.warn(CV_WARNING, FutureWarning)\n",
      "C:\\Users\\Lenovo\\Anaconda3\\lib\\site-packages\\sklearn\\model_selection\\_split.py:1978: FutureWarning: The default value of cv will change from 3 to 5 in version 0.22. Specify it explicitly to silence this warning.\n",
      "  warnings.warn(CV_WARNING, FutureWarning)\n",
      "C:\\Users\\Lenovo\\Anaconda3\\lib\\site-packages\\sklearn\\model_selection\\_split.py:1978: FutureWarning: The default value of cv will change from 3 to 5 in version 0.22. Specify it explicitly to silence this warning.\n",
      "  warnings.warn(CV_WARNING, FutureWarning)\n",
      "C:\\Users\\Lenovo\\Anaconda3\\lib\\site-packages\\sklearn\\model_selection\\_split.py:1978: FutureWarning: The default value of cv will change from 3 to 5 in version 0.22. Specify it explicitly to silence this warning.\n",
      "  warnings.warn(CV_WARNING, FutureWarning)\n",
      "C:\\Users\\Lenovo\\Anaconda3\\lib\\site-packages\\sklearn\\model_selection\\_split.py:1978: FutureWarning: The default value of cv will change from 3 to 5 in version 0.22. Specify it explicitly to silence this warning.\n",
      "  warnings.warn(CV_WARNING, FutureWarning)\n",
      "C:\\Users\\Lenovo\\Anaconda3\\lib\\site-packages\\sklearn\\model_selection\\_split.py:1978: FutureWarning: The default value of cv will change from 3 to 5 in version 0.22. Specify it explicitly to silence this warning.\n",
      "  warnings.warn(CV_WARNING, FutureWarning)\n",
      "C:\\Users\\Lenovo\\Anaconda3\\lib\\site-packages\\sklearn\\model_selection\\_split.py:1978: FutureWarning: The default value of cv will change from 3 to 5 in version 0.22. Specify it explicitly to silence this warning.\n",
      "  warnings.warn(CV_WARNING, FutureWarning)\n"
     ]
    },
    {
     "data": {
      "text/html": [
       "<div>\n",
       "<style scoped>\n",
       "    .dataframe tbody tr th:only-of-type {\n",
       "        vertical-align: middle;\n",
       "    }\n",
       "\n",
       "    .dataframe tbody tr th {\n",
       "        vertical-align: top;\n",
       "    }\n",
       "\n",
       "    .dataframe thead th {\n",
       "        text-align: right;\n",
       "    }\n",
       "</style>\n",
       "<table border=\"1\" class=\"dataframe\">\n",
       "  <thead>\n",
       "    <tr style=\"text-align: right;\">\n",
       "      <th></th>\n",
       "      <th>Saham</th>\n",
       "      <th>Prediction Result</th>\n",
       "      <th>Probability</th>\n",
       "      <th>Accuracy</th>\n",
       "    </tr>\n",
       "  </thead>\n",
       "  <tbody>\n",
       "    <tr>\n",
       "      <th>0</th>\n",
       "      <td>ADHI.JK</td>\n",
       "      <td>Profit</td>\n",
       "      <td>0.791072</td>\n",
       "      <td>0.710956</td>\n",
       "    </tr>\n",
       "    <tr>\n",
       "      <th>1</th>\n",
       "      <td>ADRO.JK</td>\n",
       "      <td>Profit</td>\n",
       "      <td>0.778645</td>\n",
       "      <td>0.666667</td>\n",
       "    </tr>\n",
       "    <tr>\n",
       "      <th>2</th>\n",
       "      <td>ASII.JK</td>\n",
       "      <td>Loss</td>\n",
       "      <td>0.589525</td>\n",
       "      <td>0.717949</td>\n",
       "    </tr>\n",
       "    <tr>\n",
       "      <th>3</th>\n",
       "      <td>ASRI.JK</td>\n",
       "      <td>Loss</td>\n",
       "      <td>0.567787</td>\n",
       "      <td>0.706294</td>\n",
       "    </tr>\n",
       "    <tr>\n",
       "      <th>4</th>\n",
       "      <td>BBCA.JK</td>\n",
       "      <td>Profit</td>\n",
       "      <td>0.579629</td>\n",
       "      <td>0.687646</td>\n",
       "    </tr>\n",
       "    <tr>\n",
       "      <th>5</th>\n",
       "      <td>BBNI.JK</td>\n",
       "      <td>Loss</td>\n",
       "      <td>0.782129</td>\n",
       "      <td>0.657343</td>\n",
       "    </tr>\n",
       "    <tr>\n",
       "      <th>6</th>\n",
       "      <td>BBRI.JK</td>\n",
       "      <td>Loss</td>\n",
       "      <td>0.773302</td>\n",
       "      <td>0.750583</td>\n",
       "    </tr>\n",
       "    <tr>\n",
       "      <th>7</th>\n",
       "      <td>BBTN.JK</td>\n",
       "      <td>Profit</td>\n",
       "      <td>0.934113</td>\n",
       "      <td>0.713287</td>\n",
       "    </tr>\n",
       "    <tr>\n",
       "      <th>8</th>\n",
       "      <td>BKSL.JK</td>\n",
       "      <td>Loss</td>\n",
       "      <td>0.550871</td>\n",
       "      <td>0.755245</td>\n",
       "    </tr>\n",
       "    <tr>\n",
       "      <th>9</th>\n",
       "      <td>BMRI.JK</td>\n",
       "      <td>Loss</td>\n",
       "      <td>0.783795</td>\n",
       "      <td>0.699301</td>\n",
       "    </tr>\n",
       "    <tr>\n",
       "      <th>10</th>\n",
       "      <td>CPIN.JK</td>\n",
       "      <td>Profit</td>\n",
       "      <td>0.931298</td>\n",
       "      <td>0.731935</td>\n",
       "    </tr>\n",
       "    <tr>\n",
       "      <th>11</th>\n",
       "      <td>INTP.JK</td>\n",
       "      <td>Profit</td>\n",
       "      <td>0.781948</td>\n",
       "      <td>0.710956</td>\n",
       "    </tr>\n",
       "    <tr>\n",
       "      <th>12</th>\n",
       "      <td>ITMG.JK</td>\n",
       "      <td>Profit</td>\n",
       "      <td>0.810571</td>\n",
       "      <td>0.734266</td>\n",
       "    </tr>\n",
       "    <tr>\n",
       "      <th>13</th>\n",
       "      <td>JSMR.JK</td>\n",
       "      <td>Profit</td>\n",
       "      <td>0.654977</td>\n",
       "      <td>0.687646</td>\n",
       "    </tr>\n",
       "    <tr>\n",
       "      <th>14</th>\n",
       "      <td>KLBF.JK</td>\n",
       "      <td>Loss</td>\n",
       "      <td>0.781961</td>\n",
       "      <td>0.717949</td>\n",
       "    </tr>\n",
       "    <tr>\n",
       "      <th>15</th>\n",
       "      <td>LPKR.JK</td>\n",
       "      <td>Loss</td>\n",
       "      <td>0.623471</td>\n",
       "      <td>0.713287</td>\n",
       "    </tr>\n",
       "    <tr>\n",
       "      <th>16</th>\n",
       "      <td>LPPF.JK</td>\n",
       "      <td>Profit</td>\n",
       "      <td>0.664986</td>\n",
       "      <td>0.773050</td>\n",
       "    </tr>\n",
       "    <tr>\n",
       "      <th>17</th>\n",
       "      <td>MNCN.JK</td>\n",
       "      <td>Profit</td>\n",
       "      <td>0.861995</td>\n",
       "      <td>0.685315</td>\n",
       "    </tr>\n",
       "    <tr>\n",
       "      <th>18</th>\n",
       "      <td>PTBA.JK</td>\n",
       "      <td>Profit</td>\n",
       "      <td>0.772599</td>\n",
       "      <td>0.748252</td>\n",
       "    </tr>\n",
       "    <tr>\n",
       "      <th>19</th>\n",
       "      <td>PTPP.JK</td>\n",
       "      <td>Loss</td>\n",
       "      <td>0.708769</td>\n",
       "      <td>0.686321</td>\n",
       "    </tr>\n",
       "    <tr>\n",
       "      <th>20</th>\n",
       "      <td>SCMA.JK</td>\n",
       "      <td>Profit</td>\n",
       "      <td>0.862642</td>\n",
       "      <td>0.766900</td>\n",
       "    </tr>\n",
       "    <tr>\n",
       "      <th>21</th>\n",
       "      <td>SMGR.JK</td>\n",
       "      <td>Profit</td>\n",
       "      <td>0.652091</td>\n",
       "      <td>0.694639</td>\n",
       "    </tr>\n",
       "    <tr>\n",
       "      <th>22</th>\n",
       "      <td>SSMS.JK</td>\n",
       "      <td>Profit</td>\n",
       "      <td>0.973358</td>\n",
       "      <td>0.758475</td>\n",
       "    </tr>\n",
       "    <tr>\n",
       "      <th>23</th>\n",
       "      <td>TPIA.JK</td>\n",
       "      <td>Profit</td>\n",
       "      <td>0.947135</td>\n",
       "      <td>0.810160</td>\n",
       "    </tr>\n",
       "    <tr>\n",
       "      <th>24</th>\n",
       "      <td>UNTR.JK</td>\n",
       "      <td>Profit</td>\n",
       "      <td>0.966256</td>\n",
       "      <td>0.664336</td>\n",
       "    </tr>\n",
       "    <tr>\n",
       "      <th>25</th>\n",
       "      <td>UNVR.JK</td>\n",
       "      <td>Profit</td>\n",
       "      <td>0.958206</td>\n",
       "      <td>0.720280</td>\n",
       "    </tr>\n",
       "    <tr>\n",
       "      <th>26</th>\n",
       "      <td>WIKA.JK</td>\n",
       "      <td>Profit</td>\n",
       "      <td>0.945199</td>\n",
       "      <td>0.727273</td>\n",
       "    </tr>\n",
       "    <tr>\n",
       "      <th>27</th>\n",
       "      <td>WSKT.JK</td>\n",
       "      <td>Profit</td>\n",
       "      <td>0.851728</td>\n",
       "      <td>0.763251</td>\n",
       "    </tr>\n",
       "    <tr>\n",
       "      <th>28</th>\n",
       "      <td>ELSA.JK</td>\n",
       "      <td>Loss</td>\n",
       "      <td>0.613684</td>\n",
       "      <td>0.715618</td>\n",
       "    </tr>\n",
       "    <tr>\n",
       "      <th>29</th>\n",
       "      <td>EXCL.JK</td>\n",
       "      <td>Profit</td>\n",
       "      <td>0.516194</td>\n",
       "      <td>0.708625</td>\n",
       "    </tr>\n",
       "    <tr>\n",
       "      <th>30</th>\n",
       "      <td>GGRM.JK</td>\n",
       "      <td>Profit</td>\n",
       "      <td>0.880015</td>\n",
       "      <td>0.650350</td>\n",
       "    </tr>\n",
       "    <tr>\n",
       "      <th>31</th>\n",
       "      <td>HMSP.JK</td>\n",
       "      <td>Loss</td>\n",
       "      <td>0.854478</td>\n",
       "      <td>0.778302</td>\n",
       "    </tr>\n",
       "    <tr>\n",
       "      <th>32</th>\n",
       "      <td>ICBP.JK</td>\n",
       "      <td>Profit</td>\n",
       "      <td>0.977782</td>\n",
       "      <td>0.713287</td>\n",
       "    </tr>\n",
       "    <tr>\n",
       "      <th>33</th>\n",
       "      <td>INCO.JK</td>\n",
       "      <td>Profit</td>\n",
       "      <td>0.716435</td>\n",
       "      <td>0.722611</td>\n",
       "    </tr>\n",
       "    <tr>\n",
       "      <th>34</th>\n",
       "      <td>INDF.JK</td>\n",
       "      <td>Profit</td>\n",
       "      <td>0.638880</td>\n",
       "      <td>0.706294</td>\n",
       "    </tr>\n",
       "    <tr>\n",
       "      <th>35</th>\n",
       "      <td>INDY.JK</td>\n",
       "      <td>Profit</td>\n",
       "      <td>0.793668</td>\n",
       "      <td>0.785047</td>\n",
       "    </tr>\n",
       "  </tbody>\n",
       "</table>\n",
       "</div>"
      ],
      "text/plain": [
       "      Saham Prediction Result  Probability  Accuracy\n",
       "0   ADHI.JK            Profit     0.791072  0.710956\n",
       "1   ADRO.JK            Profit     0.778645  0.666667\n",
       "2   ASII.JK              Loss     0.589525  0.717949\n",
       "3   ASRI.JK              Loss     0.567787  0.706294\n",
       "4   BBCA.JK            Profit     0.579629  0.687646\n",
       "5   BBNI.JK              Loss     0.782129  0.657343\n",
       "6   BBRI.JK              Loss     0.773302  0.750583\n",
       "7   BBTN.JK            Profit     0.934113  0.713287\n",
       "8   BKSL.JK              Loss     0.550871  0.755245\n",
       "9   BMRI.JK              Loss     0.783795  0.699301\n",
       "10  CPIN.JK            Profit     0.931298  0.731935\n",
       "11  INTP.JK            Profit     0.781948  0.710956\n",
       "12  ITMG.JK            Profit     0.810571  0.734266\n",
       "13  JSMR.JK            Profit     0.654977  0.687646\n",
       "14  KLBF.JK              Loss     0.781961  0.717949\n",
       "15  LPKR.JK              Loss     0.623471  0.713287\n",
       "16  LPPF.JK            Profit     0.664986  0.773050\n",
       "17  MNCN.JK            Profit     0.861995  0.685315\n",
       "18  PTBA.JK            Profit     0.772599  0.748252\n",
       "19  PTPP.JK              Loss     0.708769  0.686321\n",
       "20  SCMA.JK            Profit     0.862642  0.766900\n",
       "21  SMGR.JK            Profit     0.652091  0.694639\n",
       "22  SSMS.JK            Profit     0.973358  0.758475\n",
       "23  TPIA.JK            Profit     0.947135  0.810160\n",
       "24  UNTR.JK            Profit     0.966256  0.664336\n",
       "25  UNVR.JK            Profit     0.958206  0.720280\n",
       "26  WIKA.JK            Profit     0.945199  0.727273\n",
       "27  WSKT.JK            Profit     0.851728  0.763251\n",
       "28  ELSA.JK              Loss     0.613684  0.715618\n",
       "29  EXCL.JK            Profit     0.516194  0.708625\n",
       "30  GGRM.JK            Profit     0.880015  0.650350\n",
       "31  HMSP.JK              Loss     0.854478  0.778302\n",
       "32  ICBP.JK            Profit     0.977782  0.713287\n",
       "33  INCO.JK            Profit     0.716435  0.722611\n",
       "34  INDF.JK            Profit     0.638880  0.706294\n",
       "35  INDY.JK            Profit     0.793668  0.785047"
      ]
     },
     "execution_count": 167,
     "metadata": {},
     "output_type": "execute_result"
    }
   ],
   "source": [
    "decisions = []\n",
    "percentage = []\n",
    "accuracy = []\n",
    "lq45 = ['ADHI.JK','ADRO.JK','ASII.JK','ASRI.JK','BBCA.JK','BBNI.JK','BBRI.JK','BBTN.JK','BKSL.JK','BMRI.JK',\n",
    "       'CPIN.JK','INTP.JK','ITMG.JK','JSMR.JK','KLBF.JK','LPKR.JK','LPPF.JK','MNCN.JK','PTBA.JK','PTPP.JK','SCMA.JK','SMGR.JK',\n",
    "       'SSMS.JK','TPIA.JK','UNTR.JK','UNVR.JK','WIKA.JK','WSKT.JK','ELSA.JK','EXCL.JK','GGRM.JK','HMSP.JK','ICBP.JK','INCO.JK','INDF.JK','INDY.JK']\n",
    "for i in range(len(lq45)):\n",
    "    decision(lq45[i])\n",
    "    percentage.append(probability(lq45[i]))\n",
    "    accuracy.append(accuracyy(lq45[i]))\n",
    "hasil = pd.DataFrame(lq45, columns = ['Saham'])\n",
    "hasil['Prediction Result'] = decisions\n",
    "hasil['Probability'] = percentage\n",
    "hasil['Accuracy'] = accuracy\n",
    "hasil"
   ]
  },
  {
   "cell_type": "code",
   "execution_count": 138,
   "metadata": {
    "ExecuteTime": {
     "end_time": "2019-11-17T13:01:25.712706Z",
     "start_time": "2019-11-17T13:01:25.707761Z"
    }
   },
   "outputs": [],
   "source": [
    "lq45 = ['ADHI.JK','ADRO.JK','ASII.JK','ASRI.JK','BBCA.JK','BBNI.JK','BBRI.JK','BBTN.JK','BKSL.JK','BMRI.JK',\n",
    "       'BSDE.JK','CPIN.JK','ELSA.JK','EXCL.JK','GGRM.JK','HMSP.JK','ICBP.JK','INCO.JK','INDF.JK','INDY.JK','INKP.JK','INTP.JK',\n",
    "       'ITMG.JK','JSMR.JK','KLBF.JK','LPKR.JK','LPPF.JK','MEDC.JK','MNCN.JK','PGAS.JK','PTBA.JK','PTPP.JK','SCMA.JK','SMGR.JK',\n",
    "       'SRIL.JK','SSMS.JK','TLKM.JK','TPIA.JK','UNTR.JK','UNVR.JK','WIKA.JK','WSBP.JK','WSKT.JK']"
   ]
  },
  {
   "cell_type": "markdown",
   "metadata": {},
   "source": [
    "### Otomatisasi 2 (Lebih Cepat, Tanpa \"Hypertuning Variable\")"
   ]
  },
  {
   "cell_type": "code",
   "execution_count": 186,
   "metadata": {
    "ExecuteTime": {
     "end_time": "2019-11-18T05:08:28.017435Z",
     "start_time": "2019-11-18T05:08:27.991503Z"
    }
   },
   "outputs": [],
   "source": [
    "def model(stock):\n",
    "    df = Fetcher(stock,[2010,1,1],[2019,1,1]).getHistorical()\n",
    "    df.drop(['Open','Close'], axis = 1, inplace = True)\n",
    "    df['Date'] = pd.to_datetime(df['Date'])\n",
    "    df.replace(0, np.nan, inplace=True)\n",
    "    df.dropna(inplace = True)\n",
    "    ma = []\n",
    "    for i in range(len(df)):\n",
    "        if i < 14:\n",
    "            ma.append(np.nan)\n",
    "        else:\n",
    "            ma.append(df['Adj Close'][(i-14):i].mean())\n",
    "    df['SMA'] = ma\n",
    "    BBLower = []\n",
    "    for i in range(len(df)):\n",
    "        if i < 14 :\n",
    "            BBLower.append(np.nan)\n",
    "        else:\n",
    "            BBLower.append((df['SMA'].iloc[i] - (2 * df['Adj Close'][(i-14):i].std())))\n",
    "    df['BBLower'] = BBLower\n",
    "    williamsr= []\n",
    "    for i in range(len(df)):\n",
    "        if i < 14 :\n",
    "            williamsr.append(np.nan)\n",
    "        else:\n",
    "            high = df['High'].iloc[(i-14):(i)].max()\n",
    "            low = df['Low'].iloc[(i-14):(i)].min()\n",
    "            williamsr.append(((high-df['Adj Close'].iloc[i])/(high-low))*(-100))\n",
    "    df['Williams R'] = williamsr\n",
    "    result = []\n",
    "    for i in range(len(df)):\n",
    "        if i < 14:\n",
    "            result.append(np.nan)\n",
    "        elif i > (len(df)-15):\n",
    "            result.append(np.nan)\n",
    "        else:\n",
    "            if df['Adj Close'].iloc[i] < df['Adj Close'].iloc[i+14]:\n",
    "                result.append('Profit')\n",
    "            else:\n",
    "                result.append('Loss')\n",
    "    df['Result'] = result\n",
    "    df.dropna(axis = 0, inplace = True)\n",
    "    data = df.drop(['Date','Result','Adj Close', 'High','Low'],axis = 1)\n",
    "    result = df['Result']\n",
    "    X_train, X_test, y_train, y_test = train_test_split(data, result, test_size = 0.2)\n",
    "    X_train, X_test, y_train, y_test = train_test_split(data, result, test_size = 0.2)\n",
    "    xgboost = XGBClassifier(learning_rate = 0.01, n_estimators = 1000, max_depth = 4)\n",
    "    xgboost.fit(X_train, y_train)\n",
    "    param_learning = (0.12, 0.1, 0.08, 0.06)\n",
    "    param_estimator = (80,100,120,140)\n",
    "    max_depth = (1,2,3,4)\n",
    "    param_grid = {'learning_rate': param_learning, 'n_estimators':param_estimator, 'max_depth':max_depth}\n",
    "    gs = GridSearchCV(xgboost,param_grid,scoring='accuracy')\n",
    "    gs = gs.fit(X_train, y_train)\n",
    "    learning_rates = 0\n",
    "    n_estimatorss = 0\n",
    "    max_depths = 0\n",
    "    learning_rates += gs.best_params_['learning_rate']\n",
    "    n_estimatorss += gs.best_params_['n_estimators']\n",
    "    max_depths += gs.best_params_['max_depth']\n",
    "    xgboost = XGBClassifier(learning_rate = learning_rates, n_estimators = n_estimatorss, max_depth = max_depths)\n",
    "    xgboost.fit(X_train, y_train)\n",
    "    predictions = xgboost.predict(X_test)\n",
    "    dfpredict = Fetcher(stock,[2019,10,28],[2019,11,15]).getHistorical()\n",
    "    dfpredict = dfpredict[['Volume','Adj Close']]\n",
    "    dfpredict['SMA'] = dfpredict['Adj Close'][13].mean()\n",
    "    dfpredict['BBLower'] = df['SMA'].iloc[13] - (2 * df['Adj Close'][0:13].std())\n",
    "    dfpredict['Williams R'] = ((high-df['Adj Close'].iloc[13])/(high-low))*(-100)\n",
    "    dfpredict.drop('Adj Close', axis =1, inplace = True)\n",
    "    for i in range(1,31):\n",
    "        \n",
    "    df2 = []\n",
    "    if xgboost.predict(pd.DataFrame(dfpredict.iloc[13]).transpose())[0] == 'Loss':\n",
    "          df2.append([stock,\n",
    "                xgboost.predict(pd.DataFrame(dfpredict.iloc[13]).transpose())[0],\n",
    "                pd.DataFrame(xgboost.predict_proba(pd.DataFrame(dfpredict.iloc[13]).transpose()))[0][0],\n",
    "                accuracy_score(y_test,predictions)])\n",
    "    elif xgboost.predict(pd.DataFrame(dfpredict.iloc[13]).transpose())[0] == 'Profit':\n",
    "          df2.append([stock,\n",
    "                xgboost.predict(pd.DataFrame(dfpredict.iloc[13]).transpose())[0],\n",
    "                pd.DataFrame(xgboost.predict_proba(pd.DataFrame(dfpredict.iloc[13]).transpose()))[1][0],\n",
    "                accuracy_score(y_test,predictions)])\n",
    "    return df2"
   ]
  },
  {
   "cell_type": "code",
   "execution_count": 197,
   "metadata": {
    "ExecuteTime": {
     "end_time": "2019-11-18T06:19:51.332254Z",
     "start_time": "2019-11-18T06:02:18.194832Z"
    },
    "scrolled": false
   },
   "outputs": [
    {
     "name": "stderr",
     "output_type": "stream",
     "text": [
      "C:\\Users\\Lenovo\\Anaconda3\\lib\\site-packages\\sklearn\\model_selection\\_split.py:1978: FutureWarning: The default value of cv will change from 3 to 5 in version 0.22. Specify it explicitly to silence this warning.\n",
      "  warnings.warn(CV_WARNING, FutureWarning)\n",
      "C:\\Users\\Lenovo\\Anaconda3\\lib\\site-packages\\sklearn\\model_selection\\_split.py:1978: FutureWarning: The default value of cv will change from 3 to 5 in version 0.22. Specify it explicitly to silence this warning.\n",
      "  warnings.warn(CV_WARNING, FutureWarning)\n",
      "C:\\Users\\Lenovo\\Anaconda3\\lib\\site-packages\\sklearn\\model_selection\\_split.py:1978: FutureWarning: The default value of cv will change from 3 to 5 in version 0.22. Specify it explicitly to silence this warning.\n",
      "  warnings.warn(CV_WARNING, FutureWarning)\n",
      "C:\\Users\\Lenovo\\Anaconda3\\lib\\site-packages\\sklearn\\model_selection\\_split.py:1978: FutureWarning: The default value of cv will change from 3 to 5 in version 0.22. Specify it explicitly to silence this warning.\n",
      "  warnings.warn(CV_WARNING, FutureWarning)\n",
      "C:\\Users\\Lenovo\\Anaconda3\\lib\\site-packages\\sklearn\\model_selection\\_split.py:1978: FutureWarning: The default value of cv will change from 3 to 5 in version 0.22. Specify it explicitly to silence this warning.\n",
      "  warnings.warn(CV_WARNING, FutureWarning)\n",
      "C:\\Users\\Lenovo\\Anaconda3\\lib\\site-packages\\sklearn\\model_selection\\_split.py:1978: FutureWarning: The default value of cv will change from 3 to 5 in version 0.22. Specify it explicitly to silence this warning.\n",
      "  warnings.warn(CV_WARNING, FutureWarning)\n",
      "C:\\Users\\Lenovo\\Anaconda3\\lib\\site-packages\\sklearn\\model_selection\\_split.py:1978: FutureWarning: The default value of cv will change from 3 to 5 in version 0.22. Specify it explicitly to silence this warning.\n",
      "  warnings.warn(CV_WARNING, FutureWarning)\n",
      "C:\\Users\\Lenovo\\Anaconda3\\lib\\site-packages\\sklearn\\model_selection\\_split.py:1978: FutureWarning: The default value of cv will change from 3 to 5 in version 0.22. Specify it explicitly to silence this warning.\n",
      "  warnings.warn(CV_WARNING, FutureWarning)\n",
      "C:\\Users\\Lenovo\\Anaconda3\\lib\\site-packages\\sklearn\\model_selection\\_split.py:1978: FutureWarning: The default value of cv will change from 3 to 5 in version 0.22. Specify it explicitly to silence this warning.\n",
      "  warnings.warn(CV_WARNING, FutureWarning)\n",
      "C:\\Users\\Lenovo\\Anaconda3\\lib\\site-packages\\sklearn\\model_selection\\_split.py:1978: FutureWarning: The default value of cv will change from 3 to 5 in version 0.22. Specify it explicitly to silence this warning.\n",
      "  warnings.warn(CV_WARNING, FutureWarning)\n",
      "C:\\Users\\Lenovo\\Anaconda3\\lib\\site-packages\\sklearn\\model_selection\\_split.py:1978: FutureWarning: The default value of cv will change from 3 to 5 in version 0.22. Specify it explicitly to silence this warning.\n",
      "  warnings.warn(CV_WARNING, FutureWarning)\n",
      "C:\\Users\\Lenovo\\Anaconda3\\lib\\site-packages\\sklearn\\model_selection\\_split.py:1978: FutureWarning: The default value of cv will change from 3 to 5 in version 0.22. Specify it explicitly to silence this warning.\n",
      "  warnings.warn(CV_WARNING, FutureWarning)\n",
      "C:\\Users\\Lenovo\\Anaconda3\\lib\\site-packages\\sklearn\\model_selection\\_split.py:1978: FutureWarning: The default value of cv will change from 3 to 5 in version 0.22. Specify it explicitly to silence this warning.\n",
      "  warnings.warn(CV_WARNING, FutureWarning)\n",
      "C:\\Users\\Lenovo\\Anaconda3\\lib\\site-packages\\sklearn\\model_selection\\_split.py:1978: FutureWarning: The default value of cv will change from 3 to 5 in version 0.22. Specify it explicitly to silence this warning.\n",
      "  warnings.warn(CV_WARNING, FutureWarning)\n",
      "C:\\Users\\Lenovo\\Anaconda3\\lib\\site-packages\\sklearn\\model_selection\\_split.py:1978: FutureWarning: The default value of cv will change from 3 to 5 in version 0.22. Specify it explicitly to silence this warning.\n",
      "  warnings.warn(CV_WARNING, FutureWarning)\n",
      "C:\\Users\\Lenovo\\Anaconda3\\lib\\site-packages\\sklearn\\model_selection\\_split.py:1978: FutureWarning: The default value of cv will change from 3 to 5 in version 0.22. Specify it explicitly to silence this warning.\n",
      "  warnings.warn(CV_WARNING, FutureWarning)\n",
      "C:\\Users\\Lenovo\\Anaconda3\\lib\\site-packages\\ipykernel_launcher.py:28: RuntimeWarning: divide by zero encountered in double_scalars\n",
      "C:\\Users\\Lenovo\\Anaconda3\\lib\\site-packages\\sklearn\\model_selection\\_split.py:1978: FutureWarning: The default value of cv will change from 3 to 5 in version 0.22. Specify it explicitly to silence this warning.\n",
      "  warnings.warn(CV_WARNING, FutureWarning)\n",
      "C:\\Users\\Lenovo\\Anaconda3\\lib\\site-packages\\sklearn\\model_selection\\_split.py:1978: FutureWarning: The default value of cv will change from 3 to 5 in version 0.22. Specify it explicitly to silence this warning.\n",
      "  warnings.warn(CV_WARNING, FutureWarning)\n",
      "C:\\Users\\Lenovo\\Anaconda3\\lib\\site-packages\\sklearn\\model_selection\\_split.py:1978: FutureWarning: The default value of cv will change from 3 to 5 in version 0.22. Specify it explicitly to silence this warning.\n",
      "  warnings.warn(CV_WARNING, FutureWarning)\n",
      "C:\\Users\\Lenovo\\Anaconda3\\lib\\site-packages\\sklearn\\model_selection\\_split.py:1978: FutureWarning: The default value of cv will change from 3 to 5 in version 0.22. Specify it explicitly to silence this warning.\n",
      "  warnings.warn(CV_WARNING, FutureWarning)\n",
      "C:\\Users\\Lenovo\\Anaconda3\\lib\\site-packages\\sklearn\\model_selection\\_split.py:1978: FutureWarning: The default value of cv will change from 3 to 5 in version 0.22. Specify it explicitly to silence this warning.\n",
      "  warnings.warn(CV_WARNING, FutureWarning)\n",
      "C:\\Users\\Lenovo\\Anaconda3\\lib\\site-packages\\sklearn\\model_selection\\_split.py:1978: FutureWarning: The default value of cv will change from 3 to 5 in version 0.22. Specify it explicitly to silence this warning.\n",
      "  warnings.warn(CV_WARNING, FutureWarning)\n",
      "C:\\Users\\Lenovo\\Anaconda3\\lib\\site-packages\\sklearn\\model_selection\\_split.py:1978: FutureWarning: The default value of cv will change from 3 to 5 in version 0.22. Specify it explicitly to silence this warning.\n",
      "  warnings.warn(CV_WARNING, FutureWarning)\n",
      "C:\\Users\\Lenovo\\Anaconda3\\lib\\site-packages\\ipykernel_launcher.py:28: RuntimeWarning: divide by zero encountered in double_scalars\n",
      "C:\\Users\\Lenovo\\Anaconda3\\lib\\site-packages\\sklearn\\model_selection\\_split.py:1978: FutureWarning: The default value of cv will change from 3 to 5 in version 0.22. Specify it explicitly to silence this warning.\n",
      "  warnings.warn(CV_WARNING, FutureWarning)\n",
      "C:\\Users\\Lenovo\\Anaconda3\\lib\\site-packages\\sklearn\\model_selection\\_split.py:1978: FutureWarning: The default value of cv will change from 3 to 5 in version 0.22. Specify it explicitly to silence this warning.\n",
      "  warnings.warn(CV_WARNING, FutureWarning)\n",
      "C:\\Users\\Lenovo\\Anaconda3\\lib\\site-packages\\sklearn\\model_selection\\_split.py:1978: FutureWarning: The default value of cv will change from 3 to 5 in version 0.22. Specify it explicitly to silence this warning.\n",
      "  warnings.warn(CV_WARNING, FutureWarning)\n",
      "C:\\Users\\Lenovo\\Anaconda3\\lib\\site-packages\\sklearn\\model_selection\\_split.py:1978: FutureWarning: The default value of cv will change from 3 to 5 in version 0.22. Specify it explicitly to silence this warning.\n",
      "  warnings.warn(CV_WARNING, FutureWarning)\n",
      "C:\\Users\\Lenovo\\Anaconda3\\lib\\site-packages\\sklearn\\model_selection\\_split.py:1978: FutureWarning: The default value of cv will change from 3 to 5 in version 0.22. Specify it explicitly to silence this warning.\n",
      "  warnings.warn(CV_WARNING, FutureWarning)\n",
      "C:\\Users\\Lenovo\\Anaconda3\\lib\\site-packages\\sklearn\\model_selection\\_split.py:1978: FutureWarning: The default value of cv will change from 3 to 5 in version 0.22. Specify it explicitly to silence this warning.\n",
      "  warnings.warn(CV_WARNING, FutureWarning)\n",
      "C:\\Users\\Lenovo\\Anaconda3\\lib\\site-packages\\sklearn\\model_selection\\_split.py:1978: FutureWarning: The default value of cv will change from 3 to 5 in version 0.22. Specify it explicitly to silence this warning.\n",
      "  warnings.warn(CV_WARNING, FutureWarning)\n",
      "C:\\Users\\Lenovo\\Anaconda3\\lib\\site-packages\\sklearn\\model_selection\\_split.py:1978: FutureWarning: The default value of cv will change from 3 to 5 in version 0.22. Specify it explicitly to silence this warning.\n",
      "  warnings.warn(CV_WARNING, FutureWarning)\n",
      "C:\\Users\\Lenovo\\Anaconda3\\lib\\site-packages\\sklearn\\model_selection\\_split.py:1978: FutureWarning: The default value of cv will change from 3 to 5 in version 0.22. Specify it explicitly to silence this warning.\n",
      "  warnings.warn(CV_WARNING, FutureWarning)\n"
     ]
    },
    {
     "name": "stderr",
     "output_type": "stream",
     "text": [
      "C:\\Users\\Lenovo\\Anaconda3\\lib\\site-packages\\sklearn\\model_selection\\_split.py:1978: FutureWarning: The default value of cv will change from 3 to 5 in version 0.22. Specify it explicitly to silence this warning.\n",
      "  warnings.warn(CV_WARNING, FutureWarning)\n",
      "C:\\Users\\Lenovo\\Anaconda3\\lib\\site-packages\\sklearn\\model_selection\\_split.py:1978: FutureWarning: The default value of cv will change from 3 to 5 in version 0.22. Specify it explicitly to silence this warning.\n",
      "  warnings.warn(CV_WARNING, FutureWarning)\n",
      "C:\\Users\\Lenovo\\Anaconda3\\lib\\site-packages\\sklearn\\model_selection\\_split.py:1978: FutureWarning: The default value of cv will change from 3 to 5 in version 0.22. Specify it explicitly to silence this warning.\n",
      "  warnings.warn(CV_WARNING, FutureWarning)\n",
      "C:\\Users\\Lenovo\\Anaconda3\\lib\\site-packages\\sklearn\\model_selection\\_split.py:1978: FutureWarning: The default value of cv will change from 3 to 5 in version 0.22. Specify it explicitly to silence this warning.\n",
      "  warnings.warn(CV_WARNING, FutureWarning)\n"
     ]
    },
    {
     "data": {
      "text/html": [
       "<div>\n",
       "<style scoped>\n",
       "    .dataframe tbody tr th:only-of-type {\n",
       "        vertical-align: middle;\n",
       "    }\n",
       "\n",
       "    .dataframe tbody tr th {\n",
       "        vertical-align: top;\n",
       "    }\n",
       "\n",
       "    .dataframe thead th {\n",
       "        text-align: right;\n",
       "    }\n",
       "</style>\n",
       "<table border=\"1\" class=\"dataframe\">\n",
       "  <thead>\n",
       "    <tr style=\"text-align: right;\">\n",
       "      <th></th>\n",
       "      <th>Stocks</th>\n",
       "      <th>Prediction</th>\n",
       "      <th>Probability</th>\n",
       "      <th>Accuracy</th>\n",
       "    </tr>\n",
       "  </thead>\n",
       "  <tbody>\n",
       "    <tr>\n",
       "      <th>0</th>\n",
       "      <td>ADHI.JK</td>\n",
       "      <td>Profit</td>\n",
       "      <td>0.553481</td>\n",
       "      <td>0.731935</td>\n",
       "    </tr>\n",
       "    <tr>\n",
       "      <th>1</th>\n",
       "      <td>ADRO.JK</td>\n",
       "      <td>Profit</td>\n",
       "      <td>0.711509</td>\n",
       "      <td>0.689977</td>\n",
       "    </tr>\n",
       "    <tr>\n",
       "      <th>2</th>\n",
       "      <td>ASII.JK</td>\n",
       "      <td>Profit</td>\n",
       "      <td>0.575317</td>\n",
       "      <td>0.736597</td>\n",
       "    </tr>\n",
       "    <tr>\n",
       "      <th>3</th>\n",
       "      <td>ASRI.JK</td>\n",
       "      <td>Profit</td>\n",
       "      <td>0.776720</td>\n",
       "      <td>0.680653</td>\n",
       "    </tr>\n",
       "    <tr>\n",
       "      <th>4</th>\n",
       "      <td>BBCA.JK</td>\n",
       "      <td>Profit</td>\n",
       "      <td>0.834400</td>\n",
       "      <td>0.717949</td>\n",
       "    </tr>\n",
       "    <tr>\n",
       "      <th>5</th>\n",
       "      <td>BBNI.JK</td>\n",
       "      <td>Loss</td>\n",
       "      <td>0.613778</td>\n",
       "      <td>0.666667</td>\n",
       "    </tr>\n",
       "    <tr>\n",
       "      <th>6</th>\n",
       "      <td>BBRI.JK</td>\n",
       "      <td>Profit</td>\n",
       "      <td>0.873405</td>\n",
       "      <td>0.748252</td>\n",
       "    </tr>\n",
       "    <tr>\n",
       "      <th>7</th>\n",
       "      <td>BBTN.JK</td>\n",
       "      <td>Profit</td>\n",
       "      <td>0.855418</td>\n",
       "      <td>0.692308</td>\n",
       "    </tr>\n",
       "    <tr>\n",
       "      <th>8</th>\n",
       "      <td>BKSL.JK</td>\n",
       "      <td>Loss</td>\n",
       "      <td>0.579466</td>\n",
       "      <td>0.680653</td>\n",
       "    </tr>\n",
       "    <tr>\n",
       "      <th>9</th>\n",
       "      <td>BMRI.JK</td>\n",
       "      <td>Profit</td>\n",
       "      <td>0.613004</td>\n",
       "      <td>0.734266</td>\n",
       "    </tr>\n",
       "    <tr>\n",
       "      <th>10</th>\n",
       "      <td>CPIN.JK</td>\n",
       "      <td>Profit</td>\n",
       "      <td>0.906650</td>\n",
       "      <td>0.738928</td>\n",
       "    </tr>\n",
       "    <tr>\n",
       "      <th>11</th>\n",
       "      <td>INTP.JK</td>\n",
       "      <td>Profit</td>\n",
       "      <td>0.964609</td>\n",
       "      <td>0.692308</td>\n",
       "    </tr>\n",
       "    <tr>\n",
       "      <th>12</th>\n",
       "      <td>ITMG.JK</td>\n",
       "      <td>Profit</td>\n",
       "      <td>0.820094</td>\n",
       "      <td>0.762238</td>\n",
       "    </tr>\n",
       "    <tr>\n",
       "      <th>13</th>\n",
       "      <td>JSMR.JK</td>\n",
       "      <td>Profit</td>\n",
       "      <td>0.655697</td>\n",
       "      <td>0.668998</td>\n",
       "    </tr>\n",
       "    <tr>\n",
       "      <th>14</th>\n",
       "      <td>KLBF.JK</td>\n",
       "      <td>Profit</td>\n",
       "      <td>0.639686</td>\n",
       "      <td>0.780886</td>\n",
       "    </tr>\n",
       "    <tr>\n",
       "      <th>15</th>\n",
       "      <td>LPKR.JK</td>\n",
       "      <td>Loss</td>\n",
       "      <td>0.956251</td>\n",
       "      <td>0.710956</td>\n",
       "    </tr>\n",
       "    <tr>\n",
       "      <th>16</th>\n",
       "      <td>LPPF.JK</td>\n",
       "      <td>Profit</td>\n",
       "      <td>0.773779</td>\n",
       "      <td>0.664303</td>\n",
       "    </tr>\n",
       "    <tr>\n",
       "      <th>17</th>\n",
       "      <td>MNCN.JK</td>\n",
       "      <td>Profit</td>\n",
       "      <td>0.879647</td>\n",
       "      <td>0.743590</td>\n",
       "    </tr>\n",
       "    <tr>\n",
       "      <th>18</th>\n",
       "      <td>PTBA.JK</td>\n",
       "      <td>Profit</td>\n",
       "      <td>0.892754</td>\n",
       "      <td>0.715618</td>\n",
       "    </tr>\n",
       "    <tr>\n",
       "      <th>19</th>\n",
       "      <td>PTPP.JK</td>\n",
       "      <td>Loss</td>\n",
       "      <td>0.748835</td>\n",
       "      <td>0.665094</td>\n",
       "    </tr>\n",
       "    <tr>\n",
       "      <th>20</th>\n",
       "      <td>SCMA.JK</td>\n",
       "      <td>Profit</td>\n",
       "      <td>0.919401</td>\n",
       "      <td>0.771562</td>\n",
       "    </tr>\n",
       "    <tr>\n",
       "      <th>21</th>\n",
       "      <td>SMGR.JK</td>\n",
       "      <td>Loss</td>\n",
       "      <td>0.501042</td>\n",
       "      <td>0.687646</td>\n",
       "    </tr>\n",
       "    <tr>\n",
       "      <th>22</th>\n",
       "      <td>SSMS.JK</td>\n",
       "      <td>Profit</td>\n",
       "      <td>0.965981</td>\n",
       "      <td>0.745763</td>\n",
       "    </tr>\n",
       "    <tr>\n",
       "      <th>23</th>\n",
       "      <td>TPIA.JK</td>\n",
       "      <td>Loss</td>\n",
       "      <td>0.606435</td>\n",
       "      <td>0.828877</td>\n",
       "    </tr>\n",
       "    <tr>\n",
       "      <th>24</th>\n",
       "      <td>UNTR.JK</td>\n",
       "      <td>Profit</td>\n",
       "      <td>0.986872</td>\n",
       "      <td>0.708625</td>\n",
       "    </tr>\n",
       "    <tr>\n",
       "      <th>25</th>\n",
       "      <td>UNVR.JK</td>\n",
       "      <td>Profit</td>\n",
       "      <td>0.843911</td>\n",
       "      <td>0.699301</td>\n",
       "    </tr>\n",
       "    <tr>\n",
       "      <th>26</th>\n",
       "      <td>WIKA.JK</td>\n",
       "      <td>Profit</td>\n",
       "      <td>0.913805</td>\n",
       "      <td>0.701632</td>\n",
       "    </tr>\n",
       "    <tr>\n",
       "      <th>27</th>\n",
       "      <td>WSKT.JK</td>\n",
       "      <td>Profit</td>\n",
       "      <td>0.714092</td>\n",
       "      <td>0.710247</td>\n",
       "    </tr>\n",
       "    <tr>\n",
       "      <th>28</th>\n",
       "      <td>ELSA.JK</td>\n",
       "      <td>Loss</td>\n",
       "      <td>0.530204</td>\n",
       "      <td>0.727273</td>\n",
       "    </tr>\n",
       "    <tr>\n",
       "      <th>29</th>\n",
       "      <td>EXCL.JK</td>\n",
       "      <td>Profit</td>\n",
       "      <td>0.664279</td>\n",
       "      <td>0.657343</td>\n",
       "    </tr>\n",
       "    <tr>\n",
       "      <th>30</th>\n",
       "      <td>GGRM.JK</td>\n",
       "      <td>Profit</td>\n",
       "      <td>0.848165</td>\n",
       "      <td>0.699301</td>\n",
       "    </tr>\n",
       "    <tr>\n",
       "      <th>31</th>\n",
       "      <td>HMSP.JK</td>\n",
       "      <td>Loss</td>\n",
       "      <td>0.951381</td>\n",
       "      <td>0.837264</td>\n",
       "    </tr>\n",
       "    <tr>\n",
       "      <th>32</th>\n",
       "      <td>ICBP.JK</td>\n",
       "      <td>Profit</td>\n",
       "      <td>0.707915</td>\n",
       "      <td>0.685315</td>\n",
       "    </tr>\n",
       "    <tr>\n",
       "      <th>33</th>\n",
       "      <td>INCO.JK</td>\n",
       "      <td>Profit</td>\n",
       "      <td>0.689904</td>\n",
       "      <td>0.720280</td>\n",
       "    </tr>\n",
       "    <tr>\n",
       "      <th>34</th>\n",
       "      <td>INDF.JK</td>\n",
       "      <td>Profit</td>\n",
       "      <td>0.858464</td>\n",
       "      <td>0.675991</td>\n",
       "    </tr>\n",
       "    <tr>\n",
       "      <th>35</th>\n",
       "      <td>INDY.JK</td>\n",
       "      <td>Profit</td>\n",
       "      <td>0.910788</td>\n",
       "      <td>0.754673</td>\n",
       "    </tr>\n",
       "  </tbody>\n",
       "</table>\n",
       "</div>"
      ],
      "text/plain": [
       "     Stocks Prediction  Probability  Accuracy\n",
       "0   ADHI.JK     Profit     0.553481  0.731935\n",
       "1   ADRO.JK     Profit     0.711509  0.689977\n",
       "2   ASII.JK     Profit     0.575317  0.736597\n",
       "3   ASRI.JK     Profit     0.776720  0.680653\n",
       "4   BBCA.JK     Profit     0.834400  0.717949\n",
       "5   BBNI.JK       Loss     0.613778  0.666667\n",
       "6   BBRI.JK     Profit     0.873405  0.748252\n",
       "7   BBTN.JK     Profit     0.855418  0.692308\n",
       "8   BKSL.JK       Loss     0.579466  0.680653\n",
       "9   BMRI.JK     Profit     0.613004  0.734266\n",
       "10  CPIN.JK     Profit     0.906650  0.738928\n",
       "11  INTP.JK     Profit     0.964609  0.692308\n",
       "12  ITMG.JK     Profit     0.820094  0.762238\n",
       "13  JSMR.JK     Profit     0.655697  0.668998\n",
       "14  KLBF.JK     Profit     0.639686  0.780886\n",
       "15  LPKR.JK       Loss     0.956251  0.710956\n",
       "16  LPPF.JK     Profit     0.773779  0.664303\n",
       "17  MNCN.JK     Profit     0.879647  0.743590\n",
       "18  PTBA.JK     Profit     0.892754  0.715618\n",
       "19  PTPP.JK       Loss     0.748835  0.665094\n",
       "20  SCMA.JK     Profit     0.919401  0.771562\n",
       "21  SMGR.JK       Loss     0.501042  0.687646\n",
       "22  SSMS.JK     Profit     0.965981  0.745763\n",
       "23  TPIA.JK       Loss     0.606435  0.828877\n",
       "24  UNTR.JK     Profit     0.986872  0.708625\n",
       "25  UNVR.JK     Profit     0.843911  0.699301\n",
       "26  WIKA.JK     Profit     0.913805  0.701632\n",
       "27  WSKT.JK     Profit     0.714092  0.710247\n",
       "28  ELSA.JK       Loss     0.530204  0.727273\n",
       "29  EXCL.JK     Profit     0.664279  0.657343\n",
       "30  GGRM.JK     Profit     0.848165  0.699301\n",
       "31  HMSP.JK       Loss     0.951381  0.837264\n",
       "32  ICBP.JK     Profit     0.707915  0.685315\n",
       "33  INCO.JK     Profit     0.689904  0.720280\n",
       "34  INDF.JK     Profit     0.858464  0.675991\n",
       "35  INDY.JK     Profit     0.910788  0.754673"
      ]
     },
     "execution_count": 197,
     "metadata": {},
     "output_type": "execute_result"
    }
   ],
   "source": [
    "df3 = []\n",
    "\n",
    "lq45 = ['ADHI.JK','ADRO.JK','ASII.JK','ASRI.JK','BBCA.JK','BBNI.JK','BBRI.JK','BBTN.JK','BKSL.JK','BMRI.JK',\n",
    "       'CPIN.JK','INTP.JK','ITMG.JK','JSMR.JK','KLBF.JK','LPKR.JK','LPPF.JK','MNCN.JK','PTBA.JK','PTPP.JK','SCMA.JK','SMGR.JK',\n",
    "       'SSMS.JK','TPIA.JK','UNTR.JK','UNVR.JK','WIKA.JK','WSKT.JK','ELSA.JK','EXCL.JK','GGRM.JK','HMSP.JK','ICBP.JK','INCO.JK','INDF.JK','INDY.JK']\n",
    "for i in range(len(lq45)):\n",
    "    df3.append(model(lq45[i])[0])\n",
    "pd.DataFrame(df3, columns = ['Stocks', 'Prediction', 'Probability', 'Accuracy'])\n"
   ]
  },
  {
   "cell_type": "markdown",
   "metadata": {},
   "source": [
    "### Otomatisasi 3 (\"Hypertuning Variable\")"
   ]
  },
  {
   "cell_type": "code",
   "execution_count": 68,
   "metadata": {
    "ExecuteTime": {
     "end_time": "2019-11-18T13:30:37.198307Z",
     "start_time": "2019-11-18T13:30:37.166271Z"
    }
   },
   "outputs": [],
   "source": [
    "def bestresults(stock):\n",
    "    accuracies = []\n",
    "    for n in range(1,31):\n",
    "        df = Fetcher(stock,[2010,1,1],[2019,1,1]).getHistorical()\n",
    "        df.drop(['Open','Close'], axis = 1, inplace = True)\n",
    "        df['Date'] = pd.to_datetime(df['Date'])\n",
    "        df.replace(0, np.nan, inplace=True)\n",
    "        df.dropna(inplace = True)\n",
    "        ma = []\n",
    "        for i in range(len(df)):\n",
    "            if i < 14:\n",
    "                ma.append(np.nan)\n",
    "            else:\n",
    "                ma.append(df['Adj Close'][(i-14):i].mean())\n",
    "        df['SMA'] = ma\n",
    "        BBLower = []\n",
    "        for i in range(len(df)):\n",
    "            if i < 14 :\n",
    "                BBLower.append(np.nan)\n",
    "            else:\n",
    "                BBLower.append((df['SMA'].iloc[i] - (2 * df['Adj Close'][(i-14):i].std())))\n",
    "        df['BBLower'] = BBLower\n",
    "        williamsr= []\n",
    "        for i in range(len(df)):\n",
    "            if i < 14 :\n",
    "                williamsr.append(np.nan)\n",
    "            else:\n",
    "                high = df['High'].iloc[(i-14):(i)].max()\n",
    "                low = df['Low'].iloc[(i-14):(i)].min()\n",
    "                williamsr.append(((high-df['Adj Close'].iloc[i])/(high-low))*(-100))\n",
    "        df['Williams R'] = williamsr\n",
    "        result = []\n",
    "        for i in range(len(df)):\n",
    "            if i < n:\n",
    "                result.append(np.nan)\n",
    "            elif i > (len(df)-(n+1)):\n",
    "                result.append(np.nan)\n",
    "            else:\n",
    "                if df['Adj Close'].iloc[i] < df['Adj Close'].iloc[i+n]:\n",
    "                    result.append('Profit')\n",
    "                else:\n",
    "                    result.append('Loss')\n",
    "        df['Result'] = result\n",
    "        df.dropna(axis = 0, inplace = True)\n",
    "        data = df.drop(['Date','Result','Adj Close', 'High','Low'],axis = 1)\n",
    "        result = df['Result']\n",
    "        X_train, X_test, y_train, y_test = train_test_split(data, result, test_size = 0.2)\n",
    "        X_train, X_test, y_train, y_test = train_test_split(data, result, test_size = 0.2)\n",
    "        xgboost = XGBClassifier(learning_rate = 0.01, n_estimators = 1000, max_depth = 4)\n",
    "        xgboost.fit(X_train, y_train)\n",
    "        param_learning = (0.12, 0.1, 0.08, 0.06)\n",
    "        param_estimator = (80,100,120,140)\n",
    "        max_depth = (1,2,3,4)\n",
    "        param_grid = {'learning_rate': param_learning, 'n_estimators':param_estimator, 'max_depth':max_depth}\n",
    "        gs = GridSearchCV(xgboost,param_grid,scoring='accuracy')\n",
    "        gs = gs.fit(X_train, y_train)\n",
    "        learning_rates = 0\n",
    "        n_estimatorss = 0\n",
    "        max_depths = 0\n",
    "        learning_rates += gs.best_params_['learning_rate']\n",
    "        n_estimatorss += gs.best_params_['n_estimators']\n",
    "        max_depths += gs.best_params_['max_depth']\n",
    "        xgboost = XGBClassifier(learning_rate = learning_rates, n_estimators = n_estimatorss, max_depth = max_depths)\n",
    "        xgboost.fit(X_train, y_train)\n",
    "        predictions = xgboost.predict(X_test)\n",
    "        accuracies.append(accuracy_score(y_test,predictions))\n",
    "    angka = pd.DataFrame(accuracies)\n",
    "    bestresult = (angka[0].sort_values(ascending = False).reset_index()['index'][0] + 1)\n",
    "    return bestresult"
   ]
  },
  {
   "cell_type": "code",
   "execution_count": null,
   "metadata": {},
   "outputs": [],
   "source": [
    "bestresults()"
   ]
  },
  {
   "cell_type": "code",
   "execution_count": 82,
   "metadata": {
    "ExecuteTime": {
     "end_time": "2019-11-18T14:45:33.330205Z",
     "start_time": "2019-11-18T14:45:33.294299Z"
    }
   },
   "outputs": [],
   "source": [
    "def modelnextlevel(stock):\n",
    "    df = Fetcher(stock,[2010,1,1],[2019,1,1]).getHistorical()\n",
    "    df.drop(['Open','Close'], axis = 1, inplace = True)\n",
    "    df['Date'] = pd.to_datetime(df['Date'])\n",
    "    df.replace(0, np.nan, inplace=True)\n",
    "    df.dropna(inplace = True)\n",
    "    ma = []\n",
    "    for i in range(len(df)):\n",
    "        if i < 14:\n",
    "            ma.append(np.nan)\n",
    "        else:\n",
    "            ma.append(df['Adj Close'][(i-14):i].mean())\n",
    "    df['SMA'] = ma\n",
    "    BBLower = []\n",
    "    for i in range(len(df)):\n",
    "        if i < 14 :\n",
    "            BBLower.append(np.nan)\n",
    "        else:\n",
    "            BBLower.append((df['SMA'].iloc[i] - (2 * df['Adj Close'][(i-14):i].std())))\n",
    "    df['BBLower'] = BBLower\n",
    "    williamsr= []\n",
    "    for i in range(len(df)):\n",
    "        if i < 14 :\n",
    "            williamsr.append(np.nan)\n",
    "        else:\n",
    "            high = df['High'].iloc[(i-14):(i)].max()\n",
    "            low = df['Low'].iloc[(i-14):(i)].min()\n",
    "            williamsr.append(((high-df['Adj Close'].iloc[i])/(high-low))*(-100))\n",
    "    df['Williams R'] = williamsr\n",
    "    result = []\n",
    "    for i in range(len(df)):\n",
    "        if i < 14:\n",
    "            result.append(np.nan)\n",
    "        elif i > (len(df)-15):\n",
    "            result.append(np.nan)\n",
    "        else:\n",
    "            if df['Adj Close'].iloc[i] < df['Adj Close'].iloc[i+14]:\n",
    "                result.append('Profit')\n",
    "            else:\n",
    "                result.append('Loss')\n",
    "    df['Result'] = result\n",
    "    df.dropna(axis = 0, inplace = True)\n",
    "    data = df.drop(['Date','Result','Adj Close', 'High','Low'],axis = 1)\n",
    "    result = df['Result']\n",
    "    X_train, X_test, y_train, y_test = train_test_split(data, result, test_size = 0.2)\n",
    "    X_train, X_test, y_train, y_test = train_test_split(data, result, test_size = 0.2)\n",
    "    xgboost = XGBClassifier(learning_rate = 0.01, n_estimators = 1000, max_depth = 4)\n",
    "    xgboost.fit(X_train, y_train)\n",
    "    param_learning = (0.12, 0.1, 0.08, 0.06)\n",
    "    param_estimator = (80,100,120,140)\n",
    "    max_depth = (1,2,3,4)\n",
    "    param_grid = {'learning_rate': param_learning, 'n_estimators':param_estimator, 'max_depth':max_depth}\n",
    "    gs = GridSearchCV(xgboost,param_grid,scoring='accuracy')\n",
    "    gs = gs.fit(X_train, y_train)\n",
    "    learning_rates = 0\n",
    "    n_estimatorss = 0\n",
    "    max_depths = 0\n",
    "    learning_rates += gs.best_params_['learning_rate']\n",
    "    n_estimatorss += gs.best_params_['n_estimators']\n",
    "    max_depths += gs.best_params_['max_depth']\n",
    "    xgboost = XGBClassifier(learning_rate = learning_rates, n_estimators = n_estimatorss, max_depth = max_depths)\n",
    "    xgboost.fit(X_train, y_train)\n",
    "    angka = 0\n",
    "    angka += bestresults(stock)\n",
    "    accuracies = []  \n",
    "    predictions = xgboost.predict(X_test)\n",
    "    resultnew = []\n",
    "    for i in range(len(df)):\n",
    "        if i <  angka:\n",
    "            resultnew.append(np.nan)\n",
    "        elif i > (len(df)-(angka + 1)):\n",
    "            resultnew.append(np.nan)\n",
    "        else:\n",
    "            if df['Adj Close'].iloc[i] < df['Adj Close'].iloc[i+angka]:\n",
    "                resultnew.append('Profit')\n",
    "            else:\n",
    "                resultnew.append('Loss')\n",
    "    df['Result'] = resultnew\n",
    "    xgboost = XGBClassifier(learning_rate = learning_rates, n_estimators = n_estimatorss, max_depth = max_depths)\n",
    "    xgboost.fit(X_train, y_train)\n",
    "    dfpredict = Fetcher(stock,[2019,10,8],[2019,11,18]).getHistorical()\n",
    "    dfpredict = dfpredict[['Volume','Adj Close']]\n",
    "    dfpredict['SMA'] = dfpredict['Adj Close'][-angka:-1].mean()\n",
    "    dfpredict['BBLower'] = df['SMA'].iloc[-1] - (2 * df['Adj Close'][-angka:].std())\n",
    "    dfpredict['Williams R'] = ((high-df['Adj Close'].iloc[-angka])/(high-low))*(-100)\n",
    "    dfpredict.drop('Adj Close', axis =1, inplace = True)\n",
    "    df2 = []\n",
    "    if xgboost.predict(pd.DataFrame(dfpredict.iloc[-1]).transpose())[0] == 'Loss':\n",
    "          df2.append([stock,\n",
    "                xgboost.predict(pd.DataFrame(dfpredict.iloc[-1]).transpose())[0],\n",
    "                pd.DataFrame(xgboost.predict_proba(pd.DataFrame(dfpredict.iloc[-1]).transpose()))[0][0],\n",
    "                accuracy_score(y_test,predictions),angka])\n",
    "    elif xgboost.predict(pd.DataFrame(dfpredict.iloc[-1]).transpose())[0] == 'Profit':\n",
    "          df2.append([stock,\n",
    "                xgboost.predict(pd.DataFrame(dfpredict.iloc[-1]).transpose())[0],\n",
    "                pd.DataFrame(xgboost.predict_proba(pd.DataFrame(dfpredict.iloc[-1]).transpose()))[1][0],\n",
    "                accuracy_score(y_test,predictions),angka])\n",
    "    return df2"
   ]
  },
  {
   "cell_type": "code",
   "execution_count": 83,
   "metadata": {
    "ExecuteTime": {
     "end_time": "2019-11-18T15:10:35.453596Z",
     "start_time": "2019-11-18T14:45:35.900364Z"
    },
    "scrolled": false
   },
   "outputs": [
    {
     "name": "stderr",
     "output_type": "stream",
     "text": [
      "C:\\Users\\Lenovo\\Anaconda3\\lib\\site-packages\\sklearn\\model_selection\\_split.py:1978: FutureWarning: The default value of cv will change from 3 to 5 in version 0.22. Specify it explicitly to silence this warning.\n",
      "  warnings.warn(CV_WARNING, FutureWarning)\n",
      "C:\\Users\\Lenovo\\Anaconda3\\lib\\site-packages\\sklearn\\model_selection\\_split.py:1978: FutureWarning: The default value of cv will change from 3 to 5 in version 0.22. Specify it explicitly to silence this warning.\n",
      "  warnings.warn(CV_WARNING, FutureWarning)\n",
      "C:\\Users\\Lenovo\\Anaconda3\\lib\\site-packages\\sklearn\\model_selection\\_split.py:1978: FutureWarning: The default value of cv will change from 3 to 5 in version 0.22. Specify it explicitly to silence this warning.\n",
      "  warnings.warn(CV_WARNING, FutureWarning)\n",
      "C:\\Users\\Lenovo\\Anaconda3\\lib\\site-packages\\sklearn\\model_selection\\_split.py:1978: FutureWarning: The default value of cv will change from 3 to 5 in version 0.22. Specify it explicitly to silence this warning.\n",
      "  warnings.warn(CV_WARNING, FutureWarning)\n",
      "C:\\Users\\Lenovo\\Anaconda3\\lib\\site-packages\\sklearn\\model_selection\\_split.py:1978: FutureWarning: The default value of cv will change from 3 to 5 in version 0.22. Specify it explicitly to silence this warning.\n",
      "  warnings.warn(CV_WARNING, FutureWarning)\n",
      "C:\\Users\\Lenovo\\Anaconda3\\lib\\site-packages\\sklearn\\model_selection\\_split.py:1978: FutureWarning: The default value of cv will change from 3 to 5 in version 0.22. Specify it explicitly to silence this warning.\n",
      "  warnings.warn(CV_WARNING, FutureWarning)\n",
      "C:\\Users\\Lenovo\\Anaconda3\\lib\\site-packages\\sklearn\\model_selection\\_split.py:1978: FutureWarning: The default value of cv will change from 3 to 5 in version 0.22. Specify it explicitly to silence this warning.\n",
      "  warnings.warn(CV_WARNING, FutureWarning)\n",
      "C:\\Users\\Lenovo\\Anaconda3\\lib\\site-packages\\sklearn\\model_selection\\_split.py:1978: FutureWarning: The default value of cv will change from 3 to 5 in version 0.22. Specify it explicitly to silence this warning.\n",
      "  warnings.warn(CV_WARNING, FutureWarning)\n",
      "C:\\Users\\Lenovo\\Anaconda3\\lib\\site-packages\\sklearn\\model_selection\\_split.py:1978: FutureWarning: The default value of cv will change from 3 to 5 in version 0.22. Specify it explicitly to silence this warning.\n",
      "  warnings.warn(CV_WARNING, FutureWarning)\n",
      "C:\\Users\\Lenovo\\Anaconda3\\lib\\site-packages\\sklearn\\model_selection\\_split.py:1978: FutureWarning: The default value of cv will change from 3 to 5 in version 0.22. Specify it explicitly to silence this warning.\n",
      "  warnings.warn(CV_WARNING, FutureWarning)\n",
      "C:\\Users\\Lenovo\\Anaconda3\\lib\\site-packages\\sklearn\\model_selection\\_split.py:1978: FutureWarning: The default value of cv will change from 3 to 5 in version 0.22. Specify it explicitly to silence this warning.\n",
      "  warnings.warn(CV_WARNING, FutureWarning)\n",
      "C:\\Users\\Lenovo\\Anaconda3\\lib\\site-packages\\sklearn\\model_selection\\_split.py:1978: FutureWarning: The default value of cv will change from 3 to 5 in version 0.22. Specify it explicitly to silence this warning.\n",
      "  warnings.warn(CV_WARNING, FutureWarning)\n",
      "C:\\Users\\Lenovo\\Anaconda3\\lib\\site-packages\\sklearn\\model_selection\\_split.py:1978: FutureWarning: The default value of cv will change from 3 to 5 in version 0.22. Specify it explicitly to silence this warning.\n",
      "  warnings.warn(CV_WARNING, FutureWarning)\n",
      "C:\\Users\\Lenovo\\Anaconda3\\lib\\site-packages\\sklearn\\model_selection\\_split.py:1978: FutureWarning: The default value of cv will change from 3 to 5 in version 0.22. Specify it explicitly to silence this warning.\n",
      "  warnings.warn(CV_WARNING, FutureWarning)\n",
      "C:\\Users\\Lenovo\\Anaconda3\\lib\\site-packages\\sklearn\\model_selection\\_split.py:1978: FutureWarning: The default value of cv will change from 3 to 5 in version 0.22. Specify it explicitly to silence this warning.\n",
      "  warnings.warn(CV_WARNING, FutureWarning)\n",
      "C:\\Users\\Lenovo\\Anaconda3\\lib\\site-packages\\sklearn\\model_selection\\_split.py:1978: FutureWarning: The default value of cv will change from 3 to 5 in version 0.22. Specify it explicitly to silence this warning.\n",
      "  warnings.warn(CV_WARNING, FutureWarning)\n",
      "C:\\Users\\Lenovo\\Anaconda3\\lib\\site-packages\\sklearn\\model_selection\\_split.py:1978: FutureWarning: The default value of cv will change from 3 to 5 in version 0.22. Specify it explicitly to silence this warning.\n",
      "  warnings.warn(CV_WARNING, FutureWarning)\n",
      "C:\\Users\\Lenovo\\Anaconda3\\lib\\site-packages\\sklearn\\model_selection\\_split.py:1978: FutureWarning: The default value of cv will change from 3 to 5 in version 0.22. Specify it explicitly to silence this warning.\n",
      "  warnings.warn(CV_WARNING, FutureWarning)\n",
      "C:\\Users\\Lenovo\\Anaconda3\\lib\\site-packages\\sklearn\\model_selection\\_split.py:1978: FutureWarning: The default value of cv will change from 3 to 5 in version 0.22. Specify it explicitly to silence this warning.\n",
      "  warnings.warn(CV_WARNING, FutureWarning)\n",
      "C:\\Users\\Lenovo\\Anaconda3\\lib\\site-packages\\sklearn\\model_selection\\_split.py:1978: FutureWarning: The default value of cv will change from 3 to 5 in version 0.22. Specify it explicitly to silence this warning.\n",
      "  warnings.warn(CV_WARNING, FutureWarning)\n",
      "C:\\Users\\Lenovo\\Anaconda3\\lib\\site-packages\\sklearn\\model_selection\\_split.py:1978: FutureWarning: The default value of cv will change from 3 to 5 in version 0.22. Specify it explicitly to silence this warning.\n",
      "  warnings.warn(CV_WARNING, FutureWarning)\n",
      "C:\\Users\\Lenovo\\Anaconda3\\lib\\site-packages\\sklearn\\model_selection\\_split.py:1978: FutureWarning: The default value of cv will change from 3 to 5 in version 0.22. Specify it explicitly to silence this warning.\n",
      "  warnings.warn(CV_WARNING, FutureWarning)\n",
      "C:\\Users\\Lenovo\\Anaconda3\\lib\\site-packages\\sklearn\\model_selection\\_split.py:1978: FutureWarning: The default value of cv will change from 3 to 5 in version 0.22. Specify it explicitly to silence this warning.\n",
      "  warnings.warn(CV_WARNING, FutureWarning)\n",
      "C:\\Users\\Lenovo\\Anaconda3\\lib\\site-packages\\sklearn\\model_selection\\_split.py:1978: FutureWarning: The default value of cv will change from 3 to 5 in version 0.22. Specify it explicitly to silence this warning.\n",
      "  warnings.warn(CV_WARNING, FutureWarning)\n",
      "C:\\Users\\Lenovo\\Anaconda3\\lib\\site-packages\\sklearn\\model_selection\\_split.py:1978: FutureWarning: The default value of cv will change from 3 to 5 in version 0.22. Specify it explicitly to silence this warning.\n",
      "  warnings.warn(CV_WARNING, FutureWarning)\n",
      "C:\\Users\\Lenovo\\Anaconda3\\lib\\site-packages\\sklearn\\model_selection\\_split.py:1978: FutureWarning: The default value of cv will change from 3 to 5 in version 0.22. Specify it explicitly to silence this warning.\n",
      "  warnings.warn(CV_WARNING, FutureWarning)\n",
      "C:\\Users\\Lenovo\\Anaconda3\\lib\\site-packages\\sklearn\\model_selection\\_split.py:1978: FutureWarning: The default value of cv will change from 3 to 5 in version 0.22. Specify it explicitly to silence this warning.\n",
      "  warnings.warn(CV_WARNING, FutureWarning)\n",
      "C:\\Users\\Lenovo\\Anaconda3\\lib\\site-packages\\sklearn\\model_selection\\_split.py:1978: FutureWarning: The default value of cv will change from 3 to 5 in version 0.22. Specify it explicitly to silence this warning.\n",
      "  warnings.warn(CV_WARNING, FutureWarning)\n",
      "C:\\Users\\Lenovo\\Anaconda3\\lib\\site-packages\\sklearn\\model_selection\\_split.py:1978: FutureWarning: The default value of cv will change from 3 to 5 in version 0.22. Specify it explicitly to silence this warning.\n",
      "  warnings.warn(CV_WARNING, FutureWarning)\n",
      "C:\\Users\\Lenovo\\Anaconda3\\lib\\site-packages\\sklearn\\model_selection\\_split.py:1978: FutureWarning: The default value of cv will change from 3 to 5 in version 0.22. Specify it explicitly to silence this warning.\n",
      "  warnings.warn(CV_WARNING, FutureWarning)\n",
      "C:\\Users\\Lenovo\\Anaconda3\\lib\\site-packages\\sklearn\\model_selection\\_split.py:1978: FutureWarning: The default value of cv will change from 3 to 5 in version 0.22. Specify it explicitly to silence this warning.\n",
      "  warnings.warn(CV_WARNING, FutureWarning)\n",
      "C:\\Users\\Lenovo\\Anaconda3\\lib\\site-packages\\sklearn\\model_selection\\_split.py:1978: FutureWarning: The default value of cv will change from 3 to 5 in version 0.22. Specify it explicitly to silence this warning.\n",
      "  warnings.warn(CV_WARNING, FutureWarning)\n",
      "C:\\Users\\Lenovo\\Anaconda3\\lib\\site-packages\\sklearn\\model_selection\\_split.py:1978: FutureWarning: The default value of cv will change from 3 to 5 in version 0.22. Specify it explicitly to silence this warning.\n",
      "  warnings.warn(CV_WARNING, FutureWarning)\n"
     ]
    },
    {
     "name": "stderr",
     "output_type": "stream",
     "text": [
      "C:\\Users\\Lenovo\\Anaconda3\\lib\\site-packages\\sklearn\\model_selection\\_split.py:1978: FutureWarning: The default value of cv will change from 3 to 5 in version 0.22. Specify it explicitly to silence this warning.\n",
      "  warnings.warn(CV_WARNING, FutureWarning)\n",
      "C:\\Users\\Lenovo\\Anaconda3\\lib\\site-packages\\sklearn\\model_selection\\_split.py:1978: FutureWarning: The default value of cv will change from 3 to 5 in version 0.22. Specify it explicitly to silence this warning.\n",
      "  warnings.warn(CV_WARNING, FutureWarning)\n",
      "C:\\Users\\Lenovo\\Anaconda3\\lib\\site-packages\\sklearn\\model_selection\\_split.py:1978: FutureWarning: The default value of cv will change from 3 to 5 in version 0.22. Specify it explicitly to silence this warning.\n",
      "  warnings.warn(CV_WARNING, FutureWarning)\n",
      "C:\\Users\\Lenovo\\Anaconda3\\lib\\site-packages\\sklearn\\model_selection\\_split.py:1978: FutureWarning: The default value of cv will change from 3 to 5 in version 0.22. Specify it explicitly to silence this warning.\n",
      "  warnings.warn(CV_WARNING, FutureWarning)\n",
      "C:\\Users\\Lenovo\\Anaconda3\\lib\\site-packages\\sklearn\\model_selection\\_split.py:1978: FutureWarning: The default value of cv will change from 3 to 5 in version 0.22. Specify it explicitly to silence this warning.\n",
      "  warnings.warn(CV_WARNING, FutureWarning)\n",
      "C:\\Users\\Lenovo\\Anaconda3\\lib\\site-packages\\sklearn\\model_selection\\_split.py:1978: FutureWarning: The default value of cv will change from 3 to 5 in version 0.22. Specify it explicitly to silence this warning.\n",
      "  warnings.warn(CV_WARNING, FutureWarning)\n",
      "C:\\Users\\Lenovo\\Anaconda3\\lib\\site-packages\\sklearn\\model_selection\\_split.py:1978: FutureWarning: The default value of cv will change from 3 to 5 in version 0.22. Specify it explicitly to silence this warning.\n",
      "  warnings.warn(CV_WARNING, FutureWarning)\n",
      "C:\\Users\\Lenovo\\Anaconda3\\lib\\site-packages\\sklearn\\model_selection\\_split.py:1978: FutureWarning: The default value of cv will change from 3 to 5 in version 0.22. Specify it explicitly to silence this warning.\n",
      "  warnings.warn(CV_WARNING, FutureWarning)\n",
      "C:\\Users\\Lenovo\\Anaconda3\\lib\\site-packages\\sklearn\\model_selection\\_split.py:1978: FutureWarning: The default value of cv will change from 3 to 5 in version 0.22. Specify it explicitly to silence this warning.\n",
      "  warnings.warn(CV_WARNING, FutureWarning)\n",
      "C:\\Users\\Lenovo\\Anaconda3\\lib\\site-packages\\sklearn\\model_selection\\_split.py:1978: FutureWarning: The default value of cv will change from 3 to 5 in version 0.22. Specify it explicitly to silence this warning.\n",
      "  warnings.warn(CV_WARNING, FutureWarning)\n",
      "C:\\Users\\Lenovo\\Anaconda3\\lib\\site-packages\\sklearn\\model_selection\\_split.py:1978: FutureWarning: The default value of cv will change from 3 to 5 in version 0.22. Specify it explicitly to silence this warning.\n",
      "  warnings.warn(CV_WARNING, FutureWarning)\n",
      "C:\\Users\\Lenovo\\Anaconda3\\lib\\site-packages\\sklearn\\model_selection\\_split.py:1978: FutureWarning: The default value of cv will change from 3 to 5 in version 0.22. Specify it explicitly to silence this warning.\n",
      "  warnings.warn(CV_WARNING, FutureWarning)\n",
      "C:\\Users\\Lenovo\\Anaconda3\\lib\\site-packages\\sklearn\\model_selection\\_split.py:1978: FutureWarning: The default value of cv will change from 3 to 5 in version 0.22. Specify it explicitly to silence this warning.\n",
      "  warnings.warn(CV_WARNING, FutureWarning)\n",
      "C:\\Users\\Lenovo\\Anaconda3\\lib\\site-packages\\sklearn\\model_selection\\_split.py:1978: FutureWarning: The default value of cv will change from 3 to 5 in version 0.22. Specify it explicitly to silence this warning.\n",
      "  warnings.warn(CV_WARNING, FutureWarning)\n",
      "C:\\Users\\Lenovo\\Anaconda3\\lib\\site-packages\\sklearn\\model_selection\\_split.py:1978: FutureWarning: The default value of cv will change from 3 to 5 in version 0.22. Specify it explicitly to silence this warning.\n",
      "  warnings.warn(CV_WARNING, FutureWarning)\n",
      "C:\\Users\\Lenovo\\Anaconda3\\lib\\site-packages\\sklearn\\model_selection\\_split.py:1978: FutureWarning: The default value of cv will change from 3 to 5 in version 0.22. Specify it explicitly to silence this warning.\n",
      "  warnings.warn(CV_WARNING, FutureWarning)\n",
      "C:\\Users\\Lenovo\\Anaconda3\\lib\\site-packages\\sklearn\\model_selection\\_split.py:1978: FutureWarning: The default value of cv will change from 3 to 5 in version 0.22. Specify it explicitly to silence this warning.\n",
      "  warnings.warn(CV_WARNING, FutureWarning)\n",
      "C:\\Users\\Lenovo\\Anaconda3\\lib\\site-packages\\sklearn\\model_selection\\_split.py:1978: FutureWarning: The default value of cv will change from 3 to 5 in version 0.22. Specify it explicitly to silence this warning.\n",
      "  warnings.warn(CV_WARNING, FutureWarning)\n",
      "C:\\Users\\Lenovo\\Anaconda3\\lib\\site-packages\\sklearn\\model_selection\\_split.py:1978: FutureWarning: The default value of cv will change from 3 to 5 in version 0.22. Specify it explicitly to silence this warning.\n",
      "  warnings.warn(CV_WARNING, FutureWarning)\n",
      "C:\\Users\\Lenovo\\Anaconda3\\lib\\site-packages\\sklearn\\model_selection\\_split.py:1978: FutureWarning: The default value of cv will change from 3 to 5 in version 0.22. Specify it explicitly to silence this warning.\n",
      "  warnings.warn(CV_WARNING, FutureWarning)\n",
      "C:\\Users\\Lenovo\\Anaconda3\\lib\\site-packages\\sklearn\\model_selection\\_split.py:1978: FutureWarning: The default value of cv will change from 3 to 5 in version 0.22. Specify it explicitly to silence this warning.\n",
      "  warnings.warn(CV_WARNING, FutureWarning)\n",
      "C:\\Users\\Lenovo\\Anaconda3\\lib\\site-packages\\sklearn\\model_selection\\_split.py:1978: FutureWarning: The default value of cv will change from 3 to 5 in version 0.22. Specify it explicitly to silence this warning.\n",
      "  warnings.warn(CV_WARNING, FutureWarning)\n",
      "C:\\Users\\Lenovo\\Anaconda3\\lib\\site-packages\\sklearn\\model_selection\\_split.py:1978: FutureWarning: The default value of cv will change from 3 to 5 in version 0.22. Specify it explicitly to silence this warning.\n",
      "  warnings.warn(CV_WARNING, FutureWarning)\n",
      "C:\\Users\\Lenovo\\Anaconda3\\lib\\site-packages\\sklearn\\model_selection\\_split.py:1978: FutureWarning: The default value of cv will change from 3 to 5 in version 0.22. Specify it explicitly to silence this warning.\n",
      "  warnings.warn(CV_WARNING, FutureWarning)\n",
      "C:\\Users\\Lenovo\\Anaconda3\\lib\\site-packages\\sklearn\\model_selection\\_split.py:1978: FutureWarning: The default value of cv will change from 3 to 5 in version 0.22. Specify it explicitly to silence this warning.\n",
      "  warnings.warn(CV_WARNING, FutureWarning)\n",
      "C:\\Users\\Lenovo\\Anaconda3\\lib\\site-packages\\sklearn\\model_selection\\_split.py:1978: FutureWarning: The default value of cv will change from 3 to 5 in version 0.22. Specify it explicitly to silence this warning.\n",
      "  warnings.warn(CV_WARNING, FutureWarning)\n",
      "C:\\Users\\Lenovo\\Anaconda3\\lib\\site-packages\\sklearn\\model_selection\\_split.py:1978: FutureWarning: The default value of cv will change from 3 to 5 in version 0.22. Specify it explicitly to silence this warning.\n",
      "  warnings.warn(CV_WARNING, FutureWarning)\n",
      "C:\\Users\\Lenovo\\Anaconda3\\lib\\site-packages\\sklearn\\model_selection\\_split.py:1978: FutureWarning: The default value of cv will change from 3 to 5 in version 0.22. Specify it explicitly to silence this warning.\n",
      "  warnings.warn(CV_WARNING, FutureWarning)\n",
      "C:\\Users\\Lenovo\\Anaconda3\\lib\\site-packages\\sklearn\\model_selection\\_split.py:1978: FutureWarning: The default value of cv will change from 3 to 5 in version 0.22. Specify it explicitly to silence this warning.\n",
      "  warnings.warn(CV_WARNING, FutureWarning)\n"
     ]
    },
    {
     "data": {
      "text/html": [
       "<div>\n",
       "<style scoped>\n",
       "    .dataframe tbody tr th:only-of-type {\n",
       "        vertical-align: middle;\n",
       "    }\n",
       "\n",
       "    .dataframe tbody tr th {\n",
       "        vertical-align: top;\n",
       "    }\n",
       "\n",
       "    .dataframe thead th {\n",
       "        text-align: right;\n",
       "    }\n",
       "</style>\n",
       "<table border=\"1\" class=\"dataframe\">\n",
       "  <thead>\n",
       "    <tr style=\"text-align: right;\">\n",
       "      <th></th>\n",
       "      <th>Stocks</th>\n",
       "      <th>Prediction</th>\n",
       "      <th>Probability</th>\n",
       "      <th>Accuracy</th>\n",
       "      <th>Best Time</th>\n",
       "    </tr>\n",
       "  </thead>\n",
       "  <tbody>\n",
       "    <tr>\n",
       "      <th>0</th>\n",
       "      <td>ADHI.JK</td>\n",
       "      <td>Profit</td>\n",
       "      <td>0.572951</td>\n",
       "      <td>0.717949</td>\n",
       "      <td>24</td>\n",
       "    </tr>\n",
       "    <tr>\n",
       "      <th>1</th>\n",
       "      <td>ADRO.JK</td>\n",
       "      <td>Profit</td>\n",
       "      <td>0.663573</td>\n",
       "      <td>0.717949</td>\n",
       "      <td>30</td>\n",
       "    </tr>\n",
       "  </tbody>\n",
       "</table>\n",
       "</div>"
      ],
      "text/plain": [
       "    Stocks Prediction  Probability  Accuracy  Best Time\n",
       "0  ADHI.JK     Profit     0.572951  0.717949         24\n",
       "1  ADRO.JK     Profit     0.663573  0.717949         30"
      ]
     },
     "execution_count": 83,
     "metadata": {},
     "output_type": "execute_result"
    }
   ],
   "source": [
    "df3 = []\n",
    "\n",
    "lq45 = ['ADHI.JK','ADRO.JK']\n",
    "for i in range(len(lq45)):\n",
    "    df3.append(modelnextlevel(lq45[i])[0])\n",
    "pd.DataFrame(df3, columns = ['Stocks', 'Prediction', 'Probability', 'Accuracy', 'Best Time'])\n"
   ]
  },
  {
   "cell_type": "code",
   "execution_count": null,
   "metadata": {},
   "outputs": [],
   "source": []
  }
 ],
 "metadata": {
  "kernelspec": {
   "display_name": "Python 3",
   "language": "python",
   "name": "python3"
  },
  "language_info": {
   "codemirror_mode": {
    "name": "ipython",
    "version": 3
   },
   "file_extension": ".py",
   "mimetype": "text/x-python",
   "name": "python",
   "nbconvert_exporter": "python",
   "pygments_lexer": "ipython3",
   "version": "3.7.3"
  }
 },
 "nbformat": 4,
 "nbformat_minor": 2
}
